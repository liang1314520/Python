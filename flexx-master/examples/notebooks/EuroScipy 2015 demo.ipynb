{
 "cells": [
  {
   "cell_type": "markdown",
   "metadata": {},
   "source": [
    "This is the demo that I used during the EuroScipy 2015 talk on Flexx."
   ]
  },
  {
   "cell_type": "markdown",
   "metadata": {},
   "source": [
    "# flexx.webruntime"
   ]
  },
  {
   "cell_type": "markdown",
   "metadata": {},
   "source": [
    "Launch a web runtime. Can be a browser or something that looks like a desktop app."
   ]
  },
  {
   "cell_type": "code",
   "execution_count": null,
   "metadata": {
    "collapsed": false
   },
   "outputs": [],
   "source": [
    "from flexx.webruntime import launch\n",
    "rt = launch('http://flexx.rtfd.org', 'xul', title='Test title')"
   ]
  },
  {
   "cell_type": "markdown",
   "metadata": {},
   "source": [
    "# flexx.pyscript"
   ]
  },
  {
   "cell_type": "code",
   "execution_count": null,
   "metadata": {
    "collapsed": true
   },
   "outputs": [],
   "source": [
    "from flexx.pyscript import py2js"
   ]
  },
  {
   "cell_type": "code",
   "execution_count": null,
   "metadata": {
    "collapsed": false
   },
   "outputs": [],
   "source": [
    "print(py2js('square = lambda x: x**2'))"
   ]
  },
  {
   "cell_type": "code",
   "execution_count": null,
   "metadata": {
    "collapsed": false
   },
   "outputs": [],
   "source": [
    "def foo(n):\n",
    "    res = []\n",
    "    for i in range(n):\n",
    "        res.append(i**2)\n",
    "    return res\n",
    "print(py2js(foo))"
   ]
  },
  {
   "cell_type": "code",
   "execution_count": null,
   "metadata": {
    "collapsed": false
   },
   "outputs": [],
   "source": [
    "def foo(n):\n",
    "    return [i**2 for i in range(n)]\n",
    "print(py2js(foo))"
   ]
  },
  {
   "cell_type": "markdown",
   "metadata": {},
   "source": [
    "# flexx.react"
   ]
  },
  {
   "cell_type": "markdown",
   "metadata": {},
   "source": [
    "Reactive programming uses signals to communicate between different components of an app, and provides easy ways to react to changes in the values of these signals.\n",
    "\n",
    "\n",
    "The API for flexx.react consists of a few decorators to turn functions into signals. One signal is the input signal."
   ]
  },
  {
   "cell_type": "code",
   "execution_count": null,
   "metadata": {
    "collapsed": true
   },
   "outputs": [],
   "source": [
    "from flexx import react"
   ]
  },
  {
   "cell_type": "code",
   "execution_count": null,
   "metadata": {
    "collapsed": true
   },
   "outputs": [],
   "source": [
    "@react.input\n",
    "def name(n='john doe'):\n",
    "    if not isinstance(n, str):\n",
    "        raise ValueError('Name must be a string')\n",
    "    return n.capitalize()"
   ]
  },
  {
   "cell_type": "code",
   "execution_count": null,
   "metadata": {
    "collapsed": false
   },
   "outputs": [],
   "source": [
    "name"
   ]
  },
  {
   "cell_type": "code",
   "execution_count": null,
   "metadata": {
    "collapsed": false
   },
   "outputs": [],
   "source": [
    "@react.connect('name')\n",
    "def greet(n):\n",
    "    print('hello %s' % n)"
   ]
  },
  {
   "cell_type": "code",
   "execution_count": null,
   "metadata": {
    "collapsed": false
   },
   "outputs": [],
   "source": [
    "name(\"almar klein\")"
   ]
  },
  {
   "cell_type": "markdown",
   "metadata": {},
   "source": [
    "A signal can have multiple upstream signals."
   ]
  },
  {
   "cell_type": "code",
   "execution_count": null,
   "metadata": {
    "collapsed": false
   },
   "outputs": [],
   "source": [
    "@react.connect('first_name', 'last_name')\n",
    "def greet(first, last):\n",
    "    print('hello %s %s!' % (first, last))"
   ]
  },
  {
   "cell_type": "markdown",
   "metadata": {},
   "source": [
    "*Dynamism* provides great flexibility"
   ]
  },
  {
   "cell_type": "code",
   "execution_count": null,
   "metadata": {
    "collapsed": true
   },
   "outputs": [],
   "source": [
    "class Person(react.HasSignals):\n",
    "    \n",
    "    @react.input\n",
    "    def father(f):\n",
    "        assert isinstance(f, Person)\n",
    "        return f\n",
    "\n",
    "    @react.connect('father.last_name')\n",
    "    def last_name(s):\n",
    "        return s\n",
    "    \n",
    "    @react.connect('children.*.name')\n",
    "    def child_names(*names):\n",
    "        return ', '.join(name)"
   ]
  },
  {
   "cell_type": "markdown",
   "metadata": {},
   "source": [
    "# flexx.app"
   ]
  },
  {
   "cell_type": "code",
   "execution_count": null,
   "metadata": {
    "collapsed": false
   },
   "outputs": [],
   "source": [
    "from flexx import app, react\n",
    "app.init_notebook()"
   ]
  },
  {
   "cell_type": "code",
   "execution_count": null,
   "metadata": {
    "collapsed": false
   },
   "outputs": [],
   "source": [
    "class Greeter(app.Pair):\n",
    "    \n",
    "    @react.input\n",
    "    def name(s):\n",
    "        return str(s)\n",
    "    \n",
    "    class JS:\n",
    "        \n",
    "        @react.connect('name')\n",
    "        def _greet(name):\n",
    "            alert('Hello %s!' % name)"
   ]
  },
  {
   "cell_type": "code",
   "execution_count": null,
   "metadata": {
    "collapsed": false
   },
   "outputs": [],
   "source": [
    "greeter = Greeter()"
   ]
  },
  {
   "cell_type": "code",
   "execution_count": null,
   "metadata": {
    "collapsed": false
   },
   "outputs": [],
   "source": [
    "greeter.name('John')"
   ]
  }
 ],
 "metadata": {
  "kernelspec": {
   "display_name": "Python 3",
   "language": "python",
   "name": "python3"
  },
  "language_info": {
   "codemirror_mode": {
    "name": "ipython",
    "version": 3
   },
   "file_extension": ".py",
   "mimetype": "text/x-python",
   "name": "python",
   "nbconvert_exporter": "python",
   "pygments_lexer": "ipython3",
   "version": "3.4.3"
  }
 },
 "nbformat": 4,
 "nbformat_minor": 0
}
