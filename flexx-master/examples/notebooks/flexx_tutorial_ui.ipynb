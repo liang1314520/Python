{
 "cells": [
  {
   "cell_type": "markdown",
   "metadata": {},
   "source": [
    "# Tutorial for flexx.ui - creating widgets and user interfaces"
   ]
  },
  {
   "cell_type": "code",
   "execution_count": 1,
   "metadata": {
    "collapsed": false
   },
   "outputs": [
    {
     "name": "stdout",
     "output_type": "stream",
     "text": [
      "Serving apps at http://localhost:54307/\n"
     ]
    },
    {
     "data": {
      "text/html": [
       "<i>Injecting Flexx JS and CSS</i><style>\n",
       "\n",
       "\n",
       "\n",
       "    \n",
       "    .flx-container {\n",
       "        min-height: 10px; /* splitter sets its own minsize if contained */\n",
       "    }\n",
       "    \n",
       "    .flx-widget {\n",
       "        box-sizing: border-box;\n",
       "        white-space: nowrap;\n",
       "        overflow: hidden;\n",
       "    }\n",
       "    \n",
       "    .flx-main-widget {\n",
       "       width: 100%;\n",
       "       height: 100%;\n",
       "    }\n",
       "    \n",
       "    \n",
       "\n",
       "\n",
       "    \n",
       "    html {\n",
       "        /* set height, so body can have height, and the first layout too */\n",
       "        height: 100%;  \n",
       "    }\n",
       "    \n",
       "    body {\n",
       "        /* Set height so the first layout can fill whole window */\n",
       "        height: 100%;\n",
       "        margin: 0px;\n",
       "    }\n",
       "    \n",
       "    .flx-layout {\n",
       "        /* sizing of widgets/layouts inside layout is defined per layout */\n",
       "        width: 100%;\n",
       "        height: 100%;\n",
       "        margin: 0px;\n",
       "        padding: 0px;\n",
       "        border-spacing: 0px;\n",
       "        border: 0px;\n",
       "    }\n",
       "    \n",
       "    \n",
       "\n",
       "\n",
       "    .flx-hbox, .flx-vbox {\n",
       "        display: -webkit-flex;\n",
       "        display: -ms-flexbox;  /* IE 10 */\n",
       "        display: -ms-flex;     /* IE 11 */\n",
       "        display: -moz-flex;\n",
       "        display: flex;\n",
       "        \n",
       "        justify-content: stretch;  /* start, end, center, space-between, space-around */\n",
       "        align-items: stretch;\n",
       "        align-content: stretch;\n",
       "    }\n",
       "    \n",
       "    /*\n",
       "    .box-align-center { -webkit-align-items: center; -ms-align-items: center; -moz-align-items: center; align-items: center; }\n",
       "    .box-align-center { -webkit-align-items: center; -ms-align-items: center; -moz-align-items: center; align-items: center; }\n",
       "    */\n",
       "    \n",
       "    /* Make child widgets (and layouts) size correctly */\n",
       "    .flx-hbox > .flx-widget {\n",
       "        height: 100%;\n",
       "        width: auto;\n",
       "    }\n",
       "    .flx-vbox > .flx-widget {\n",
       "        width: 100%;\n",
       "        height: auto;\n",
       "    }\n",
       "    \n",
       "\n",
       "\n",
       "    .flx-hbox {\n",
       "        -webkit-flex-flow: row;\n",
       "        -ms-flex-flow: row;\n",
       "        -moz-flex-flow: row;\n",
       "        flex-flow: row;\n",
       "        width: 100%;\n",
       "        /*border: 1px dashed #44e;*/\n",
       "    }\n",
       "    \n",
       "\n",
       "\n",
       "    .flx-vbox {\n",
       "        -webkit-flex-flow: column;\n",
       "        -ms-flex-flow: column;\n",
       "        -moz-flex-flow: column;\n",
       "        flex-flow: column;\n",
       "        height: 100%;\n",
       "        width: 100%;\n",
       "        /*border: 1px dashed #e44;*/\n",
       "    }\n",
       "    \n",
       "\n",
       "\n",
       "    \n",
       "    /* Behave nice in the notebook */\n",
       "    /* todo: give all widgets min-height property that is 20px for hslitter and 50 for vsplitter */\n",
       "    .flx-container > .flx-hsplitter {\n",
       "       min-height: 30px;\n",
       "    }\n",
       "    .flx-container > .flx-vsplitter {\n",
       "       min-height: 200px;\n",
       "    }\n",
       "    \n",
       "    /* Make child widget size ok */\n",
       "    .flx-hsplitter > .flx-splitter-container > .flx-widget {\n",
       "        width: auto;\n",
       "        height: 100%;\n",
       "    }\n",
       "    .flx-vsplitter > .flx-splitter-container > .flx-widget {\n",
       "        height: auto;\n",
       "        width: 100%;\n",
       "    }\n",
       "    \n",
       "    flx-splitter-container > .flx-splitter {\n",
       "        height: auto;\n",
       "        width: auto;\n",
       "    }\n",
       "    \n",
       "    .flx-splitter > .flx-splitter-container {\n",
       "        /* width and heigth set by JS. This is a layout boundary \n",
       "        http://wilsonpage.co.uk/introducing-layout-boundaries/ */\n",
       "        overflow: hidden;\n",
       "        position: absolute;\n",
       "        background: #fcc;\n",
       "        top: 0px;\n",
       "        left: 0px;    \n",
       "    }\n",
       "    \n",
       "    .flx-hsplitter > .flx-splitter-container > .flx-widget {\n",
       "        position: absolute;\n",
       "        height: 100%;\n",
       "    }\n",
       "    .flx-vsplitter > .flx-splitter-container > .flx-widget {\n",
       "        position: absolute;\n",
       "        width: 100%;\n",
       "    }\n",
       "    \n",
       "    .flx-hsplitter > .flx-splitter-container > .flx-splitter-divider, \n",
       "    .flx-hsplitter > .flx-splitter-container > .flx-splitter-handle {\n",
       "        position: absolute;\n",
       "        cursor: ew-resize;\n",
       "        top: 0px;\n",
       "        width: 6px; /* overridden in JS */\n",
       "        height: 100%;\n",
       "    }\n",
       "    .flx-vsplitter > .flx-splitter-container > .flx-splitter-divider,\n",
       "    .flx-vsplitter > .flx-splitter-container > .flx-splitter-handle {\n",
       "        position: absolute;\n",
       "        cursor: ns-resize;\n",
       "        left: 0px;\n",
       "        height: 6px; /* overridden in JS */\n",
       "        width: 100%;\n",
       "    }\n",
       "    \n",
       "    /* this does not work well with keeping resize events propagation\n",
       "    .dotransition > .flx-widget, .dotransition > .flx-splitter-divider {\n",
       "        transition: left 0.3s, width 0.3s, right 0.3s;\n",
       "    }\n",
       "    */\n",
       "    \n",
       "    .flx-splitter-divider {\n",
       "        background: #eee;    \n",
       "        z-index: 998;\n",
       "    }\n",
       "    \n",
       "    .flx-splitter-handle {    \n",
       "        background: none;    \n",
       "        box-shadow:  0px 0px 12px #777;\n",
       "        z-index: 999;\n",
       "        opacity: 0;\n",
       "        pointer-events: none;\n",
       "        transition: opacity 0.5s;\n",
       "    }\n",
       "    \n",
       "    \n",
       "\n",
       "\n",
       "\n",
       "\n",
       "\n",
       "\n",
       "    \n",
       "    /* Clear any styling on this table (rendered_html is an IPython thing) */\n",
       "    .flx-basetablelayout, .flx-basetablelayout td, .flx-basetablelayout tr,\n",
       "    .rendered_html .flx-basetablelayout {\n",
       "        border: 0px;\n",
       "        padding: initial;\n",
       "        margin: initial;\n",
       "        background: initial;\n",
       "    }\n",
       "    \n",
       "    /* Behave well inside hbox/vbox, \n",
       "       we assume no layouts to be nested inside a table layout */\n",
       "    .flx-hbox > .flx-basetablelayout {\n",
       "        width: auto;\n",
       "    }\n",
       "    .flx-vbox > .flx-basetablelayout {\n",
       "        height: auto;\n",
       "    }\n",
       "\n",
       "    /* In flexed cells, occupy the full space */\n",
       "    td.vflex > .flx-widget {\n",
       "        height: 100%;\n",
       "    }\n",
       "    td.hflex > .flx-widget {\n",
       "        width: 100%;\n",
       "    }\n",
       "    \n",
       "\n",
       "\n",
       "    .flx-formlayout > tr > td > .flx-label {\n",
       "        text-align: right;\n",
       "    }\n",
       "    \n",
       "\n",
       "\n",
       "\n",
       "\n",
       "    .flx-pinboardlayout-xxxxx {\n",
       "        position: relative;\n",
       "    }\n",
       "    .flx-pinboardlayout > .flx-widget {\n",
       "        position: absolute;\n",
       "    }\n",
       "    \n",
       "\n",
       "\n",
       "    .flx-button-xxx {\n",
       "        background: #fee;\n",
       "    }\n",
       "    \n",
       "\n",
       ".flx-slider {min-height: 30px;}\n",
       "\n",
       "\n",
       "\n",
       ".flx-label { border: 0px solid #454; }\n",
       "\n",
       "\n",
       "\n",
       ".flx-progressbar {min-height: 10px;}\n",
       "\n",
       "flx-plotwidget {min-width: 300px; min-height: 200px;}\n",
       "\n",
       "\n",
       "</style>\n",
       "<script>\n",
       "\"use strict\";\n",
       "\n",
       "var FlexxJS;\n",
       "var _truthy = function (v) {if (v === null || typeof v !== \"object\") {return v;} else if (v.length !== undefined) {return v.length ? v : false;} else if (v.byteLength !== undefined) {return v.byteLength ? v : false;} else {return Object.getOwnPropertyNames(v).length ? v : false;}};\n",
       "FlexxJS = function () {\n",
       "    // JavaScript Flexx module. This provides the connection between\n",
       "    // the Python and JS (via a websocket).\n",
       "    if (this.__init__) {\n",
       "       this.__init__.apply(this, arguments);\n",
       "    }\n",
       "};\n",
       "FlexxJS.prototype._base_class = Object;\n",
       "\n",
       "\n",
       "FlexxJS.prototype.__init__ = function () {\n",
       "    this.ws = null;\n",
       "    this.last_msg = null;\n",
       "    this.is_notebook = false;\n",
       "    this.ws_url = 'ws://' + location.hostname + ':' + location.port + '/' + location.pathname + '/ws';\n",
       "    this.is_exported = false;\n",
       "    this.classes = {};\n",
       "    this.instances = {};\n",
       "    if ((typeof(window) === 'undefined') && (typeof(module) === 'object')) {\n",
       "        this._global = root;\n",
       "        this.nodejs = true;\n",
       "        root.setTimeout(this.init, 1);\n",
       "        process.on('exit', this.exit, false);\n",
       "        process.on('SIGINT', this.exit, false);\n",
       "        root.setTimeout(this.exit, 10000000);\n",
       "    } else {\n",
       "        this._global = window;\n",
       "        window.addEventListener('load', this.init, false);\n",
       "        window.addEventListener('beforeunload', this.exit, false);\n",
       "    }\n",
       "    return null;\n",
       "};\n",
       "\n",
       "FlexxJS.prototype.init = function () {\n",
       "    // Called after document is loaded.\n",
       "    if (_truthy(flexx.is_exported)) {\n",
       "        flexx.runExportedApp();\n",
       "    } else if (_truthy(flexx.is_notebook) && (!_truthy(window.IPython) && _truthy(window.IPython.notebook) && _truthy(window.IPython.notebook.session))) {\n",
       "        console.log('Hey, I am in an exported notebook!');\n",
       "    } else {\n",
       "        flexx.initSocket();\n",
       "        flexx.initLogging();\n",
       "    }\n",
       "    return null;\n",
       "};\n",
       "\n",
       "FlexxJS.prototype.exit = function () {\n",
       "    // Called when runtime is about to quit.\n",
       "    if (_truthy(this.ws)) {\n",
       "        this.ws.close();\n",
       "        this.ws = null;\n",
       "    }\n",
       "    return null;\n",
       "};\n",
       "\n",
       "FlexxJS.prototype.get = function (id) {\n",
       "    // Get instance of a Pair class.\n",
       "    if (id == 'body') {\n",
       "        return document.body;\n",
       "    } else {\n",
       "        return this.instances[id];\n",
       "    }\n",
       "    return null;\n",
       "};\n",
       "\n",
       "FlexxJS.prototype.initSocket = function () {\n",
       "    var WebSocket, err_3, err_4, on_ws_close, on_ws_error, on_ws_message, on_ws_open, ws;\n",
       "    // Make the connection to Python.\n",
       "    if (_truthy(this.nodejs)) {\n",
       "        try {\n",
       "            WebSocket = require('ws');\n",
       "        } catch(err_3) {\n",
       "            {\n",
       "                throw \"FAIL: you need to 'npm install -g ws'.\";\n",
       "            }\n",
       "        }\n",
       "    } else {\n",
       "        WebSocket = window.WebSocket;\n",
       "        if (window.WebSocket === undefined) {\n",
       "            document.body.innerHTML = 'This browser does not support WebSockets';\n",
       "            throw 'FAIL: need websocket';\n",
       "        }\n",
       "    }\n",
       "    this.ws = ws = new WebSocket(flexx.ws_url);\n",
       "    ws.binaryType = 'arraybuffer';\n",
       "    on_ws_open = function (evt) {\n",
       "        console.info('Socket connected');\n",
       "        return null;\n",
       "    };\n",
       "\n",
       "    on_ws_message = function (evt) {\n",
       "        var msg;\n",
       "        flexx.last_msg = _truthy(evt.data) || _truthy(evt);\n",
       "        msg = flexx.decodeUtf8(flexx.last_msg);\n",
       "        flexx.command(msg);\n",
       "        return null;\n",
       "    };\n",
       "\n",
       "    on_ws_close = function (evt) {\n",
       "        var msg;\n",
       "        this.ws = null;\n",
       "        msg = 'Lost connection with server';\n",
       "        if (_truthy(evt) && _truthy(evt.reason)) {\n",
       "            msg += ': ' + evt.reason + ' (' + evt.code + ')'\n",
       "        }\n",
       "        if ((!_truthy(flexx.is_notebook)) && (!_truthy(this.nodejs))) {\n",
       "            document.body.innerHTML = msg;\n",
       "        } else {\n",
       "            console.info(msg);\n",
       "        }\n",
       "        return null;\n",
       "    };\n",
       "\n",
       "    on_ws_error = function (evt) {\n",
       "        this.ws = null;\n",
       "        if (_truthy(flexx.is_notebook)) {\n",
       "            console.error('Socket error: re-run flexx.app.init_socket() to connect.');\n",
       "        } else {\n",
       "            console.error('Socket error');\n",
       "        }\n",
       "        return null;\n",
       "    };\n",
       "\n",
       "    if (_truthy(this.nodejs)) {\n",
       "        ws.on('open', on_ws_open);\n",
       "        ws.on('message', on_ws_message);\n",
       "        ws.on('close', on_ws_close);\n",
       "        ws.on('error', on_ws_error);\n",
       "    } else {\n",
       "        ws.onopen = on_ws_open;\n",
       "        ws.onmessage = on_ws_message;\n",
       "        ws.onclose = on_ws_close;\n",
       "        ws.onerror = on_ws_error;\n",
       "    }\n",
       "    return null;\n",
       "};\n",
       "\n",
       "FlexxJS.prototype.initLogging = function () {\n",
       "    var error, info, log, on_error, warn;\n",
       "    // Setup logging so that messages are proxied to Python.\n",
       "    if (_truthy(console.ori_log)) {\n",
       "        return null;\n",
       "    }\n",
       "    console.ori_log = console.log;\n",
       "    console.ori_info = _truthy(console.info) || _truthy(console.log);\n",
       "    console.ori_warn = _truthy(console.warn) || _truthy(console.log);\n",
       "    console.ori_error = _truthy(console.error) || _truthy(console.log);\n",
       "    log = function (msg) {\n",
       "        console.ori_log(msg);\n",
       "        if (flexx.ws !== null) {\n",
       "            flexx.ws.send('PRINT ' + msg);\n",
       "        }\n",
       "        return null;\n",
       "    };\n",
       "\n",
       "    info = function (msg) {\n",
       "        console.ori_info(msg);\n",
       "        if (flexx.ws !== null) {\n",
       "            flexx.ws.send('INFO ' + msg);\n",
       "        }\n",
       "        return null;\n",
       "    };\n",
       "\n",
       "    warn = function (msg) {\n",
       "        console.ori_warn(msg);\n",
       "        if (flexx.ws !== null) {\n",
       "            flexx.ws.send('WARN ' + msg);\n",
       "        }\n",
       "        return null;\n",
       "    };\n",
       "\n",
       "    error = function (msg) {\n",
       "        console.ori_error(msg);\n",
       "        if (flexx.ws !== null) {\n",
       "            flexx.ws.send('ERROR ' + msg);\n",
       "        }\n",
       "        return null;\n",
       "    };\n",
       "\n",
       "    on_error = function (evt) {\n",
       "        var msg;\n",
       "        msg = evt;\n",
       "        if (_truthy(evt.message) && _truthy(evt.lineno)) {\n",
       "            msg = 'On line ' + evt.lineno + ' in ' + evt.filename + ':\\n' + evt.message + '';\n",
       "        } else if (_truthy(evt.stack)) {\n",
       "            msg = evt.stack;\n",
       "        }\n",
       "        if (flexx.ws !== null) {\n",
       "            flexx.ws.send('ERROR ' + msg);\n",
       "        }\n",
       "        return null;\n",
       "    };\n",
       "\n",
       "    console.log = log;\n",
       "    console.info = info;\n",
       "    console.warn = warn;\n",
       "    console.error = error;\n",
       "    if (_truthy(this.nodejs)) {\n",
       "        process.on('uncaughtException', on_error, false);\n",
       "    } else {\n",
       "        window.addEventListener('error', on_error, false);\n",
       "    }\n",
       "    return null;\n",
       "};\n",
       "\n",
       "FlexxJS.prototype.command = function (msg) {\n",
       "    var el, link;\n",
       "    // Execute a command received from the server.\n",
       "    if (msg.indexOf('PRINT ') == 0) {\n",
       "        console.ori_log(msg.slice(6));\n",
       "    } else if (msg.indexOf('EVAL ') == 0) {\n",
       "        this._global._ = eval(msg.slice(5));\n",
       "        flexx.ws.send('RET ' + this._global._);\n",
       "    } else if (msg.indexOf('EXEC ') == 0) {\n",
       "        eval(msg.slice(5));\n",
       "    } else if (msg.indexOf('DEFINE-JS ') == 0) {\n",
       "        eval(msg.slice(10));\n",
       "    } else if (msg.indexOf('DEFINE-CSS ') == 0) {\n",
       "        el = document.createElement('style');\n",
       "        el.type = 'text/css';\n",
       "        el.innerHTML = msg.slice(11);\n",
       "        document.body.appendChild(el);\n",
       "    } else if (msg.indexOf('TITLE ') == 0) {\n",
       "        if (!_truthy(this.nodejs)) {\n",
       "            document.title = msg.slice(6);\n",
       "        }\n",
       "    } else if (msg.indexOf('ICON ') == 0) {\n",
       "        if (!_truthy(this.nodejs)) {\n",
       "            link = document.createElement('link');\n",
       "            link.rel = 'icon';\n",
       "            link.href = msg.slice(5);\n",
       "            document.head.appendChild(link);\n",
       "        }\n",
       "    } else if (msg.indexOf('OPEN ') == 0) {\n",
       "        window.win1 = window.open(msg.slice(5), 'new', 'chrome');\n",
       "    } else {\n",
       "        console.warn(('Invalid command: \"' + msg) + '\"');\n",
       "    }\n",
       "    return null;\n",
       "};\n",
       "\n",
       "FlexxJS.prototype.decodeUtf8 = function (arrayBuffer) {\n",
       "    var result = \"\",\n",
       "            i = 0,\n",
       "            c = 0,\n",
       "            c1 = 0,\n",
       "            c2 = 0,\n",
       "            c3 = 0,\n",
       "            data = new Uint8Array(arrayBuffer);\n",
       "    \n",
       "        // If we have a BOM skip it\n",
       "        if (data.length >= 3 && data[0] === 0xef && data[1] === 0xbb && data[2] === 0xbf) {\n",
       "            i = 3;\n",
       "        }\n",
       "    \n",
       "        while (i < data.length) {\n",
       "            c = data[i];\n",
       "    \n",
       "            if (c < 128) {\n",
       "                result += String.fromCharCode(c);\n",
       "                i += 1;\n",
       "            } else if (c > 191 && c < 224) {\n",
       "                if (i + 1 >= data.length) {\n",
       "                    throw \"UTF-8 Decode failed. Two byte character was truncated.\";\n",
       "                }\n",
       "                c2 = data[i + 1];\n",
       "                result += String.fromCharCode(((c & 31) << 6) | (c2 & 63));\n",
       "                i += 2;\n",
       "            } else {\n",
       "                if (i + 2 >= data.length) {\n",
       "                    throw \"UTF-8 Decode failed. Multi byte character was truncated.\";\n",
       "                }\n",
       "                c2 = data[i + 1];\n",
       "                c3 = data[i + 2];\n",
       "                result += String.fromCharCode(((c & 15) << 12) | ((c2 & 63) << 6) | (c3 & 63));\n",
       "                i += 3;\n",
       "            }\n",
       "        }\n",
       "        return result;\n",
       "};\n",
       "\n",
       "\n",
       "\n",
       "var flexx = new FlexxJS();\n",
       "\n",
       "\n",
       "flexx.Serializer = function () {\n",
       "    if (this.__init__) {\n",
       "       this.__init__.apply(this, arguments);\n",
       "    }\n",
       "};\n",
       "flexx.Serializer.prototype._base_class = Object;\n",
       "\n",
       "\n",
       "flexx.Serializer.prototype.__init__ = function () {\n",
       "    var _replacer, _reviver, _revivers, add_reviver, loads, saves;\n",
       "    this._revivers = _revivers = {};\n",
       "    loads = function (text) {\n",
       "        return JSON.parse(text, _reviver);\n",
       "    };\n",
       "\n",
       "    saves = function (obj) {\n",
       "        return JSON.stringify(obj, _replacer);\n",
       "    };\n",
       "\n",
       "    add_reviver = function (type_name, func) {\n",
       "        if (!(({}).toString.call(type_name).match(/\\s([a-zA-Z]+)/)[1].toLowerCase() === 'string')) {throw \"AssertionError: ({}).toString.call(type_name).match(/\\s([a-zA-Z]+)/)[1].toLowerCase() === 'string'\";}\n",
       "        _revivers[type_name] = func;\n",
       "        return null;\n",
       "    };\n",
       "\n",
       "    _reviver = function (dct, val) {\n",
       "        var dummy1_, func, type;\n",
       "        val = (val === undefined) ? undefined: val;\n",
       "        if (val !== undefined) {\n",
       "            dct = val;\n",
       "        }\n",
       "        if (({}).toString.call(dct).match(/\\s([a-zA-Z]+)/)[1].toLowerCase() === 'object') {\n",
       "            type = (/*py-dict.get*/typeof dct.get===\"function\" ? dct.get('__type__', null) : (dct['__type__'] || null));\n",
       "            if (type !== null) {\n",
       "                func = (/*py-dict.get*/typeof (dummy1_=_revivers).get===\"function\" ? dummy1_.get(type, null) : (dummy1_[type] || null));\n",
       "                if (func !== null) {\n",
       "                    return func(dct);\n",
       "                }\n",
       "            }\n",
       "        }\n",
       "        return dct;\n",
       "    };\n",
       "\n",
       "    _replacer = function (obj, val) {\n",
       "        var err_5;\n",
       "        val = (val === undefined) ? undefined: val;\n",
       "        if (val === undefined) {\n",
       "            try {\n",
       "                return obj.__json__();\n",
       "            } catch(err_4) {\n",
       "                if (err_4 instanceof Error && err_4.name === \"AttributeError\") {\n",
       "                    err_5 = new Error('TypeError:' + ('Cannot serialize object to JSON: ' + JSON.stringify(obj) + '')); err_5.name = \"TypeError\"; throw err_5;\n",
       "                }\n",
       "            }\n",
       "        } else {\n",
       "            if ((val !== null) && _truthy(val.__json__)) {\n",
       "                return val.__json__();\n",
       "            }\n",
       "            return val;\n",
       "        }\n",
       "        return null;\n",
       "    };\n",
       "\n",
       "    this.loads = loads;\n",
       "    this.saves = saves;\n",
       "    this.add_reviver = add_reviver;\n",
       "    return null;\n",
       "};\n",
       "\n",
       "\n",
       "flexx.serializer = new flexx.Serializer();\n",
       "flexx.classes.HasSignals = function () {\n",
       "    // An implementation of the HasSignals class in PyScript. It has\n",
       "    // some boilerplate code to create signal objects in JavaScript, but\n",
       "    // otherwise shares most of the code with the Python signal classes\n",
       "    // by transpiling their methods via PyScript. This ensures that the\n",
       "    // Python and JS implementation of this reactive programming system\n",
       "    // have the same API and behave the same.\n",
       "    // \n",
       "    // The Python version of this class has a ``JSCODE`` attribute that\n",
       "    // contains the auto-generated JavaScript for this class.\n",
       "    if (this.__init__) {\n",
       "       this.__init__.apply(this, arguments);\n",
       "    }\n",
       "};\n",
       "flexx.classes.HasSignals.prototype._base_class = Object;\n",
       "\n",
       "\n",
       "flexx.classes.HasSignals.prototype.__signals__ = [];\n",
       "flexx.classes.HasSignals.prototype.__init__ = function () {\n",
       "    this._create_signals();\n",
       "    this.connect_signals(false);\n",
       "    return null;\n",
       "};\n",
       "\n",
       "flexx.classes.HasSignals.prototype._signal_changed = function (signal) {\n",
       "    return null;\n",
       "};\n",
       "\n",
       "flexx.classes.HasSignals.prototype.connect_signals = function (raise_on_fail) {\n",
       "    var connected, dummy1_, dummy2_sequence, dummy3_iter, name, s, success;\n",
       "    raise_on_fail = (raise_on_fail === undefined) ? true: raise_on_fail;\n",
       "    success = true;\n",
       "    dummy2_sequence = this.__signals__;\n",
       "    if ((typeof dummy2_sequence === \"object\") && (!Array.isArray(dummy2_sequence))) {\n",
       "        dummy2_sequence = Object.keys(dummy2_sequence);\n",
       "    }\n",
       "    for (dummy3_iter = 0; dummy3_iter < dummy2_sequence.length; dummy3_iter += 1) {\n",
       "        name = dummy2_sequence[dummy3_iter];\n",
       "        if (_truthy(((dummy1_ = this.__props__).indexOf ? dummy1_ : Object.keys(dummy1_)).indexOf(name) >= 0)) {\n",
       "            continue;\n",
       "        }\n",
       "        s = this[name];\n",
       "        if (_truthy(s.not_connected)) {\n",
       "            connected = s.connect(raise_on_fail);\n",
       "            success = _truthy(success) && _truthy(connected);\n",
       "        }\n",
       "    }\n",
       "    return success;\n",
       "};\n",
       "\n",
       "flexx.classes.HasSignals.prototype._create_property = function (obj, name, private_name, initial) {\n",
       "    var getter, opts, setter;\n",
       "    getter = function () {\n",
       "        return obj[private_name];\n",
       "    };\n",
       "\n",
       "    setter = function () {\n",
       "        var err_2;\n",
       "        err_2 = new Error('ValueError:' + (name + ' is not settable')); err_2.name = \"ValueError\"; throw err_2;\n",
       "        return null;\n",
       "    };\n",
       "\n",
       "    obj[private_name] = initial;\n",
       "    opts = {'enumerable': true, 'configurable': false, 'get': getter, 'set': setter};\n",
       "    Object.defineProperty(obj, name, opts);\n",
       "    return null;\n",
       "};\n",
       "\n",
       "flexx.classes.HasSignals.prototype._create_signals = function () {\n",
       "    var creator, dummy4_sequence, dummy5_iter, func, name, signal;\n",
       "    this.__props__ = [];\n",
       "    dummy4_sequence = this.__signals__;\n",
       "    if ((typeof dummy4_sequence === \"object\") && (!Array.isArray(dummy4_sequence))) {\n",
       "        dummy4_sequence = Object.keys(dummy4_sequence);\n",
       "    }\n",
       "    for (dummy5_iter = 0; dummy5_iter < dummy4_sequence.length; dummy5_iter += 1) {\n",
       "        name = dummy4_sequence[dummy5_iter];\n",
       "        func = this[('_' + name) + '_func'];\n",
       "        func._name = name;\n",
       "        creator = this['_create_' + func._signal_type];\n",
       "        signal = creator.call(this, func, func._upstream);\n",
       "        signal.signal_type = func._signal_type;\n",
       "        this._create_property(this, name, ('_' + name) + '_signal', signal);\n",
       "    }\n",
       "    return null;\n",
       "};\n",
       "\n",
       "flexx.classes.HasSignals.prototype._create_PySignal = function (func, upstream, selff) {\n",
       "    return this._create_SourceSignal(func, upstream, selff);\n",
       "};\n",
       "\n",
       "flexx.classes.HasSignals.prototype._create_PyInputSignal = function (func, upstream, selff) {\n",
       "    return this._create_InputSignal(func, upstream, selff);\n",
       "};\n",
       "\n",
       "flexx.classes.HasSignals.prototype._create_SourceSignal = function (func, upstream, selff) {\n",
       "    selff = this._create_Signal(func, upstream, selff);\n",
       "    selff._update_value = function () {\n",
       "        var args, dummy1_sequence, dummy2_iter, ok, s, value;\n",
       "        if (this._timestamp == 0) {\n",
       "            ok = false;\n",
       "            try {\n",
       "                value = this._call_func();\n",
       "                ok = value !== undefined;\n",
       "            } catch(err_4) {\n",
       "                {\n",
       "                }\n",
       "            }\n",
       "            if (_truthy(ok)) {\n",
       "                this._set_value(value);\n",
       "                return null;\n",
       "            } else {\n",
       "                this._status = 2;\n",
       "                this._last_timestamp = this._timestamp;\n",
       "                this._timestamp = 1;\n",
       "            }\n",
       "        }\n",
       "        if (this._upstream.length) {\n",
       "            args = [this._value];\n",
       "            dummy1_sequence = this._upstream;\n",
       "            if ((typeof dummy1_sequence === \"object\") && (!Array.isArray(dummy1_sequence))) {\n",
       "                dummy1_sequence = Object.keys(dummy1_sequence);\n",
       "            }\n",
       "            for (dummy2_iter = 0; dummy2_iter < dummy1_sequence.length; dummy2_iter += 1) {\n",
       "                s = dummy1_sequence[dummy2_iter];\n",
       "                (args.append || args.push).apply(args, [s()]);\n",
       "            }\n",
       "            value = this._call_func.apply(this, args);\n",
       "            this._set_value(value);\n",
       "        }\n",
       "        return null;\n",
       "    };\n",
       "\n",
       "    selff._set = function (value) {\n",
       "        var dummy1_sequence, dummy2_iter, dummy3_sequence, dummy4_iter, signal;\n",
       "        value = this._call_func(value);\n",
       "        this._set_value(value);\n",
       "        if (value === undefined) {\n",
       "            return null;\n",
       "        }\n",
       "        dummy1_sequence = this._downstream_reconnect.slice(0);\n",
       "        if ((typeof dummy1_sequence === \"object\") && (!Array.isArray(dummy1_sequence))) {\n",
       "            dummy1_sequence = Object.keys(dummy1_sequence);\n",
       "        }\n",
       "        for (dummy2_iter = 0; dummy2_iter < dummy1_sequence.length; dummy2_iter += 1) {\n",
       "            signal = dummy1_sequence[dummy2_iter];\n",
       "            signal.connect(false);\n",
       "        }\n",
       "        dummy3_sequence = this._downstream;\n",
       "        if ((typeof dummy3_sequence === \"object\") && (!Array.isArray(dummy3_sequence))) {\n",
       "            dummy3_sequence = Object.keys(dummy3_sequence);\n",
       "        }\n",
       "        for (dummy4_iter = 0; dummy4_iter < dummy3_sequence.length; dummy4_iter += 1) {\n",
       "            signal = dummy3_sequence[dummy4_iter];\n",
       "            signal._set_status(1, this);\n",
       "        }\n",
       "        return null;\n",
       "    };\n",
       "\n",
       "    return selff;\n",
       "};\n",
       "\n",
       "flexx.classes.HasSignals.prototype._create_InputSignal = function (func, upstream) {\n",
       "    var selff;\n",
       "    selff = function () {\n",
       "        var args, err_3;\n",
       "        args = Array.prototype.slice.call(arguments);\n",
       "        if (!args.length) {\n",
       "            return selff._get_value();\n",
       "        } else if (args.length == 1) {\n",
       "            return selff._set(args[0]);\n",
       "        } else {\n",
       "            err_3 = new Error('ValueError:' + ('Setting input signal ' + JSON.stringify(selff._name) + ' requires exactly one argument.')); err_3.name = \"ValueError\"; throw err_3;\n",
       "        }\n",
       "        return null;\n",
       "    };\n",
       "\n",
       "    return this._create_SourceSignal(func, upstream, selff);\n",
       "};\n",
       "\n",
       "flexx.classes.HasSignals.prototype._create_LazySignal = function (func, upstream, selff) {\n",
       "    selff = (selff === undefined) ? null: selff;\n",
       "    selff = this._create_Signal(func, upstream, selff);\n",
       "    selff._active = false;\n",
       "    return selff;\n",
       "};\n",
       "\n",
       "flexx.classes.HasSignals.prototype._create_Signal = function (func, upstream, selff) {\n",
       "    var _call_func, _resolve_signals, _save_update, _set_value, obj;\n",
       "    selff = (selff === undefined) ? null: selff;\n",
       "    obj = this;\n",
       "    if (selff === null) {\n",
       "        selff = function () {\n",
       "            var args, err_4;\n",
       "            args = Array.prototype.slice.call(arguments);\n",
       "            if (!args.length) {\n",
       "                return selff._get_value();\n",
       "            } else {\n",
       "                err_4 = new Error('RuntimeError:' + ('Can only set signal values of InputSignal objects, which signal ' + JSON.stringify(selff._name) + ' is not.')); err_4.name = \"RuntimeError\"; throw err_4;\n",
       "            }\n",
       "            return null;\n",
       "        };\n",
       "\n",
       "    }\n",
       "    this._create_property(selff, 'value', '_value', undefined);\n",
       "    this._create_property(selff, 'last_value', '_last_value', undefined);\n",
       "    this._create_property(selff, 'timestamp', '_timestamp', 0);\n",
       "    this._create_property(selff, 'last_timestamp', '_last_timestamp', 0);\n",
       "    this._create_property(selff, 'not_connected', '_not_connected', 'No connection attempt yet.');\n",
       "    selff._name = func._name;\n",
       "    selff._IS_SIGNAL = true;\n",
       "    selff._active = true;\n",
       "    selff._func = func;\n",
       "    selff._status = 3;\n",
       "    selff._count = 0;\n",
       "    selff.__self__ = obj;\n",
       "    selff._upstream_given = upstream;\n",
       "    selff._upstream = [];\n",
       "    selff._downstream = [];\n",
       "    selff._upstream_reconnect = [];\n",
       "    selff._downstream_reconnect = [];\n",
       "    selff.connect = function (raise_on_fail) {\n",
       "        var dummy1_sequence, dummy2_iter, dummy3_sequence, dummy4_iter, err_4, s, signal;\n",
       "        raise_on_fail = (raise_on_fail === undefined) ? true: raise_on_fail;\n",
       "        while (this._upstream.length) {\n",
       "            s = this._upstream.pop(0);\n",
       "            s._unsubscribe(this);\n",
       "        }\n",
       "        while (this._upstream_reconnect.length) {\n",
       "            s = this._upstream_reconnect.pop(0);\n",
       "            s._unsubscribe(this);\n",
       "        }\n",
       "        if (_truthy(this._class_desciptor)) {\n",
       "            this._not_connected = 'Cannot connect signal descriptors on a class.';\n",
       "            if (_truthy(raise_on_fail)) {\n",
       "                err_4 = new Error('RuntimeError:' + this._not_connected); err_4.name = \"RuntimeError\"; throw err_4;\n",
       "            }\n",
       "            return false;\n",
       "        }\n",
       "        this._not_connected = this._resolve_signals();\n",
       "        dummy1_sequence = this._upstream;\n",
       "        if ((typeof dummy1_sequence === \"object\") && (!Array.isArray(dummy1_sequence))) {\n",
       "            dummy1_sequence = Object.keys(dummy1_sequence);\n",
       "        }\n",
       "        for (dummy2_iter = 0; dummy2_iter < dummy1_sequence.length; dummy2_iter += 1) {\n",
       "            signal = dummy1_sequence[dummy2_iter];\n",
       "            signal._subscribe(this);\n",
       "        }\n",
       "        dummy3_sequence = this._upstream_reconnect;\n",
       "        if ((typeof dummy3_sequence === \"object\") && (!Array.isArray(dummy3_sequence))) {\n",
       "            dummy3_sequence = Object.keys(dummy3_sequence);\n",
       "        }\n",
       "        for (dummy4_iter = 0; dummy4_iter < dummy3_sequence.length; dummy4_iter += 1) {\n",
       "            signal = dummy3_sequence[dummy4_iter];\n",
       "            signal._subscribe(this, true);\n",
       "        }\n",
       "        if (_truthy(this._not_connected)) {\n",
       "            this._set_status(3);\n",
       "            if (_truthy(raise_on_fail)) {\n",
       "                err_4 = new Error('RuntimeError:' + (('Connection error in signal ' + JSON.stringify(this._name) + ': ') + this._not_connected)); err_4.name = \"RuntimeError\"; throw err_4;\n",
       "            }\n",
       "            return false;\n",
       "        }\n",
       "        this._set_status(1);\n",
       "        return true;\n",
       "    };\n",
       "\n",
       "    selff.disconnect = function (destroy) {\n",
       "        var s;\n",
       "        destroy = (destroy === undefined) ? true: destroy;\n",
       "        while (this._upstream.length) {\n",
       "            s = this._upstream.pop(0);\n",
       "            s._unsubscribe(this);\n",
       "        }\n",
       "        this._not_connected = 'Explicitly disconnected via disconnect()';\n",
       "        this._value = undefined;\n",
       "        this._last_value = undefined;\n",
       "        if (_truthy(destroy)) {\n",
       "            this._frame = null;\n",
       "        }\n",
       "        this._set_status(3);\n",
       "        return null;\n",
       "    };\n",
       "\n",
       "    selff._subscribe = function (signal, reconnect) {\n",
       "        var dummy1_, dummy2_;\n",
       "        reconnect = (reconnect === undefined) ? false: reconnect;\n",
       "        if (_truthy(reconnect)) {\n",
       "            if (_truthy(((dummy1_ = this._downstream_reconnect).indexOf ? dummy1_ : Object.keys(dummy1_)).indexOf(signal) < 0)) {\n",
       "                (this._downstream_reconnect.append || this._downstream_reconnect.push).apply(this._downstream_reconnect, [signal]);\n",
       "            }\n",
       "        } else if (_truthy(((dummy2_ = this._downstream).indexOf ? dummy2_ : Object.keys(dummy2_)).indexOf(signal) < 0)) {\n",
       "            (this._downstream.append || this._downstream.push).apply(this._downstream, [signal]);\n",
       "        }\n",
       "        return null;\n",
       "    };\n",
       "\n",
       "    selff._unsubscribe = function (signal) {\n",
       "        var dummy1_, dummy2_;\n",
       "        while (((dummy1_ = this._downstream).indexOf ? dummy1_ : Object.keys(dummy1_)).indexOf(signal) >= 0) {\n",
       "            (this._downstream.remove || function (x) {this.splice(this.indexOf(x), 1);}).apply(this._downstream, [signal]);\n",
       "        }\n",
       "        while (((dummy2_ = this._downstream_reconnect).indexOf ? dummy2_ : Object.keys(dummy2_)).indexOf(signal) >= 0) {\n",
       "            (this._downstream_reconnect.remove || function (x) {this.splice(this.indexOf(x), 1);}).apply(this._downstream_reconnect, [signal]);\n",
       "        }\n",
       "        return null;\n",
       "    };\n",
       "\n",
       "    selff._get_value = function () {\n",
       "        var err_3;\n",
       "        if (_truthy(this._not_connected)) {\n",
       "            this.connect(false);\n",
       "        }\n",
       "        if (this._status == 1) {\n",
       "            this._update_value();\n",
       "        } else if (this._status == 2) {\n",
       "            err_3 = new Error('SignalValueError:' + ('The signal ' + JSON.stringify(this._name) + ' is not initialized.')); err_3.name = \"SignalValueError\"; throw err_3;\n",
       "        } else if (this._status == 3) {\n",
       "            err_3 = new Error('SignalValueError:' + ('The signal ' + JSON.stringify(this._name) + ' is not connected.')); err_3.name = \"SignalValueError\"; throw err_3;\n",
       "        }\n",
       "        return this._value;\n",
       "    };\n",
       "\n",
       "    selff._update_value = function () {\n",
       "        var args, dummy1_sequence, dummy2_iter, s, value;\n",
       "        args = [];\n",
       "        dummy1_sequence = this._upstream;\n",
       "        if ((typeof dummy1_sequence === \"object\") && (!Array.isArray(dummy1_sequence))) {\n",
       "            dummy1_sequence = Object.keys(dummy1_sequence);\n",
       "        }\n",
       "        for (dummy2_iter = 0; dummy2_iter < dummy1_sequence.length; dummy2_iter += 1) {\n",
       "            s = dummy1_sequence[dummy2_iter];\n",
       "            (args.append || args.push).apply(args, [s()]);\n",
       "        }\n",
       "        value = this._call_func.apply(this, args);\n",
       "        this._set_value(value);\n",
       "        return null;\n",
       "    };\n",
       "\n",
       "    selff._set_status = function (status, initiator) {\n",
       "        var count, dummy1_sequence, dummy2_iter, dummy3_sequence, dummy4_iter, dummy5_sequence, dummy6_iter, initial_initiator, s, signal, statuses;\n",
       "        initiator = (initiator === undefined) ? null: initiator;\n",
       "        initial_initiator = initiator;\n",
       "        if ((this === initial_initiator) && (!_truthy(this._status))) {\n",
       "            return null;\n",
       "        }\n",
       "        if (initiator === null) {\n",
       "            initiator = this;\n",
       "        }\n",
       "        statuses = [1, status];\n",
       "        dummy1_sequence = this._upstream;\n",
       "        if ((typeof dummy1_sequence === \"object\") && (!Array.isArray(dummy1_sequence))) {\n",
       "            dummy1_sequence = Object.keys(dummy1_sequence);\n",
       "        }\n",
       "        for (dummy2_iter = 0; dummy2_iter < dummy1_sequence.length; dummy2_iter += 1) {\n",
       "            s = dummy1_sequence[dummy2_iter];\n",
       "            if (s !== initiator) {\n",
       "                (statuses.append || statuses.push).apply(statuses, [s._status]);\n",
       "            }\n",
       "        }\n",
       "        this._status = Math.max.apply(null, statuses);\n",
       "        if (this._name == 'number2') {\n",
       "        }\n",
       "        if (_truthy(this._active) && (this._status == 1)) {\n",
       "            count = this._count;\n",
       "            this._save_update();\n",
       "            if (this._count == count) {\n",
       "                return null;\n",
       "            }\n",
       "        }\n",
       "        if (this === initial_initiator) {\n",
       "            return null;\n",
       "        }\n",
       "        dummy3_sequence = this._downstream_reconnect.slice(0);\n",
       "        if ((typeof dummy3_sequence === \"object\") && (!Array.isArray(dummy3_sequence))) {\n",
       "            dummy3_sequence = Object.keys(dummy3_sequence);\n",
       "        }\n",
       "        for (dummy4_iter = 0; dummy4_iter < dummy3_sequence.length; dummy4_iter += 1) {\n",
       "            signal = dummy3_sequence[dummy4_iter];\n",
       "            signal.connect(false);\n",
       "        }\n",
       "        dummy5_sequence = this._downstream;\n",
       "        if ((typeof dummy5_sequence === \"object\") && (!Array.isArray(dummy5_sequence))) {\n",
       "            dummy5_sequence = Object.keys(dummy5_sequence);\n",
       "        }\n",
       "        for (dummy6_iter = 0; dummy6_iter < dummy5_sequence.length; dummy6_iter += 1) {\n",
       "            signal = dummy5_sequence[dummy6_iter];\n",
       "            signal._set_status(status, initiator);\n",
       "        }\n",
       "        return null;\n",
       "    };\n",
       "\n",
       "    selff._seek_signal = function (fullname, nameparts, ob) {\n",
       "        var dummy1_, dummy2_, dummy3_, dummy4_sequence, dummy5_iter, msg, name, sub_ob;\n",
       "        if ((ob === undefined) || (nameparts.length == 0)) {\n",
       "            if (ob === undefined) {\n",
       "                return 'Signal ' + JSON.stringify(fullname) + ' does not exist.';\n",
       "            }\n",
       "            if (!((dummy1_=ob) !== undefined && dummy1_ !== null && dummy1_['_IS_SIGNAL'] !== undefined)) {\n",
       "                return 'Object ' + JSON.stringify(fullname) + ' is not a signal.';\n",
       "            }\n",
       "            (this._upstream.append || this._upstream.push).apply(this._upstream, [ob]);\n",
       "            return null;\n",
       "        }\n",
       "        if (((dummy2_=ob) !== undefined && dummy2_ !== null && dummy2_['_IS_SIGNAL'] !== undefined)) {\n",
       "            (this._upstream_reconnect.append || this._upstream_reconnect.push).apply(this._upstream_reconnect, [ob]);\n",
       "            try {\n",
       "                ob = ob();\n",
       "            } catch(err_4) {\n",
       "                if (err_4 instanceof Error && err_4.name === \"SignalValueError\") {\n",
       "                    return 'Signal ' + JSON.stringify(fullname) + ' does not have all parts ready';\n",
       "                }\n",
       "            }\n",
       "        }\n",
       "        dummy3_ = [nameparts[0], nameparts.slice(1)];\n",
       "        name = dummy3_[0];nameparts = dummy3_[1];\n",
       "        if ((name == '*') && (({}).toString.call(ob).match(/\\s([a-zA-Z]+)/)[1].toLowerCase() === 'array')) {\n",
       "            dummy4_sequence = ob;\n",
       "            if ((typeof dummy4_sequence === \"object\") && (!Array.isArray(dummy4_sequence))) {\n",
       "                dummy4_sequence = Object.keys(dummy4_sequence);\n",
       "            }\n",
       "            for (dummy5_iter = 0; dummy5_iter < dummy4_sequence.length; dummy5_iter += 1) {\n",
       "                sub_ob = dummy4_sequence[dummy5_iter];\n",
       "                msg = this._seek_signal(fullname, nameparts, sub_ob);\n",
       "                if (_truthy(msg)) {\n",
       "                    return msg;\n",
       "                }\n",
       "            }\n",
       "            return null;\n",
       "        }\n",
       "        return this._seek_signal(fullname, nameparts, (function (ob, name, dflt) {if (ob !== undefined && ob !== null && ob[name] !== undefined) {return ob[name];} else {return dflt;}})(ob, name, undefined));\n",
       "    };\n",
       "\n",
       "    _resolve_signals = function () {\n",
       "        var dummy6_sequence, dummy7_iter, fullname, msg, nameparts, ob;\n",
       "        selff._upstream = [];\n",
       "        selff._upstream_reconnect = [];\n",
       "        dummy6_sequence = selff._upstream_given;\n",
       "        if ((typeof dummy6_sequence === \"object\") && (!Array.isArray(dummy6_sequence))) {\n",
       "            dummy6_sequence = Object.keys(dummy6_sequence);\n",
       "        }\n",
       "        for (dummy7_iter = 0; dummy7_iter < dummy6_sequence.length; dummy7_iter += 1) {\n",
       "            fullname = dummy6_sequence[dummy7_iter];\n",
       "            nameparts = fullname.split('.');\n",
       "            ob = obj[nameparts[0]];\n",
       "            msg = selff._seek_signal(fullname, nameparts.slice(1), ob);\n",
       "            if (_truthy(msg)) {\n",
       "                selff._upstream = [];\n",
       "                return msg;\n",
       "            }\n",
       "        }\n",
       "        return false;\n",
       "    };\n",
       "\n",
       "    _save_update = function () {\n",
       "        var err;\n",
       "        try {\n",
       "            selff();\n",
       "        } catch(err_3) {\n",
       "            if (err_3 instanceof Error && err_3.name === \"SignalValueError\") {\n",
       "            } else {\n",
       "                err = err_3;\n",
       "                console.error('Error updating signal: ' + err);\n",
       "            }\n",
       "        }\n",
       "        return null;\n",
       "    };\n",
       "\n",
       "    _set_value = function (value) {\n",
       "        if (value === undefined) {\n",
       "            this._status = (this._count == 0)? (3) : (0);\n",
       "            return null;\n",
       "        }\n",
       "        selff._last_value = selff._value;\n",
       "        selff._value = value;\n",
       "        selff._last_timestamp = selff._timestamp;\n",
       "        selff._count += 1\n",
       "        selff._timestamp = ((new Date()).getTime()) / 1000;\n",
       "        selff._status = 0;\n",
       "        obj._signal_changed(selff);\n",
       "        return null;\n",
       "    };\n",
       "\n",
       "    _call_func = function () {\n",
       "        var args;\n",
       "        args = Array.prototype.slice.call(arguments);\n",
       "        return func.apply(obj, args);\n",
       "    };\n",
       "\n",
       "    selff._resolve_signals = _resolve_signals;\n",
       "    selff._save_update = _save_update;\n",
       "    selff._set_value = _set_value;\n",
       "    selff._call_func = _call_func;\n",
       "    return selff;\n",
       "};\n",
       "\n",
       "\n",
       "flexx.classes.Pair = function () {\n",
       "    if (this.__init__) {\n",
       "       this.__init__.apply(this, arguments);\n",
       "    }\n",
       "};\n",
       "flexx.classes.Pair.prototype = Object.create(flexx.classes.HasSignals.prototype);\n",
       "flexx.classes.Pair.prototype._base_class = flexx.classes.HasSignals.prototype;\n",
       "\n",
       "\n",
       "flexx.classes.Pair.prototype.__signals__ = flexx.classes.HasSignals.prototype.__signals__.concat([]).sort();\n",
       "flexx.classes.Pair.prototype.__from_json__ = function (dct) {\n",
       "    return flexx.instances[dct.id];\n",
       "};\n",
       "\n",
       "flexx.classes.Pair.prototype.__init__ = function (id) {\n",
       "    this.__id = this._id = this.id = id;\n",
       "    this._linked_signals = {};\n",
       "    this._init();\n",
       "    flexx.classes.HasSignals.prototype.__init__.call(this);\n",
       "    return null;\n",
       "};\n",
       "\n",
       "flexx.classes.Pair.prototype.__json__ = function () {\n",
       "    return {'__type__': 'Flexx-Pair', 'id': this.id};\n",
       "};\n",
       "\n",
       "flexx.classes.Pair.prototype._init = function () {\n",
       "    return null;\n",
       "};\n",
       "\n",
       "flexx.classes.Pair.prototype._link_js_signal = function (name, link) {\n",
       "    var signal;\n",
       "    if (_truthy(link)) {\n",
       "        this._linked_signals[name] = true;\n",
       "        signal = this[name];\n",
       "        if (_truthy(signal._timestamp > 1)) {\n",
       "            this._signal_changed(this[name]);\n",
       "        }\n",
       "    } else if (_truthy(this._linked_signals[name])) {\n",
       "        delete this._linked_signals[name];\n",
       "    }\n",
       "    return null;\n",
       "};\n",
       "\n",
       "flexx.classes.Pair.prototype._set_signal_from_py = function (name, text, esid) {\n",
       "    var signal, value;\n",
       "    value = flexx.serializer.loads(text);\n",
       "    signal = this[name];\n",
       "    if ((esid == 0) || (signal._esid == 0)) {\n",
       "        this._signal_emit_lock = true;\n",
       "        signal._set(value);\n",
       "        signal._esid = 0;\n",
       "    }\n",
       "    return null;\n",
       "};\n",
       "\n",
       "flexx.classes.Pair.prototype._signal_changed = function (signal) {\n",
       "    var txt;\n",
       "    if (flexx.ws === null) {\n",
       "        return null;\n",
       "    }\n",
       "    if (_truthy(this._signal_emit_lock)) {\n",
       "        this._signal_emit_lock = false;\n",
       "        return null;\n",
       "    }\n",
       "    signal._esid = signal._count;\n",
       "    if ((signal.signal_type != 'PySignal') && (!signal._name.indexOf('_') == 0)) {\n",
       "        txt = flexx.serializer.saves(signal.value);\n",
       "        flexx.ws.send('SIGNAL ' + ([this.id, signal._esid, signal._name, txt].join(' ')));\n",
       "    }\n",
       "    return null;\n",
       "};\n",
       "\n",
       "flexx.serializer.add_reviver(\"Flexx-Pair\", flexx.classes.Pair.prototype.__from_json__);\n",
       "\n",
       "\n",
       "flexx.classes.Widget = function () {\n",
       "    if (this.__init__) {\n",
       "       this.__init__.apply(this, arguments);\n",
       "    }\n",
       "};\n",
       "flexx.classes.Widget.prototype = Object.create(flexx.classes.Pair.prototype);\n",
       "flexx.classes.Widget.prototype._base_class = flexx.classes.Pair.prototype;\n",
       "\n",
       "\n",
       "flexx.classes.Widget.prototype.__signals__ = flexx.classes.Pair.prototype.__signals__.concat(['_bgcolor_changed', '_container_id_changed', '_css_class_name', '_css_class_name_changed', '_keep_size_up_to_date1', '_keep_size_up_to_date2', '_parent_changed', '_parent_changed_py', '_pos_changed', '_size_changed', 'actual_size', 'bgcolor', 'children', 'container_id', 'flex', 'min_size', 'parent', 'pos', 'size']).sort();\n",
       "flexx.classes.Widget.prototype._add_child = function (widget) {\n",
       "    // Add the DOM element. Called right after the child widget is added.\n",
       "    this.node.appendChild(widget.node);\n",
       "    return null;\n",
       "};\n",
       "\n",
       "flexx.classes.Widget.prototype.__bgcolor_changed_func = function (color) {\n",
       "    this.node.style['background-color'] = color;\n",
       "    return null;\n",
       "};\n",
       "\n",
       "flexx.classes.Widget.prototype.__bgcolor_changed_func._upstream = ['bgcolor'];\n",
       "\n",
       "flexx.classes.Widget.prototype.__bgcolor_changed_func._signal_type = 'Signal';\n",
       "\n",
       "flexx.classes.Widget.prototype.__container_id_changed_func = function (id) {\n",
       "    var el;\n",
       "    if (_truthy(id)) {\n",
       "        el = document.getElementById(id);\n",
       "        el.appendChild(this.node);\n",
       "    }\n",
       "    return null;\n",
       "};\n",
       "\n",
       "flexx.classes.Widget.prototype.__container_id_changed_func._upstream = ['container_id'];\n",
       "\n",
       "flexx.classes.Widget.prototype.__container_id_changed_func._signal_type = 'Signal';\n",
       "\n",
       "flexx.classes.Widget.prototype._create_node = function () {\n",
       "    this.node = document.createElement('div');\n",
       "    return null;\n",
       "};\n",
       "\n",
       "flexx.classes.Widget.prototype.__css_class_name_func = function (v) {\n",
       "    return v;\n",
       "};\n",
       "\n",
       "flexx.classes.Widget.prototype.__css_class_name_func._upstream = [];\n",
       "\n",
       "flexx.classes.Widget.prototype.__css_class_name_func._signal_type = 'PyInputSignal';\n",
       "\n",
       "flexx.classes.Widget.prototype.__css_class_name_changed_func = function (v) {\n",
       "    this.node.className = v;\n",
       "    return null;\n",
       "};\n",
       "\n",
       "flexx.classes.Widget.prototype.__css_class_name_changed_func._upstream = ['_css_class_name'];\n",
       "\n",
       "flexx.classes.Widget.prototype.__css_class_name_changed_func._signal_type = 'Signal';\n",
       "\n",
       "flexx.classes.Widget.prototype._init = function () {\n",
       "    var _check_resize, _check_resize_now, that;\n",
       "    this._create_node();\n",
       "    ((/*py-dict.get*/typeof flexx.get===\"function\" ? flexx.get('body') : (flexx['body'] || null))).appendChild(this.node);\n",
       "    this._stored_size = [0, 0];\n",
       "    this._checking_size = false;\n",
       "    that = this;\n",
       "    _check_resize = function () {\n",
       "        if (!_truthy(that._checking_size)) {\n",
       "            setTimeout(_check_resize_now, 0.001);\n",
       "            that._checking_size = true;\n",
       "        }\n",
       "        return null;\n",
       "    };\n",
       "\n",
       "    _check_resize_now = function () {\n",
       "        var heightChanged, node, widthChanged;\n",
       "        that._checking_size = false;\n",
       "        node = that.node;\n",
       "        widthChanged = (that._stored_size[0]) != node.offsetWidth;\n",
       "        heightChanged = (that._stored_size[1]) != node.offsetHeight;\n",
       "        if (_truthy(widthChanged) || _truthy(heightChanged)) {\n",
       "            that.actual_size._set([node.offsetWidth, node.offsetHeight]);\n",
       "        }\n",
       "        return null;\n",
       "    };\n",
       "\n",
       "    this._check_resize = _check_resize;\n",
       "    this._check_resize();\n",
       "    flexx.classes.Pair.prototype._init.call(this);\n",
       "    return null;\n",
       "};\n",
       "\n",
       "flexx.classes.Widget.prototype.__keep_size_up_to_date1_func = function (size) {\n",
       "    this._check_resize();\n",
       "    return null;\n",
       "};\n",
       "\n",
       "flexx.classes.Widget.prototype.__keep_size_up_to_date1_func._upstream = ['parent.actual_size'];\n",
       "\n",
       "flexx.classes.Widget.prototype.__keep_size_up_to_date1_func._signal_type = 'Signal';\n",
       "\n",
       "flexx.classes.Widget.prototype.__keep_size_up_to_date2_func = function (parent, id) {\n",
       "    if (parent === null) {\n",
       "        window.addEventListener('resize', this._check_resize, false);\n",
       "    } else {\n",
       "        window.removeEventListener('resize', this._check_resize, false);\n",
       "    }\n",
       "    this._check_resize();\n",
       "    return null;\n",
       "};\n",
       "\n",
       "flexx.classes.Widget.prototype.__keep_size_up_to_date2_func._upstream = ['parent', 'container_id'];\n",
       "\n",
       "flexx.classes.Widget.prototype.__keep_size_up_to_date2_func._signal_type = 'Signal';\n",
       "\n",
       "flexx.classes.Widget.prototype.__parent_changed_func = function (new_parent) {\n",
       "    var children, dummy1_, old_parent;\n",
       "    old_parent = this.parent.last_value;\n",
       "    if ((old_parent !== null) && (old_parent !== undefined)) {\n",
       "        children = old_parent.children().slice(0);\n",
       "        while (((dummy1_ = children).indexOf ? dummy1_ : Object.keys(dummy1_)).indexOf(this) >= 0) {\n",
       "            (children.remove || function (x) {this.splice(this.indexOf(x), 1);}).apply(children, [this]);\n",
       "        }\n",
       "        old_parent.children._set(children);\n",
       "        old_parent._remove_child(this);\n",
       "    }\n",
       "    if (new_parent !== null) {\n",
       "        children = new_parent.children().slice(0);\n",
       "        (children.append || children.push).apply(children, [this]);\n",
       "        new_parent.children._set(children);\n",
       "        new_parent._add_child(this);\n",
       "    }\n",
       "    return null;\n",
       "};\n",
       "\n",
       "flexx.classes.Widget.prototype.__parent_changed_func._upstream = ['parent'];\n",
       "\n",
       "flexx.classes.Widget.prototype.__parent_changed_func._signal_type = 'Signal';\n",
       "\n",
       "flexx.classes.Widget.prototype.__parent_changed_py_func = function (v) {\n",
       "    return v;\n",
       "};\n",
       "\n",
       "flexx.classes.Widget.prototype.__parent_changed_py_func._upstream = [];\n",
       "\n",
       "flexx.classes.Widget.prototype.__parent_changed_py_func._signal_type = 'PySignal';\n",
       "\n",
       "flexx.classes.Widget.prototype.__pos_changed_func = function (pos) {\n",
       "    this.node.style.left = (_truthy((pos[0]) > 1))? ((pos[0]) + 'px') : (((pos[0]) * 100) + '%');\n",
       "    this.node.style.top = (_truthy((pos[1]) > 1))? ((pos[1]) + 'px') : (((pos[1]) * 100) + '%');\n",
       "    return null;\n",
       "};\n",
       "\n",
       "flexx.classes.Widget.prototype.__pos_changed_func._upstream = ['pos'];\n",
       "\n",
       "flexx.classes.Widget.prototype.__pos_changed_func._signal_type = 'Signal';\n",
       "\n",
       "flexx.classes.Widget.prototype._remove_child = function (widget) {\n",
       "    // Remove the DOM element. Called right after the child widget is removed.\n",
       "    this.node.removeChild(widget.node);\n",
       "    return null;\n",
       "};\n",
       "\n",
       "flexx.classes.Widget.prototype.__size_changed_func = function (size) {\n",
       "    var i;\n",
       "    size = size.slice(0);\n",
       "    for (i = 0; i < 2; i += 1) {\n",
       "        if (((size[i]) == 0) || (size === null) || (size === undefined)) {\n",
       "            size[i] = '';\n",
       "        } else if (_truthy((size[i]) > 1)) {\n",
       "            size[i] = (size[i]) + 'px';\n",
       "        } else {\n",
       "            size[i] = ((size[i]) * 100) + 'px';\n",
       "        }\n",
       "    }\n",
       "    this.node.style.width = size[0];\n",
       "    this.node.style.height = size[1];\n",
       "    return null;\n",
       "};\n",
       "\n",
       "flexx.classes.Widget.prototype.__size_changed_func._upstream = ['size'];\n",
       "\n",
       "flexx.classes.Widget.prototype.__size_changed_func._signal_type = 'Signal';\n",
       "\n",
       "flexx.classes.Widget.prototype._actual_size_func = function (v) {\n",
       "    v = (v === undefined) ? [0, 0]: v;\n",
       "    // The real (actual) size of the widget.\n",
       "    return [v[0], v[1]];\n",
       "};\n",
       "\n",
       "flexx.classes.Widget.prototype._actual_size_func._upstream = [];\n",
       "\n",
       "flexx.classes.Widget.prototype._actual_size_func._signal_type = 'SourceSignal';\n",
       "\n",
       "flexx.classes.Widget.prototype._bgcolor_func = function (v) {\n",
       "    return v;\n",
       "};\n",
       "\n",
       "flexx.classes.Widget.prototype._bgcolor_func._upstream = [];\n",
       "\n",
       "flexx.classes.Widget.prototype._bgcolor_func._signal_type = 'PyInputSignal';\n",
       "\n",
       "flexx.classes.Widget.prototype._children_func = function (v) {\n",
       "    return v;\n",
       "};\n",
       "\n",
       "flexx.classes.Widget.prototype._children_func._upstream = [];\n",
       "\n",
       "flexx.classes.Widget.prototype._children_func._signal_type = 'PySignal';\n",
       "\n",
       "flexx.classes.Widget.prototype._container_id_func = function (v) {\n",
       "    return v;\n",
       "};\n",
       "\n",
       "flexx.classes.Widget.prototype._container_id_func._upstream = [];\n",
       "\n",
       "flexx.classes.Widget.prototype._container_id_func._signal_type = 'PySignal';\n",
       "\n",
       "flexx.classes.Widget.prototype._flex_func = function (v) {\n",
       "    return v;\n",
       "};\n",
       "\n",
       "flexx.classes.Widget.prototype._flex_func._upstream = [];\n",
       "\n",
       "flexx.classes.Widget.prototype._flex_func._signal_type = 'PyInputSignal';\n",
       "\n",
       "flexx.classes.Widget.prototype._min_size_func = function (v) {\n",
       "    return v;\n",
       "};\n",
       "\n",
       "flexx.classes.Widget.prototype._min_size_func._upstream = [];\n",
       "\n",
       "flexx.classes.Widget.prototype._min_size_func._signal_type = 'PyInputSignal';\n",
       "\n",
       "flexx.classes.Widget.prototype._parent_func = function (v) {\n",
       "    return v;\n",
       "};\n",
       "\n",
       "flexx.classes.Widget.prototype._parent_func._upstream = [];\n",
       "\n",
       "flexx.classes.Widget.prototype._parent_func._signal_type = 'PyInputSignal';\n",
       "\n",
       "flexx.classes.Widget.prototype._pos_func = function (v) {\n",
       "    return v;\n",
       "};\n",
       "\n",
       "flexx.classes.Widget.prototype._pos_func._upstream = [];\n",
       "\n",
       "flexx.classes.Widget.prototype._pos_func._signal_type = 'PyInputSignal';\n",
       "\n",
       "flexx.classes.Widget.prototype._size_func = function (v) {\n",
       "    return v;\n",
       "};\n",
       "\n",
       "flexx.classes.Widget.prototype._size_func._upstream = [];\n",
       "\n",
       "flexx.classes.Widget.prototype._size_func._signal_type = 'PyInputSignal';\n",
       "\n",
       "\n",
       "flexx.classes.Layout = function () {\n",
       "    if (this.__init__) {\n",
       "       this.__init__.apply(this, arguments);\n",
       "    }\n",
       "};\n",
       "flexx.classes.Layout.prototype = Object.create(flexx.classes.Widget.prototype);\n",
       "flexx.classes.Layout.prototype._base_class = flexx.classes.Widget.prototype;\n",
       "\n",
       "\n",
       "flexx.classes.Layout.prototype.__signals__ = flexx.classes.Widget.prototype.__signals__.concat([]).sort();\n",
       "flexx.classes.Layout.prototype._applyBoxStyle = function (e, sty, value) {\n",
       "    var dummy1_sequence, dummy2_iter, prefix;\n",
       "    dummy1_sequence = ['-webkit-', '-ms-', '-moz-', ''];\n",
       "    if ((typeof dummy1_sequence === \"object\") && (!Array.isArray(dummy1_sequence))) {\n",
       "        dummy1_sequence = Object.keys(dummy1_sequence);\n",
       "    }\n",
       "    for (dummy2_iter = 0; dummy2_iter < dummy1_sequence.length; dummy2_iter += 1) {\n",
       "        prefix = dummy1_sequence[dummy2_iter];\n",
       "        e.style[prefix + sty] = value;\n",
       "    }\n",
       "    return null;\n",
       "};\n",
       "\n",
       "\n",
       "flexx.classes.Box = function () {\n",
       "    if (this.__init__) {\n",
       "       this.__init__.apply(this, arguments);\n",
       "    }\n",
       "};\n",
       "flexx.classes.Box.prototype = Object.create(flexx.classes.Layout.prototype);\n",
       "flexx.classes.Box.prototype._base_class = flexx.classes.Layout.prototype;\n",
       "\n",
       "\n",
       "flexx.classes.Box.prototype.__signals__ = flexx.classes.Layout.prototype.__signals__.concat(['_margin_changed', '_set_flexes', '_spacing_changed', 'margin', 'spacing']).sort();\n",
       "flexx.classes.Box.prototype._create_node = function () {\n",
       "    this.node = document.createElement('div');\n",
       "    return null;\n",
       "};\n",
       "\n",
       "flexx.classes.Box.prototype.__margin_changed_func = function (margin) {\n",
       "    this.node.style['padding'] = margin + 'px';\n",
       "    return null;\n",
       "};\n",
       "\n",
       "flexx.classes.Box.prototype.__margin_changed_func._upstream = ['margin'];\n",
       "\n",
       "flexx.classes.Box.prototype.__margin_changed_func._signal_type = 'Signal';\n",
       "\n",
       "flexx.classes.Box.prototype.__set_flexes_func = function () {\n",
       "    var dummy1_sequence, dummy2_iter, flexes, widget;\n",
       "    flexes = Array.prototype.slice.call(arguments);\n",
       "    dummy1_sequence = this.children();\n",
       "    if ((typeof dummy1_sequence === \"object\") && (!Array.isArray(dummy1_sequence))) {\n",
       "        dummy1_sequence = Object.keys(dummy1_sequence);\n",
       "    }\n",
       "    for (dummy2_iter = 0; dummy2_iter < dummy1_sequence.length; dummy2_iter += 1) {\n",
       "        widget = dummy1_sequence[dummy2_iter];\n",
       "        this._applyBoxStyle(widget.node, 'flex-grow', widget.flex());\n",
       "    }\n",
       "    return null;\n",
       "};\n",
       "\n",
       "flexx.classes.Box.prototype.__set_flexes_func._upstream = ['children.*.flex'];\n",
       "\n",
       "flexx.classes.Box.prototype.__set_flexes_func._signal_type = 'Signal';\n",
       "\n",
       "flexx.classes.Box.prototype.__spacing_changed_func = function (spacing, children) {\n",
       "    var child, dummy1_sequence, dummy2_iter;\n",
       "    if (children.length) {\n",
       "        ((children[0]).node).style['margin-left'] = '0px';\n",
       "        dummy1_sequence = children.slice(1);\n",
       "        if ((typeof dummy1_sequence === \"object\") && (!Array.isArray(dummy1_sequence))) {\n",
       "            dummy1_sequence = Object.keys(dummy1_sequence);\n",
       "        }\n",
       "        for (dummy2_iter = 0; dummy2_iter < dummy1_sequence.length; dummy2_iter += 1) {\n",
       "            child = dummy1_sequence[dummy2_iter];\n",
       "            child.node.style['margin-left'] = spacing + 'px';\n",
       "        }\n",
       "    }\n",
       "    return null;\n",
       "};\n",
       "\n",
       "flexx.classes.Box.prototype.__spacing_changed_func._upstream = ['spacing', 'children'];\n",
       "\n",
       "flexx.classes.Box.prototype.__spacing_changed_func._signal_type = 'Signal';\n",
       "\n",
       "flexx.classes.Box.prototype._margin_func = function (v) {\n",
       "    return v;\n",
       "};\n",
       "\n",
       "flexx.classes.Box.prototype._margin_func._upstream = [];\n",
       "\n",
       "flexx.classes.Box.prototype._margin_func._signal_type = 'PyInputSignal';\n",
       "\n",
       "flexx.classes.Box.prototype._spacing_func = function (v) {\n",
       "    return v;\n",
       "};\n",
       "\n",
       "flexx.classes.Box.prototype._spacing_func._upstream = [];\n",
       "\n",
       "flexx.classes.Box.prototype._spacing_func._signal_type = 'PyInputSignal';\n",
       "\n",
       "\n",
       "flexx.classes.HBox = function () {\n",
       "    if (this.__init__) {\n",
       "       this.__init__.apply(this, arguments);\n",
       "    }\n",
       "};\n",
       "flexx.classes.HBox.prototype = Object.create(flexx.classes.Box.prototype);\n",
       "flexx.classes.HBox.prototype._base_class = flexx.classes.Box.prototype;\n",
       "\n",
       "\n",
       "flexx.classes.HBox.prototype.__signals__ = flexx.classes.Box.prototype.__signals__.concat([]).sort();\n",
       "flexx.classes.HBox.prototype._init = function () {\n",
       "    flexx.classes.Box.prototype._init.call(this);\n",
       "    this._applyBoxStyle(this.node, 'align-items', 'center');\n",
       "    this._applyBoxStyle(this.node, 'justify-content', 'space-around');\n",
       "    return null;\n",
       "};\n",
       "\n",
       "\n",
       "flexx.classes.VBox = function () {\n",
       "    if (this.__init__) {\n",
       "       this.__init__.apply(this, arguments);\n",
       "    }\n",
       "};\n",
       "flexx.classes.VBox.prototype = Object.create(flexx.classes.Box.prototype);\n",
       "flexx.classes.VBox.prototype._base_class = flexx.classes.Box.prototype;\n",
       "\n",
       "\n",
       "flexx.classes.VBox.prototype.__signals__ = flexx.classes.Box.prototype.__signals__.concat([]).sort();\n",
       "flexx.classes.VBox.prototype._init = function () {\n",
       "    flexx.classes.Box.prototype._init.call(this);\n",
       "    this._applyBoxStyle(this.node, 'align-items', 'stretch');\n",
       "    this._applyBoxStyle(this.node, 'justify-content', 'space-around');\n",
       "    return null;\n",
       "};\n",
       "\n",
       "\n",
       "flexx.classes.Splitter = function () {\n",
       "    if (this.__init__) {\n",
       "       this.__init__.apply(this, arguments);\n",
       "    }\n",
       "};\n",
       "flexx.classes.Splitter.prototype = Object.create(flexx.classes.Layout.prototype);\n",
       "flexx.classes.Splitter.prototype._base_class = flexx.classes.Layout.prototype;\n",
       "\n",
       "\n",
       "flexx.classes.Splitter.prototype.__signals__ = flexx.classes.Layout.prototype.__signals__.concat(['_resize_elements']).sort();\n",
       "flexx.classes.Splitter.prototype._add_child = function (widget) {\n",
       "    this._insertWidget(widget, (this.children().length) - 1);\n",
       "    return null;\n",
       "};\n",
       "\n",
       "flexx.classes.Splitter.prototype._create_node = function () {\n",
       "    this.node = document.createElement('div');\n",
       "    this._container = document.createElement('div');\n",
       "    this._container.classList.add('flx-splitter-container');\n",
       "    this.node.appendChild(this._container);\n",
       "    this._handle = document.createElement('div');\n",
       "    this._handle.classList.add('flx-splitter-handle');\n",
       "    this._container.appendChild(this._handle);\n",
       "    this._handle.style.opacity = '0';\n",
       "    this._dividers = [];\n",
       "    this._setup();\n",
       "    return null;\n",
       "};\n",
       "\n",
       "flexx.classes.Splitter.prototype._ensure_all_dividers = function () {\n",
       "    var children, clientWidth, divider, i, widget, width;\n",
       "    // Ensure that all widgets have a divider object (except the last).\n",
       "    // Also update all divider indices, and dividers array.\n",
       "    width = (_truthy(this._horizontal))? ('width') : ('height');\n",
       "    clientWidth = (_truthy(this._horizontal))? ('clientWidth') : ('clientHeight');\n",
       "    children = this.children();\n",
       "    this._dividers.length = 0;\n",
       "    for (i = 0; i < children.length - 1; i += 1) {\n",
       "        widget = children[i];\n",
       "        if (widget._divider === undefined) {\n",
       "            widget._divider = divider = document.createElement('div');\n",
       "            divider.classList.add('flx-splitter-divider');\n",
       "            divider.tInPerc = 1.0;\n",
       "            divider.style[width] = (2 * this._w2) + 'px';\n",
       "            divider.t = this.node[clientWidth];\n",
       "            this._container.appendChild(divider);\n",
       "            divider.addEventListener('mousedown', this._on_mouse_down, false);\n",
       "        }\n",
       "        widget._divider.index = i;\n",
       "        (this._dividers.append || this._dividers.push).apply(this._dividers, [widget._divider]);\n",
       "    }\n",
       "    if (children.length) {\n",
       "        widget = children[children.length -1];\n",
       "        if (_truthy(widget._divider)) {\n",
       "            this._container.removeChild(widget._divider);\n",
       "            delete widget._divider;\n",
       "        }\n",
       "    }\n",
       "    return null;\n",
       "};\n",
       "\n",
       "flexx.classes.Splitter.prototype._insertWidget = function (widget, index) {\n",
       "    var children, clientWidth, curSize, divider, i, needSize, newTs, sizeFactor, tPrev;\n",
       "    // Add to container and create divider if there is something\n",
       "    // to divide.\n",
       "    this._container.appendChild(widget.node);\n",
       "    children = this.children();\n",
       "    clientWidth = (_truthy(this._horizontal))? ('clientWidth') : ('clientHeight');\n",
       "    this._ensure_all_dividers();\n",
       "    needSize = (this.node[clientWidth]) / children.length;\n",
       "    sizeFactor = ((this.node[clientWidth]) - needSize) / (this.node[clientWidth]);\n",
       "    newTs = [];\n",
       "    tPrev = 0;\n",
       "    for (i = 0; i < children.length - 1; i += 1) {\n",
       "        divider = this._dividers[i];\n",
       "        if (i == index) {\n",
       "            newTs.push(needSize);\n",
       "        } else {\n",
       "            curSize = divider.t - tPrev;\n",
       "            newTs.push(curSize * sizeFactor);\n",
       "        }\n",
       "        tPrev = divider.t;\n",
       "        newTs[i] += _truthy(newTs[i - 1]) || 0\n",
       "    }\n",
       "    for (i = 0; i < children.length - 1; i += 1) {\n",
       "        this._move_divider(i, newTs[i]);\n",
       "    }\n",
       "    this._set_own_min_size();\n",
       "    return null;\n",
       "};\n",
       "\n",
       "flexx.classes.Splitter.prototype._remove_child = function (widget) {\n",
       "    var clientWidth, curSize, divider, i, newTs, sizeFactor, sizeToDistribute, t, tPrev;\n",
       "    clientWidth = (_truthy(this._horizontal))? ('clientWidth') : ('clientHeight');\n",
       "    sizeToDistribute = widget.node[clientWidth];\n",
       "    this._container.removeChild(widget.node);\n",
       "    t = 0;\n",
       "    if (_truthy(widget._divider)) {\n",
       "        t = widget._divider.t;\n",
       "        this._container.removeChild(widget._divider);\n",
       "        delete widget._divider;\n",
       "    }\n",
       "    this._ensure_all_dividers();\n",
       "    newTs = [];\n",
       "    tPrev = 0;\n",
       "    sizeFactor = (this.node[clientWidth]) / ((this.node[clientWidth]) - sizeToDistribute);\n",
       "    for (i = 0; i < (this.children().length) - 1; i += 1) {\n",
       "        divider = (this.children()[i])._divider;\n",
       "        curSize = divider.t - tPrev;\n",
       "        if (_truthy(tPrev < t) && _truthy(divider.t > t)) {\n",
       "            curSize -= divider.t - t\n",
       "        }\n",
       "        newTs.push(curSize * sizeFactor);\n",
       "        tPrev = divider.t;\n",
       "        newTs[i] += _truthy(newTs[i - 1]) || 0\n",
       "    }\n",
       "    for (i = 0; i < this._dividers.length; i += 1) {\n",
       "        this._move_divider(i, newTs[i]);\n",
       "    }\n",
       "    this._set_own_min_size();\n",
       "    return null;\n",
       "};\n",
       "\n",
       "flexx.classes.Splitter.prototype.__resize_elements_func = function (size) {\n",
       "    if (_truthy(this._on_resize)) {\n",
       "        this._on_resize();\n",
       "    }\n",
       "    return null;\n",
       "};\n",
       "\n",
       "flexx.classes.Splitter.prototype.__resize_elements_func._upstream = ['actual_size'];\n",
       "\n",
       "flexx.classes.Splitter.prototype.__resize_elements_func._signal_type = 'Signal';\n",
       "\n",
       "flexx.classes.Splitter.prototype._setup = function () {\n",
       "    var clientWidth, clientX, clipT, container, dividers, handle, left, minHeight, minWidth, minimumWidth, move_divider, node, on_mouse_down, on_mouse_move, on_mouse_up, on_resize, set_own_min_size, that, w2, width;\n",
       "    // Setup the splitter dynamics. We use closures that all access\n",
       "    // the same data.\n",
       "    handle = this._handle;\n",
       "    container = this._container;\n",
       "    that = this;\n",
       "    node = this.node;\n",
       "    dividers = this._dividers;\n",
       "    clientX = (_truthy(this._horizontal))? ('clientX') : ('clientY');\n",
       "    left = (_truthy(this._horizontal))? ('left') : ('top');\n",
       "    width = (_truthy(this._horizontal))? ('width') : ('height');\n",
       "    clientWidth = (_truthy(this._horizontal))? ('clientWidth') : ('clientHeight');\n",
       "    minWidth = (_truthy(this._horizontal))? ('min-width') : ('min-height');\n",
       "    minHeight = (_truthy(this._horizontal))? ('min-height') : ('min-width');\n",
       "    minimumWidth = 20;\n",
       "    w2 = 3;\n",
       "    handle.style[width] = (2 * w2) + 'px';\n",
       "    handle.isdragging = 0;\n",
       "    move_divider = function (i, t) {\n",
       "        var begin, children, end;\n",
       "        children = that.children();\n",
       "        if (_truthy(t < 1)) {\n",
       "            t *= node[clientWidth]\n",
       "        }\n",
       "        t = clipT(i, t);\n",
       "        (dividers[i]).t = t;\n",
       "        (dividers[i]).tInPerc = t / (node[clientWidth]);\n",
       "        handle.style[left] = (dividers[i]).style[left] = (t - w2) + 'px';\n",
       "        begin = (i == 0)? (0) : (((dividers[i - 1]).t) + w2);\n",
       "        end = (i == (dividers.length - 1))? (node[clientWidth]) : (((dividers[i + 1]).t) - w2);\n",
       "        ((children[i]).node).style[left] = begin + 'px';\n",
       "        ((children[i]).node).style[width] = ((t - begin) - w2) + 'px';\n",
       "        ((children[i + 1]).node).style[left] = (t + w2) + 'px';\n",
       "        ((children[i + 1]).node).style[width] = ((end - t) - w2) + 'px';\n",
       "        (children[i])._check_resize();\n",
       "        (children[i + 1])._check_resize();\n",
       "        return null;\n",
       "    };\n",
       "\n",
       "    set_own_min_size = function () {\n",
       "        var children, h, i, w;\n",
       "        w = h = 50;\n",
       "        children = that.children();\n",
       "        for (i = 0; i < children.length; i += 1) {\n",
       "            w += (_truthy((2 * w2) + (parseFloat(((children[i]).node).style[minWidth])))) || _truthy(minimumWidth)\n",
       "            h = Math.max(h, (parseFloat(((children[i]).node).style[minHeight])));\n",
       "        }\n",
       "        node.style[minWidth] = w + 'px';\n",
       "        node.style[minHeight] = h + 'px';\n",
       "        return null;\n",
       "    };\n",
       "\n",
       "    clipT = function (i, t) {\n",
       "        var max, min;\n",
       "        // Clip the t value, taking into account the boundary of the \n",
       "        // splitter itself, neighboring dividers, and the minimum sizes \n",
       "        // of widget elements.\n",
       "        min = (_truthy(i > 0))? ((dividers[i - 1]).t) : (0);\n",
       "        max = (_truthy(i < (dividers.length - 1)))? ((dividers[i + 1]).t) : (node[clientWidth]);\n",
       "        min += (_truthy((2 * w2) + (parseFloat(((that.children()[i]).node).style[minWidth])))) || _truthy(minimumWidth)\n",
       "        max -= (_truthy((2 * w2) + (parseFloat(((that.children()[i + 1]).node).style[minWidth])))) || _truthy(minimumWidth)\n",
       "        return Math.min(max, Math.max(min, t));\n",
       "    };\n",
       "\n",
       "    on_resize = function () {\n",
       "        var i;\n",
       "        if ((window.getComputedStyle(node).position) == 'absolute') {\n",
       "            container.style.left = '0px';\n",
       "            container.style.top = '0px';\n",
       "            container.style.width = node.offsetWidth + 'px';\n",
       "            container.style.height = node.offsetHeight + 'px';\n",
       "        } else {\n",
       "            container.style.left = node.offsetLeft + 'px';\n",
       "            container.style.top = node.offsetTop + 'px';\n",
       "            container.style.width = node.offsetWidth + 'px';\n",
       "            container.style.height = node.offsetHeight + 'px';\n",
       "        }\n",
       "        (container.classList.remove || function (x) {this.splice(this.indexOf(x), 1);}).apply(container.classList, ['dotransition']);\n",
       "        for (i = 0; i < dividers.length; i += 1) {\n",
       "            move_divider(i, (dividers[i]).tInPerc);\n",
       "        }\n",
       "        return null;\n",
       "    };\n",
       "\n",
       "    on_mouse_down = function (ev) {\n",
       "        container.classList.add('dotransition');\n",
       "        ev.stopPropagation();\n",
       "        ev.preventDefault();\n",
       "        handle.isdragging = ev.target.index + 1;\n",
       "        handle.mouseStartPos = ev[clientX];\n",
       "        handle.style.opacity = '1';\n",
       "        return null;\n",
       "    };\n",
       "\n",
       "    on_mouse_move = function (ev) {\n",
       "        var i, x;\n",
       "        if (_truthy(handle.isdragging)) {\n",
       "            ev.stopPropagation();\n",
       "            ev.preventDefault();\n",
       "            i = handle.isdragging - 1;\n",
       "            x = ((ev[clientX]) - (node.getBoundingClientRect()[left])) - w2;\n",
       "            handle.style[left] = clipT(i, x) + 'px';\n",
       "        }\n",
       "        return null;\n",
       "    };\n",
       "\n",
       "    on_mouse_up = function (ev) {\n",
       "        var i, x;\n",
       "        if (_truthy(handle.isdragging)) {\n",
       "            ev.stopPropagation();\n",
       "            ev.preventDefault();\n",
       "            i = handle.isdragging - 1;\n",
       "            handle.isdragging = 0;\n",
       "            handle.style.opacity = '0';\n",
       "            x = (ev[clientX]) - (node.getBoundingClientRect()[left]);\n",
       "            move_divider(i, clipT(i, x));\n",
       "        }\n",
       "        return null;\n",
       "    };\n",
       "\n",
       "    this._set_own_min_size = set_own_min_size;\n",
       "    this._move_divider = move_divider;\n",
       "    this._on_mouse_down = on_mouse_down;\n",
       "    this._on_resize = on_resize;\n",
       "    console.log('on_resize set');\n",
       "    container.addEventListener('mousemove', on_mouse_move, false);\n",
       "    window.addEventListener('mouseup', on_mouse_up, false);\n",
       "    return null;\n",
       "};\n",
       "\n",
       "\n",
       "flexx.classes.HSplitter = function () {\n",
       "    if (this.__init__) {\n",
       "       this.__init__.apply(this, arguments);\n",
       "    }\n",
       "};\n",
       "flexx.classes.HSplitter.prototype = Object.create(flexx.classes.Splitter.prototype);\n",
       "flexx.classes.HSplitter.prototype._base_class = flexx.classes.Splitter.prototype;\n",
       "\n",
       "\n",
       "flexx.classes.HSplitter.prototype.__signals__ = flexx.classes.Splitter.prototype.__signals__.concat([]).sort();\n",
       "flexx.classes.HSplitter.prototype._init = function () {\n",
       "    this._horizontal = true;\n",
       "    flexx.classes.Splitter.prototype._init.call(this);\n",
       "    return null;\n",
       "};\n",
       "\n",
       "\n",
       "flexx.classes.VSplitter = function () {\n",
       "    if (this.__init__) {\n",
       "       this.__init__.apply(this, arguments);\n",
       "    }\n",
       "};\n",
       "flexx.classes.VSplitter.prototype = Object.create(flexx.classes.Splitter.prototype);\n",
       "flexx.classes.VSplitter.prototype._base_class = flexx.classes.Splitter.prototype;\n",
       "\n",
       "\n",
       "flexx.classes.VSplitter.prototype.__signals__ = flexx.classes.Splitter.prototype.__signals__.concat([]).sort();\n",
       "flexx.classes.VSplitter.prototype._init = function () {\n",
       "    this._horizontal = false;\n",
       "    flexx.classes.Splitter.prototype._init.call(this);\n",
       "    return null;\n",
       "};\n",
       "\n",
       "\n",
       "flexx.classes.BaseTableLayout = function () {\n",
       "    if (this.__init__) {\n",
       "       this.__init__.apply(this, arguments);\n",
       "    }\n",
       "};\n",
       "flexx.classes.BaseTableLayout.prototype = Object.create(flexx.classes.Layout.prototype);\n",
       "flexx.classes.BaseTableLayout.prototype._base_class = flexx.classes.Layout.prototype;\n",
       "\n",
       "\n",
       "flexx.classes.BaseTableLayout.prototype.__signals__ = flexx.classes.Layout.prototype.__signals__.concat(['_adapt_to_size_change']).sort();\n",
       "var round = Math.round;\n",
       "flexx.classes.BaseTableLayout.prototype.__adapt_to_size_change_func = function (size) {\n",
       "    var cum_vflex, i, remainingHeight, remainingPercentage, row, table;\n",
       "    // This function adapts the height (in percent) of the flexible rows\n",
       "    // of a layout. This is needed because the percent-height applies to the\n",
       "    // total height of the table. This function is called whenever the\n",
       "    // table resizes, and adjusts the percent-height, taking the available \n",
       "    // remaining table height into account. This is not necesary for the\n",
       "    // width, since percent-width in colums *does* apply to available width.\n",
       "    table = this.node;\n",
       "    if ((!_truthy(this.actual_size.last_value)) || ((this.actual_size.value[1]) != (this.actual_size.last_value[1]))) {\n",
       "        for (i = 0; i < table.children.length; i += 1) {\n",
       "            row = table.children[i];\n",
       "            if (_truthy(row.vflex > 0)) {\n",
       "                row.style.height = '100%';\n",
       "                break;\n",
       "            }\n",
       "        }\n",
       "        remainingHeight = table.clientHeight;\n",
       "        cum_vflex = 0;\n",
       "        for (i = 0; i < table.children.length; i += 1) {\n",
       "            row = table.children[i];\n",
       "            cum_vflex += row.vflex\n",
       "            if ((row.vflex == 0) && _truthy(row.children.length > 0)) {\n",
       "                remainingHeight -= (row.children[0]).clientHeight\n",
       "            }\n",
       "        }\n",
       "        remainingPercentage = (100 * remainingHeight) / table.clientHeight;\n",
       "        for (i = 0; i < table.children.length; i += 1) {\n",
       "            row = table.children[i];\n",
       "            if (_truthy(row.vflex > 0)) {\n",
       "                row.style.height = ((round((row.vflex / cum_vflex) * remainingPercentage)) + 1) + '%';\n",
       "            }\n",
       "        }\n",
       "    }\n",
       "    return null;\n",
       "};\n",
       "\n",
       "flexx.classes.BaseTableLayout.prototype.__adapt_to_size_change_func._upstream = ['actual_size'];\n",
       "\n",
       "flexx.classes.BaseTableLayout.prototype.__adapt_to_size_change_func._signal_type = 'Signal';\n",
       "\n",
       "flexx.classes.BaseTableLayout.prototype._apply_cell_layout = function (row, col, vflex, hflex, cum_vflex, cum_hflex) {\n",
       "    var err_1;\n",
       "    err_1 = new Error('NotImplementedError:' + \"\"); err_1.name = \"NotImplementedError\"; throw err_1;\n",
       "    return null;\n",
       "};\n",
       "\n",
       "flexx.classes.BaseTableLayout.prototype._apply_table_layout = function () {\n",
       "    var AUTOFLEX, col, cum_hflex, cum_vflex, hflexes, i, j, ncols, nrows, row, table, vflexes;\n",
       "    table = this.node;\n",
       "    AUTOFLEX = 729;\n",
       "    nrows = table.children.length;\n",
       "    ncols = 0;\n",
       "    for (i = 0; i < table.children.length; i += 1) {\n",
       "        row = table.children[i];\n",
       "        ncols = Math.max(ncols, row.children.length);\n",
       "    }\n",
       "    if ((ncols == 0) && (nrows == 0)) {\n",
       "        return null;\n",
       "    }\n",
       "    vflexes = [];\n",
       "    hflexes = [];\n",
       "    for (i = 0; i < nrows; i += 1) {\n",
       "        row = table.children[i];\n",
       "        for (j = 0; j < ncols; j += 1) {\n",
       "            col = row.children[j];\n",
       "            if ((col === undefined) || (col.children.length == 0)) {\n",
       "                continue;\n",
       "            }\n",
       "            vflexes[i] = Math.max((_truthy(vflexes[i]) || 0), ((_truthy((col.children[0]).vflex)) || 0));\n",
       "            hflexes[j] = Math.max((_truthy(hflexes[j]) || 0), ((_truthy((col.children[0]).hflex)) || 0));\n",
       "        }\n",
       "    }\n",
       "    cum_vflex = vflexes.reduce(function (pv, cv) {return pv + cv;}, 0);\n",
       "    cum_hflex = hflexes.reduce(function (pv, cv) {return pv + cv;}, 0);\n",
       "    if (cum_vflex == 0) {\n",
       "        for (i = 0; i < vflexes.length; i += 1) {\n",
       "            vflexes[i] = AUTOFLEX;\n",
       "        }\n",
       "        cum_vflex = vflexes.length * AUTOFLEX;\n",
       "    }\n",
       "    if (cum_hflex == 0) {\n",
       "        for (i = 0; i < hflexes.length; i += 1) {\n",
       "            hflexes[i] = AUTOFLEX;\n",
       "        }\n",
       "        cum_hflex = hflexes.length * AUTOFLEX;\n",
       "    }\n",
       "    for (i = 0; i < nrows; i += 1) {\n",
       "        row = table.children[i];\n",
       "        row.vflex = _truthy(vflexes[i]) || 0;\n",
       "        for (j = 0; j < ncols; j += 1) {\n",
       "            col = row.children[j];\n",
       "            if ((col === undefined) || (col.children.length === 0)) {\n",
       "                continue;\n",
       "            }\n",
       "            this._apply_cell_layout(row, col, vflexes[i], hflexes[j], cum_vflex, cum_hflex);\n",
       "        }\n",
       "    }\n",
       "    return null;\n",
       "};\n",
       "\n",
       "\n",
       "flexx.classes.FormLayout = function () {\n",
       "    if (this.__init__) {\n",
       "       this.__init__.apply(this, arguments);\n",
       "    }\n",
       "};\n",
       "flexx.classes.FormLayout.prototype = Object.create(flexx.classes.BaseTableLayout.prototype);\n",
       "flexx.classes.FormLayout.prototype._base_class = flexx.classes.BaseTableLayout.prototype;\n",
       "\n",
       "\n",
       "flexx.classes.FormLayout.prototype.__signals__ = flexx.classes.BaseTableLayout.prototype.__signals__.concat([]).sort();\n",
       "flexx.classes.FormLayout.prototype._add_child = function (widget) {\n",
       "    var itemsInRow, row, td;\n",
       "    row = this.node.children[this.node.children.length -1];\n",
       "    itemsInRow = row.children.length;\n",
       "    if (_truthy(itemsInRow >= 2)) {\n",
       "        row = document.createElement('tr');\n",
       "        this.node.appendChild(row);\n",
       "    }\n",
       "    td = document.createElement('td');\n",
       "    row.appendChild(td);\n",
       "    td.appendChild(widget.node);\n",
       "    this._update_layout();\n",
       "    this._apply_table_layout();\n",
       "    return null;\n",
       "};\n",
       "\n",
       "flexx.classes.FormLayout.prototype._apply_cell_layout = function (row, col, vflex, hflex, cum_vflex, cum_hflex) {\n",
       "    var AUTOFLEX, className;\n",
       "    AUTOFLEX = 729;\n",
       "    className = '';\n",
       "    if ((vflex == AUTOFLEX) || (vflex == 0)) {\n",
       "        row.style.height = 'auto';\n",
       "        className += ''\n",
       "    } else {\n",
       "        row.style.height = ((vflex * 100) / cum_vflex) + '%';\n",
       "        className += 'vflex'\n",
       "    }\n",
       "    className += ' '\n",
       "    if (hflex == 0) {\n",
       "        col.style.width = 'auto';\n",
       "        className += ''\n",
       "    } else {\n",
       "        col.style.width = '100%';\n",
       "        className += 'hflex'\n",
       "    }\n",
       "    col.className = className;\n",
       "    return null;\n",
       "};\n",
       "\n",
       "flexx.classes.FormLayout.prototype._create_node = function () {\n",
       "    this.node = document.createElement('table');\n",
       "    this.node.appendChild(document.createElement('tr'));\n",
       "    return null;\n",
       "};\n",
       "\n",
       "flexx.classes.FormLayout.prototype._remove_child = function (widget) {\n",
       "    return null;\n",
       "};\n",
       "\n",
       "flexx.classes.FormLayout.prototype._update_layout = function () {\n",
       "    var dummy1_sequence, dummy2_iter, i, widget;\n",
       "    // Set hflex and vflex on node.\n",
       "    i = 0;\n",
       "    dummy1_sequence = this.children();\n",
       "    if ((typeof dummy1_sequence === \"object\") && (!Array.isArray(dummy1_sequence))) {\n",
       "        dummy1_sequence = Object.keys(dummy1_sequence);\n",
       "    }\n",
       "    for (dummy2_iter = 0; dummy2_iter < dummy1_sequence.length; dummy2_iter += 1) {\n",
       "        widget = dummy1_sequence[dummy2_iter];\n",
       "        i += 1\n",
       "        widget.node.hflex = (_truthy(i % 2))? (0) : (1);\n",
       "        widget.node.vflex = widget.flex();\n",
       "    }\n",
       "    this._apply_table_layout();\n",
       "    return null;\n",
       "};\n",
       "\n",
       "\n",
       "flexx.classes.GridLayout = function () {\n",
       "    if (this.__init__) {\n",
       "       this.__init__.apply(this, arguments);\n",
       "    }\n",
       "};\n",
       "flexx.classes.GridLayout.prototype = Object.create(flexx.classes.BaseTableLayout.prototype);\n",
       "flexx.classes.GridLayout.prototype._base_class = flexx.classes.BaseTableLayout.prototype;\n",
       "\n",
       "\n",
       "flexx.classes.GridLayout.prototype.__signals__ = flexx.classes.BaseTableLayout.prototype.__signals__.concat([]).sort();\n",
       "\n",
       "flexx.classes.PinboardLayout = function () {\n",
       "    if (this.__init__) {\n",
       "       this.__init__.apply(this, arguments);\n",
       "    }\n",
       "};\n",
       "flexx.classes.PinboardLayout.prototype = Object.create(flexx.classes.Layout.prototype);\n",
       "flexx.classes.PinboardLayout.prototype._base_class = flexx.classes.Layout.prototype;\n",
       "\n",
       "\n",
       "flexx.classes.PinboardLayout.prototype.__signals__ = flexx.classes.Layout.prototype.__signals__.concat([]).sort();\n",
       "flexx.classes.PinboardLayout.prototype._create_node = function () {\n",
       "    this.node = document.createElement('div');\n",
       "    return null;\n",
       "};\n",
       "\n",
       "\n",
       "flexx.classes.Button = function () {\n",
       "    if (this.__init__) {\n",
       "       this.__init__.apply(this, arguments);\n",
       "    }\n",
       "};\n",
       "flexx.classes.Button.prototype = Object.create(flexx.classes.Widget.prototype);\n",
       "flexx.classes.Button.prototype._base_class = flexx.classes.Widget.prototype;\n",
       "\n",
       "\n",
       "flexx.classes.Button.prototype.__signals__ = flexx.classes.Widget.prototype.__signals__.concat(['_text_changed', 'mouse_down', 'text']).sort();\n",
       "flexx.classes.Button.prototype._create_node = function () {\n",
       "    var that;\n",
       "    this.node = document.createElement('button');\n",
       "    that = this;\n",
       "    this.node.addEventListener('mousedown', function (ev) {return that.mouse_down._set(true);}, false);\n",
       "    this.node.addEventListener('mouseup', function (ev) {return that.mouse_down._set(false);}, false);\n",
       "    return null;\n",
       "};\n",
       "\n",
       "flexx.classes.Button.prototype.__text_changed_func = function (text) {\n",
       "    this.node.innerHTML = text;\n",
       "    return null;\n",
       "};\n",
       "\n",
       "flexx.classes.Button.prototype.__text_changed_func._upstream = ['text'];\n",
       "\n",
       "flexx.classes.Button.prototype.__text_changed_func._signal_type = 'Signal';\n",
       "\n",
       "var bool = function (x) {return Boolean(_truthy(x));};\n",
       "flexx.classes.Button.prototype._mouse_down_func = function (v) {\n",
       "    return bool(v);\n",
       "};\n",
       "\n",
       "flexx.classes.Button.prototype._mouse_down_func._upstream = [];\n",
       "\n",
       "flexx.classes.Button.prototype._mouse_down_func._signal_type = 'SourceSignal';\n",
       "\n",
       "flexx.classes.Button.prototype._text_func = function (v) {\n",
       "    return v;\n",
       "};\n",
       "\n",
       "flexx.classes.Button.prototype._text_func._upstream = [];\n",
       "\n",
       "flexx.classes.Button.prototype._text_func._signal_type = 'PyInputSignal';\n",
       "\n",
       "\n",
       "flexx.classes.Slider = function () {\n",
       "    if (this.__init__) {\n",
       "       this.__init__.apply(this, arguments);\n",
       "    }\n",
       "};\n",
       "flexx.classes.Slider.prototype = Object.create(flexx.classes.Widget.prototype);\n",
       "flexx.classes.Slider.prototype._base_class = flexx.classes.Widget.prototype;\n",
       "\n",
       "\n",
       "flexx.classes.Slider.prototype.__signals__ = flexx.classes.Widget.prototype.__signals__.concat(['_max_changed', '_min_changed', '_step_changed', '_value_changed', 'max', 'min', 'step', 'user_value', 'value']).sort();\n",
       "flexx.classes.Slider.prototype._create_node = function () {\n",
       "    var that;\n",
       "    this.node = document.createElement('input');\n",
       "    this.node.type = 'range';\n",
       "    that = this;\n",
       "    this.node.addEventListener('input', function (ev) {return that.user_value._set(that.node.value);}, false);\n",
       "    return null;\n",
       "};\n",
       "\n",
       "flexx.classes.Slider.prototype.__max_changed_func = function (max_value) {\n",
       "    this.node.max = max_value;\n",
       "    return null;\n",
       "};\n",
       "\n",
       "flexx.classes.Slider.prototype.__max_changed_func._upstream = ['max'];\n",
       "\n",
       "flexx.classes.Slider.prototype.__max_changed_func._signal_type = 'Signal';\n",
       "\n",
       "flexx.classes.Slider.prototype.__min_changed_func = function (min_value) {\n",
       "    this.node.min = min_value;\n",
       "    return null;\n",
       "};\n",
       "\n",
       "flexx.classes.Slider.prototype.__min_changed_func._upstream = ['min'];\n",
       "\n",
       "flexx.classes.Slider.prototype.__min_changed_func._signal_type = 'Signal';\n",
       "\n",
       "flexx.classes.Slider.prototype.__step_changed_func = function (step) {\n",
       "    this.node.step = step;\n",
       "    return null;\n",
       "};\n",
       "\n",
       "flexx.classes.Slider.prototype.__step_changed_func._upstream = ['step'];\n",
       "\n",
       "flexx.classes.Slider.prototype.__step_changed_func._signal_type = 'Signal';\n",
       "\n",
       "flexx.classes.Slider.prototype.__value_changed_func = function (value) {\n",
       "    this.node.value = value;\n",
       "    return null;\n",
       "};\n",
       "\n",
       "flexx.classes.Slider.prototype.__value_changed_func._upstream = ['value'];\n",
       "\n",
       "flexx.classes.Slider.prototype.__value_changed_func._signal_type = 'Signal';\n",
       "\n",
       "flexx.classes.Slider.prototype._max_func = function (v) {\n",
       "    return v;\n",
       "};\n",
       "\n",
       "flexx.classes.Slider.prototype._max_func._upstream = [];\n",
       "\n",
       "flexx.classes.Slider.prototype._max_func._signal_type = 'PyInputSignal';\n",
       "\n",
       "flexx.classes.Slider.prototype._min_func = function (v) {\n",
       "    return v;\n",
       "};\n",
       "\n",
       "flexx.classes.Slider.prototype._min_func._upstream = [];\n",
       "\n",
       "flexx.classes.Slider.prototype._min_func._signal_type = 'PyInputSignal';\n",
       "\n",
       "flexx.classes.Slider.prototype._step_func = function (v) {\n",
       "    return v;\n",
       "};\n",
       "\n",
       "flexx.classes.Slider.prototype._step_func._upstream = [];\n",
       "\n",
       "flexx.classes.Slider.prototype._step_func._signal_type = 'PyInputSignal';\n",
       "\n",
       "var float = Number;\n",
       "flexx.classes.Slider.prototype._user_value_func = function (v) {\n",
       "    // The slider value set by the user (updates on user interaction).\n",
       "    if (v !== undefined) {\n",
       "        v = float(v);\n",
       "        this.value(v);\n",
       "    }\n",
       "    return v;\n",
       "};\n",
       "\n",
       "flexx.classes.Slider.prototype._user_value_func._upstream = [];\n",
       "\n",
       "flexx.classes.Slider.prototype._user_value_func._signal_type = 'SourceSignal';\n",
       "\n",
       "flexx.classes.Slider.prototype._value_func = function (v) {\n",
       "    return v;\n",
       "};\n",
       "\n",
       "flexx.classes.Slider.prototype._value_func._upstream = [];\n",
       "\n",
       "flexx.classes.Slider.prototype._value_func._signal_type = 'PyInputSignal';\n",
       "\n",
       "\n",
       "flexx.classes.LineEdit = function () {\n",
       "    if (this.__init__) {\n",
       "       this.__init__.apply(this, arguments);\n",
       "    }\n",
       "};\n",
       "flexx.classes.LineEdit.prototype = Object.create(flexx.classes.Widget.prototype);\n",
       "flexx.classes.LineEdit.prototype._base_class = flexx.classes.Widget.prototype;\n",
       "\n",
       "\n",
       "flexx.classes.LineEdit.prototype.__signals__ = flexx.classes.Widget.prototype.__signals__.concat(['_autocomp_changed', '_placeholder_text_changed', '_text_changed', 'autocomp', 'placeholder_text', 'submit', 'text', 'user_text']).sort();\n",
       "flexx.classes.LineEdit.prototype.__autocomp_changed_func = function (autocomp) {\n",
       "    var dummy1_sequence, dummy2_iter, dummy3_sequence, dummy4_iter, op, option;\n",
       "    dummy1_sequence = this._autocomp;\n",
       "    if ((typeof dummy1_sequence === \"object\") && (!Array.isArray(dummy1_sequence))) {\n",
       "        dummy1_sequence = Object.keys(dummy1_sequence);\n",
       "    }\n",
       "    for (dummy2_iter = 0; dummy2_iter < dummy1_sequence.length; dummy2_iter += 1) {\n",
       "        op = dummy1_sequence[dummy2_iter];\n",
       "        this._autocomp.removeChild(op);\n",
       "    }\n",
       "    dummy3_sequence = autocomp;\n",
       "    if ((typeof dummy3_sequence === \"object\") && (!Array.isArray(dummy3_sequence))) {\n",
       "        dummy3_sequence = Object.keys(dummy3_sequence);\n",
       "    }\n",
       "    for (dummy4_iter = 0; dummy4_iter < dummy3_sequence.length; dummy4_iter += 1) {\n",
       "        option = dummy3_sequence[dummy4_iter];\n",
       "        op = document.createElement('option');\n",
       "        op.value = option;\n",
       "        this._autocomp.appendChild(op);\n",
       "    }\n",
       "    return null;\n",
       "};\n",
       "\n",
       "flexx.classes.LineEdit.prototype.__autocomp_changed_func._upstream = ['autocomp'];\n",
       "\n",
       "flexx.classes.LineEdit.prototype.__autocomp_changed_func._signal_type = 'Signal';\n",
       "\n",
       "flexx.classes.LineEdit.prototype._create_node = function () {\n",
       "    var that;\n",
       "    this.node = document.createElement('div');\n",
       "    this.node.innerHTML = '<input type=\"text\", list=\"' + this.id + '\" />';\n",
       "    this.node = this.node.childNodes[0];\n",
       "    this._autocomp = document.createElement('datalist');\n",
       "    this._autocomp.id = this.id;\n",
       "    this.node.appendChild(this._autocomp);\n",
       "    that = this;\n",
       "    this.node.addEventListener('input', function (ev) {return that.user_text._set(that.node.value);}, false);\n",
       "    this.node.addEventListener('keydown', function (ev) {return that.submit._set(ev.which);}, false);\n",
       "    return null;\n",
       "};\n",
       "\n",
       "flexx.classes.LineEdit.prototype.__placeholder_text_changed_func = function (text) {\n",
       "    this.node.placeholder = text;\n",
       "    return null;\n",
       "};\n",
       "\n",
       "flexx.classes.LineEdit.prototype.__placeholder_text_changed_func._upstream = ['placeholder_text'];\n",
       "\n",
       "flexx.classes.LineEdit.prototype.__placeholder_text_changed_func._signal_type = 'Signal';\n",
       "\n",
       "flexx.classes.LineEdit.prototype.__text_changed_func = function (text) {\n",
       "    this.node.value = text;\n",
       "    return null;\n",
       "};\n",
       "\n",
       "flexx.classes.LineEdit.prototype.__text_changed_func._upstream = ['text'];\n",
       "\n",
       "flexx.classes.LineEdit.prototype.__text_changed_func._signal_type = 'Signal';\n",
       "\n",
       "flexx.classes.LineEdit.prototype._autocomp_func = function (v) {\n",
       "    return v;\n",
       "};\n",
       "\n",
       "flexx.classes.LineEdit.prototype._autocomp_func._upstream = [];\n",
       "\n",
       "flexx.classes.LineEdit.prototype._autocomp_func._signal_type = 'PyInputSignal';\n",
       "\n",
       "flexx.classes.LineEdit.prototype._placeholder_text_func = function (v) {\n",
       "    return v;\n",
       "};\n",
       "\n",
       "flexx.classes.LineEdit.prototype._placeholder_text_func._upstream = [];\n",
       "\n",
       "flexx.classes.LineEdit.prototype._placeholder_text_func._signal_type = 'PyInputSignal';\n",
       "\n",
       "flexx.classes.LineEdit.prototype._submit_func = function (key) {\n",
       "    // The user strikes the enter or return key.\n",
       "    if (key == 13) {\n",
       "        return true;\n",
       "    }\n",
       "    return undefined;\n",
       "};\n",
       "\n",
       "flexx.classes.LineEdit.prototype._submit_func._upstream = [];\n",
       "\n",
       "flexx.classes.LineEdit.prototype._submit_func._signal_type = 'SourceSignal';\n",
       "\n",
       "flexx.classes.LineEdit.prototype._text_func = function (v) {\n",
       "    return v;\n",
       "};\n",
       "\n",
       "flexx.classes.LineEdit.prototype._text_func._upstream = [];\n",
       "\n",
       "flexx.classes.LineEdit.prototype._text_func._signal_type = 'PyInputSignal';\n",
       "\n",
       "var str = String;\n",
       "flexx.classes.LineEdit.prototype._user_text_func = function (v) {\n",
       "    // The text set by the user (updates on each keystroke).\n",
       "    if (v !== undefined) {\n",
       "        v = str(v);\n",
       "        this.text(v);\n",
       "    }\n",
       "    return v;\n",
       "};\n",
       "\n",
       "flexx.classes.LineEdit.prototype._user_text_func._upstream = [];\n",
       "\n",
       "flexx.classes.LineEdit.prototype._user_text_func._signal_type = 'SourceSignal';\n",
       "\n",
       "\n",
       "flexx.classes.Label = function () {\n",
       "    if (this.__init__) {\n",
       "       this.__init__.apply(this, arguments);\n",
       "    }\n",
       "};\n",
       "flexx.classes.Label.prototype = Object.create(flexx.classes.Widget.prototype);\n",
       "flexx.classes.Label.prototype._base_class = flexx.classes.Widget.prototype;\n",
       "\n",
       "\n",
       "flexx.classes.Label.prototype.__signals__ = flexx.classes.Widget.prototype.__signals__.concat(['_text_changed', 'text']).sort();\n",
       "flexx.classes.Label.prototype._js_create_node = function () {\n",
       "    this.node = document.createElement('div');\n",
       "    ((/*py-dict.get*/typeof flexx.get===\"function\" ? flexx.get('body') : (flexx['body'] || null))).appendChild(this.node);\n",
       "    return null;\n",
       "};\n",
       "\n",
       "flexx.classes.Label.prototype.__text_changed_func = function (text) {\n",
       "    this.node.innerHTML = text;\n",
       "    return null;\n",
       "};\n",
       "\n",
       "flexx.classes.Label.prototype.__text_changed_func._upstream = ['text'];\n",
       "\n",
       "flexx.classes.Label.prototype.__text_changed_func._signal_type = 'Signal';\n",
       "\n",
       "flexx.classes.Label.prototype._text_func = function (v) {\n",
       "    return v;\n",
       "};\n",
       "\n",
       "flexx.classes.Label.prototype._text_func._upstream = [];\n",
       "\n",
       "flexx.classes.Label.prototype._text_func._signal_type = 'PyInputSignal';\n",
       "\n",
       "\n",
       "flexx.classes.Panel = function () {\n",
       "    if (this.__init__) {\n",
       "       this.__init__.apply(this, arguments);\n",
       "    }\n",
       "};\n",
       "flexx.classes.Panel.prototype = Object.create(flexx.classes.Widget.prototype);\n",
       "flexx.classes.Panel.prototype._base_class = flexx.classes.Widget.prototype;\n",
       "\n",
       "\n",
       "flexx.classes.Panel.prototype.__signals__ = flexx.classes.Widget.prototype.__signals__.concat(['_title_changed', 'title']).sort();\n",
       "flexx.classes.Panel.prototype._create_node = function () {\n",
       "    this.node = document.createElement('fieldset');\n",
       "    this._legend = document.createElement('legend');\n",
       "    this.node.appendChild(this._legend);\n",
       "    return null;\n",
       "};\n",
       "\n",
       "flexx.classes.Panel.prototype.__title_changed_func = function (title) {\n",
       "    this._legend.innerHTML = title;\n",
       "    return null;\n",
       "};\n",
       "\n",
       "flexx.classes.Panel.prototype.__title_changed_func._upstream = ['title'];\n",
       "\n",
       "flexx.classes.Panel.prototype.__title_changed_func._signal_type = 'Signal';\n",
       "\n",
       "flexx.classes.Panel.prototype._title_func = function (v) {\n",
       "    return v;\n",
       "};\n",
       "\n",
       "flexx.classes.Panel.prototype._title_func._upstream = [];\n",
       "\n",
       "flexx.classes.Panel.prototype._title_func._signal_type = 'PyInputSignal';\n",
       "\n",
       "\n",
       "flexx.classes.ProgressBar = function () {\n",
       "    if (this.__init__) {\n",
       "       this.__init__.apply(this, arguments);\n",
       "    }\n",
       "};\n",
       "flexx.classes.ProgressBar.prototype = Object.create(flexx.classes.Widget.prototype);\n",
       "flexx.classes.ProgressBar.prototype._base_class = flexx.classes.Widget.prototype;\n",
       "\n",
       "\n",
       "flexx.classes.ProgressBar.prototype.__signals__ = flexx.classes.Widget.prototype.__signals__.concat(['_max_changed', '_value_changed', 'max', 'value']).sort();\n",
       "flexx.classes.ProgressBar.prototype._create_node = function () {\n",
       "    this.node = document.createElement('progress');\n",
       "    return null;\n",
       "};\n",
       "\n",
       "flexx.classes.ProgressBar.prototype.__max_changed_func = function (max_value) {\n",
       "    this.node.max = max_value;\n",
       "    return null;\n",
       "};\n",
       "\n",
       "flexx.classes.ProgressBar.prototype.__max_changed_func._upstream = ['max'];\n",
       "\n",
       "flexx.classes.ProgressBar.prototype.__max_changed_func._signal_type = 'Signal';\n",
       "\n",
       "flexx.classes.ProgressBar.prototype.__value_changed_func = function (value) {\n",
       "    this.node.value = value;\n",
       "    return null;\n",
       "};\n",
       "\n",
       "flexx.classes.ProgressBar.prototype.__value_changed_func._upstream = ['value'];\n",
       "\n",
       "flexx.classes.ProgressBar.prototype.__value_changed_func._signal_type = 'Signal';\n",
       "\n",
       "flexx.classes.ProgressBar.prototype._max_func = function (v) {\n",
       "    return v;\n",
       "};\n",
       "\n",
       "flexx.classes.ProgressBar.prototype._max_func._upstream = [];\n",
       "\n",
       "flexx.classes.ProgressBar.prototype._max_func._signal_type = 'PyInputSignal';\n",
       "\n",
       "flexx.classes.ProgressBar.prototype._value_func = function (v) {\n",
       "    return v;\n",
       "};\n",
       "\n",
       "flexx.classes.ProgressBar.prototype._value_func._upstream = [];\n",
       "\n",
       "flexx.classes.ProgressBar.prototype._value_func._signal_type = 'PyInputSignal';\n",
       "\n",
       "\n",
       "flexx.classes.PlotWidget = function () {\n",
       "    if (this.__init__) {\n",
       "       this.__init__.apply(this, arguments);\n",
       "    }\n",
       "};\n",
       "flexx.classes.PlotWidget.prototype = Object.create(flexx.classes.Widget.prototype);\n",
       "flexx.classes.PlotWidget.prototype._base_class = flexx.classes.Widget.prototype;\n",
       "\n",
       "\n",
       "flexx.classes.PlotWidget.prototype.__signals__ = flexx.classes.Widget.prototype.__signals__.concat(['_update_canvas_size', '_update_plot', 'line_color', 'line_width', 'marker_color', 'marker_size', 'title', 'xdata', 'xlabel', 'ydata', 'ylabel', 'yrange']).sort();\n",
       "flexx.classes.PlotWidget.prototype._create_node = function () {\n",
       "    var ctx, dummy1_sequence, dummy2_iter, e, i;\n",
       "    this.node = document.createElement('canvas');\n",
       "    this._context = ctx = this.node.getContext('2d');\n",
       "    this._tick_units = [];\n",
       "    for (e = -10; e < 10; e += 1) {\n",
       "        dummy1_sequence = [10, 20, 25, 50];\n",
       "        if ((typeof dummy1_sequence === \"object\") && (!Array.isArray(dummy1_sequence))) {\n",
       "            dummy1_sequence = Object.keys(dummy1_sequence);\n",
       "        }\n",
       "        for (dummy2_iter = 0; dummy2_iter < dummy1_sequence.length; dummy2_iter += 1) {\n",
       "            i = dummy1_sequence[dummy2_iter];\n",
       "            (this._tick_units.append || this._tick_units.push).apply(this._tick_units, [i * Math.pow(10, e)]);\n",
       "        }\n",
       "    }\n",
       "    return null;\n",
       "};\n",
       "\n",
       "flexx.classes.PlotWidget.prototype._get_ticks = function (scale, t1, t2, min_tick_dist) {\n",
       "    var dummy1_else, dummy2_sequence, dummy3_iter, dummy4_, first_tick, i, last_tick, t, tick_unit, ticks;\n",
       "    min_tick_dist = (min_tick_dist === undefined) ? 40: min_tick_dist;\n",
       "    dummy1_else = true;\n",
       "    dummy2_sequence = this._tick_units;\n",
       "    if ((typeof dummy2_sequence === \"object\") && (!Array.isArray(dummy2_sequence))) {\n",
       "        dummy2_sequence = Object.keys(dummy2_sequence);\n",
       "    }\n",
       "    for (dummy3_iter = 0; dummy3_iter < dummy2_sequence.length; dummy3_iter += 1) {\n",
       "        tick_unit = dummy2_sequence[dummy3_iter];\n",
       "        if (_truthy((tick_unit * scale) >= min_tick_dist)) {\n",
       "            dummy1_else = false; break;\n",
       "        }\n",
       "    } if (dummy1_else) {\n",
       "        return [];\n",
       "    }\n",
       "    first_tick = Math.ceil(t1 / tick_unit) * tick_unit;\n",
       "    last_tick = Math.floor(t2 / tick_unit) * tick_unit;\n",
       "    ticks = [];\n",
       "    t = first_tick;\n",
       "    while (t <= last_tick) {\n",
       "        (ticks.append || ticks.push).apply(ticks, [t]);\n",
       "        t += tick_unit\n",
       "    }\n",
       "    for (i = 0; i < ticks.length; i += 1) {\n",
       "        t = (ticks[i]).toPrecision(4);\n",
       "        if (_truthy(((dummy4_ = t).indexOf ? dummy4_ : Object.keys(dummy4_)).indexOf('.') >= 0)) {\n",
       "            t = t.replace(new RegExp('[0]+$'), '');\n",
       "        }\n",
       "        if ((t[t.length -1]) == '.') {\n",
       "            t += '0'\n",
       "        }\n",
       "        ticks[i] = t;\n",
       "    }\n",
       "    return ticks;\n",
       "};\n",
       "\n",
       "flexx.classes.PlotWidget.prototype.__update_canvas_size_func = function (size) {\n",
       "    if (_truthy(size[0]) && _truthy(size[1])) {\n",
       "        this.node.width = size[0];\n",
       "        this.node.height = size[1];\n",
       "    }\n",
       "    return null;\n",
       "};\n",
       "\n",
       "flexx.classes.PlotWidget.prototype.__update_canvas_size_func._upstream = ['actual_size'];\n",
       "\n",
       "flexx.classes.PlotWidget.prototype.__update_canvas_size_func._signal_type = 'Signal';\n",
       "\n",
       "var zip = function (iter1, iter2) { var i, res=[];if ((typeof iter1 === \"object\") && (!Array.isArray(iter1))) {    iter1 = Object.keys(iter1);}if ((typeof iter2 === \"object\") && (!Array.isArray(iter2))) {    iter2 = Object.keys(iter2);}var len = Math.min(iter1.length, iter2.length);for (i=0; i<len; i++) {res.push([iter1[i], iter2[i]]);}return res;};\n",
       "flexx.classes.PlotWidget.prototype.__update_plot_func = function (xx, yy, yrange, lc, lw, mc, ms, title, xlabel, ylabel) {\n",
       "    var bpad, ctx, dummy10_iter, dummy11_sequence, dummy12_iter, dummy13_sequence, dummy14_iter, dummy15_sequence, dummy16_iter, dummy17_target, dummy18_sequence, dummy19_iter, dummy1_, dummy20_target, dummy21_sequence, dummy22_iter, dummy23_target, dummy24_sequence, dummy25_iter, dummy26_target, dummy2_, dummy3_, dummy4_, dummy5_, dummy6_, dummy7_sequence, dummy8_iter, dummy9_sequence, h, lpad, rpad, scale_x, scale_y, sx, sx_ticks, sxx, sy, sy_ticks, syy, tpad, w, x, x1, x2, x_ticks, y, y1, y2, y_ticks;\n",
       "    ctx = this._context;\n",
       "    dummy1_ = [this.node.width, this.node.height];\n",
       "    w = dummy1_[0];h = dummy1_[1];\n",
       "    dummy2_ = [Math.min.apply(null, xx), Math.max.apply(null, xx)];\n",
       "    x1 = dummy2_[0];x2 = dummy2_[1];\n",
       "    dummy3_ = [Math.min.apply(null, yy), Math.max.apply(null, yy)];\n",
       "    y1 = dummy3_[0];y2 = dummy3_[1];\n",
       "    if (_truthy(xx)) {\n",
       "        x1 -= (x2 - x1) * 0.02\n",
       "        x2 += (x2 - x1) * 0.02\n",
       "    } else {\n",
       "        dummy4_ = [0, 1];\n",
       "        x1 = dummy4_[0];x2 = dummy4_[1];\n",
       "    }\n",
       "    if (_truthy(yrange)) {\n",
       "        dummy5_ = yrange;\n",
       "        y1 = dummy5_[0];y2 = dummy5_[1];\n",
       "    } else if (_truthy(yy)) {\n",
       "        y1 -= (y2 - y1) * 0.02\n",
       "        y2 += (y2 - y1) * 0.02\n",
       "    } else {\n",
       "        dummy6_ = [0, 1];\n",
       "        y1 = dummy6_[0];y2 = dummy6_[1];\n",
       "    }\n",
       "    lpad = rpad = bpad = tpad = 25.5;\n",
       "    lpad += 30\n",
       "    if (_truthy(title)) {\n",
       "        tpad += 10\n",
       "    }\n",
       "    if (_truthy(xlabel)) {\n",
       "        bpad += 20\n",
       "    }\n",
       "    if (_truthy(ylabel)) {\n",
       "        lpad += 20\n",
       "    }\n",
       "    scale_x = ((w - lpad) - rpad) / (x2 - x1);\n",
       "    scale_y = ((h - bpad) - tpad) / (y2 - y1);\n",
       "    sxx = (function list_comprehenson () {var res = [];var x, iter0, i0;iter0 = xx;if ((typeof iter0 === \"object\") && (!Array.isArray(iter0))) {iter0 = Object.keys(iter0);}for (i0=0; i0<iter0.length; i0++) {x = iter0[i0];{res.push(lpad + ((x - x1) * scale_x));}}return res;})();\n",
       "    syy = (function list_comprehenson () {var res = [];var y, iter0, i0;iter0 = yy;if ((typeof iter0 === \"object\") && (!Array.isArray(iter0))) {iter0 = Object.keys(iter0);}for (i0=0; i0<iter0.length; i0++) {y = iter0[i0];{res.push(bpad + ((y - y1) * scale_y));}}return res;})();\n",
       "    x_ticks = this._get_ticks(scale_x, x1, x2);\n",
       "    y_ticks = this._get_ticks(scale_y, y1, y2);\n",
       "    sx_ticks = (function list_comprehenson () {var res = [];var x, iter0, i0;iter0 = x_ticks;if ((typeof iter0 === \"object\") && (!Array.isArray(iter0))) {iter0 = Object.keys(iter0);}for (i0=0; i0<iter0.length; i0++) {x = iter0[i0];{res.push(lpad + ((x - x1) * scale_x));}}return res;})();\n",
       "    sy_ticks = (function list_comprehenson () {var res = [];var y, iter0, i0;iter0 = y_ticks;if ((typeof iter0 === \"object\") && (!Array.isArray(iter0))) {iter0 = Object.keys(iter0);}for (i0=0; i0<iter0.length; i0++) {y = iter0[i0];{res.push(bpad + ((y - y1) * scale_y));}}return res;})();\n",
       "    ctx.clearRect(0, 0, w, h);\n",
       "    ctx.fillStyle = 'white';\n",
       "    ctx.fillRect(lpad, tpad, (w - lpad) - rpad, (h - bpad) - tpad);\n",
       "    ctx.beginPath();\n",
       "    ctx.lineWidth = 1;\n",
       "    ctx.strokeStyle = '#444';\n",
       "    dummy7_sequence = sx_ticks;\n",
       "    if ((typeof dummy7_sequence === \"object\") && (!Array.isArray(dummy7_sequence))) {\n",
       "        dummy7_sequence = Object.keys(dummy7_sequence);\n",
       "    }\n",
       "    for (dummy8_iter = 0; dummy8_iter < dummy7_sequence.length; dummy8_iter += 1) {\n",
       "        sx = dummy7_sequence[dummy8_iter];\n",
       "        ctx.moveTo(sx, h - bpad);\n",
       "        ctx.lineTo(sx, (h - bpad) + 5);\n",
       "    }\n",
       "    dummy9_sequence = sy_ticks;\n",
       "    if ((typeof dummy9_sequence === \"object\") && (!Array.isArray(dummy9_sequence))) {\n",
       "        dummy9_sequence = Object.keys(dummy9_sequence);\n",
       "    }\n",
       "    for (dummy10_iter = 0; dummy10_iter < dummy9_sequence.length; dummy10_iter += 1) {\n",
       "        sy = dummy9_sequence[dummy10_iter];\n",
       "        ctx.moveTo(lpad, h - sy);\n",
       "        ctx.lineTo(lpad - 5, h - sy);\n",
       "    }\n",
       "    ctx.stroke();\n",
       "    ctx.beginPath();\n",
       "    ctx.lineWidth = 1;\n",
       "    ctx.setLineDash([2, 2]);\n",
       "    ctx.strokeStyle = '#ccc';\n",
       "    dummy11_sequence = sx_ticks;\n",
       "    if ((typeof dummy11_sequence === \"object\") && (!Array.isArray(dummy11_sequence))) {\n",
       "        dummy11_sequence = Object.keys(dummy11_sequence);\n",
       "    }\n",
       "    for (dummy12_iter = 0; dummy12_iter < dummy11_sequence.length; dummy12_iter += 1) {\n",
       "        sx = dummy11_sequence[dummy12_iter];\n",
       "        ctx.moveTo(sx, h - bpad);\n",
       "        ctx.lineTo(sx, tpad);\n",
       "    }\n",
       "    dummy13_sequence = sy_ticks;\n",
       "    if ((typeof dummy13_sequence === \"object\") && (!Array.isArray(dummy13_sequence))) {\n",
       "        dummy13_sequence = Object.keys(dummy13_sequence);\n",
       "    }\n",
       "    for (dummy14_iter = 0; dummy14_iter < dummy13_sequence.length; dummy14_iter += 1) {\n",
       "        sy = dummy13_sequence[dummy14_iter];\n",
       "        ctx.moveTo(lpad, h - sy);\n",
       "        ctx.lineTo(w - rpad, h - sy);\n",
       "    }\n",
       "    ctx.stroke();\n",
       "    ctx.setLineDash([]);\n",
       "    ctx.font = '11px verdana';\n",
       "    ctx.fillStyle = 'black';\n",
       "    ctx.textAlign = 'center';\n",
       "    ctx.textBaseline = 'top';\n",
       "    dummy15_sequence = zip(x_ticks, sx_ticks);\n",
       "    if ((typeof dummy15_sequence === \"object\") && (!Array.isArray(dummy15_sequence))) {\n",
       "        dummy15_sequence = Object.keys(dummy15_sequence);\n",
       "    }\n",
       "    for (dummy16_iter = 0; dummy16_iter < dummy15_sequence.length; dummy16_iter += 1) {\n",
       "        dummy17_target = dummy15_sequence[dummy16_iter];\n",
       "        x = dummy17_target[0]; sx = dummy17_target[1];\n",
       "        ctx.fillText(x, sx, (h - bpad) + 8);\n",
       "    }\n",
       "    ctx.textAlign = 'end';\n",
       "    ctx.textBaseline = 'middle';\n",
       "    dummy18_sequence = zip(y_ticks, sy_ticks);\n",
       "    if ((typeof dummy18_sequence === \"object\") && (!Array.isArray(dummy18_sequence))) {\n",
       "        dummy18_sequence = Object.keys(dummy18_sequence);\n",
       "    }\n",
       "    for (dummy19_iter = 0; dummy19_iter < dummy18_sequence.length; dummy19_iter += 1) {\n",
       "        dummy20_target = dummy18_sequence[dummy19_iter];\n",
       "        y = dummy20_target[0]; sy = dummy20_target[1];\n",
       "        ctx.fillText(y, lpad - 8, h - sy);\n",
       "    }\n",
       "    ctx.textAlign = 'center';\n",
       "    if (_truthy(title)) {\n",
       "        ctx.font = '20px verdana';\n",
       "        ctx.textBaseline = 'top';\n",
       "        ctx.fillText(title, w / 2, 5);\n",
       "    }\n",
       "    if (_truthy(xlabel)) {\n",
       "        ctx.font = '16px verdana';\n",
       "        ctx.textBaseline = 'bottom';\n",
       "        ctx.fillText(xlabel, w / 2, h - 5);\n",
       "    }\n",
       "    if (_truthy(ylabel)) {\n",
       "        ctx.save();\n",
       "        ctx.translate(0, h / 2);\n",
       "        ctx.rotate((-Math.PI) / 2);\n",
       "        ctx.textBaseline = 'top';\n",
       "        ctx.fillText(ylabel, 0, 5);\n",
       "        ctx.restore();\n",
       "    }\n",
       "    ctx.beginPath();\n",
       "    ctx.lineWidth = 1;\n",
       "    ctx.strokeStyle = '#444';\n",
       "    ctx.moveTo(lpad, tpad);\n",
       "    ctx.lineTo(lpad, h - bpad);\n",
       "    ctx.lineTo(w - rpad, h - bpad);\n",
       "    ctx.stroke();\n",
       "    if (_truthy(lc) && _truthy(lw)) {\n",
       "        ctx.beginPath();\n",
       "        ctx.lineWidth = lw;\n",
       "        ctx.strokeStyle = lc;\n",
       "        ctx.moveTo(sxx[0], h - (syy[0]));\n",
       "        dummy21_sequence = zip(sxx, syy);\n",
       "        if ((typeof dummy21_sequence === \"object\") && (!Array.isArray(dummy21_sequence))) {\n",
       "            dummy21_sequence = Object.keys(dummy21_sequence);\n",
       "        }\n",
       "        for (dummy22_iter = 0; dummy22_iter < dummy21_sequence.length; dummy22_iter += 1) {\n",
       "            dummy23_target = dummy21_sequence[dummy22_iter];\n",
       "            x = dummy23_target[0]; y = dummy23_target[1];\n",
       "            ctx.lineTo(x, h - y);\n",
       "        }\n",
       "        ctx.stroke();\n",
       "    }\n",
       "    if (_truthy(mc) && _truthy(ms)) {\n",
       "        ctx.fillStyle = mc;\n",
       "        dummy24_sequence = zip(sxx, syy);\n",
       "        if ((typeof dummy24_sequence === \"object\") && (!Array.isArray(dummy24_sequence))) {\n",
       "            dummy24_sequence = Object.keys(dummy24_sequence);\n",
       "        }\n",
       "        for (dummy25_iter = 0; dummy25_iter < dummy24_sequence.length; dummy25_iter += 1) {\n",
       "            dummy26_target = dummy24_sequence[dummy25_iter];\n",
       "            x = dummy26_target[0]; y = dummy26_target[1];\n",
       "            ctx.beginPath();\n",
       "            ctx.arc(x, h - y, ms / 2, 0, 2 * Math.PI);\n",
       "            ctx.fill();\n",
       "        }\n",
       "    }\n",
       "    return null;\n",
       "};\n",
       "\n",
       "flexx.classes.PlotWidget.prototype.__update_plot_func._upstream = ['xdata', 'ydata', 'yrange', 'line_color', 'line_width', 'marker_color', 'marker_size', 'title', 'xlabel', 'ylabel', '_update_canvas_size'];\n",
       "\n",
       "flexx.classes.PlotWidget.prototype.__update_plot_func._signal_type = 'Signal';\n",
       "\n",
       "flexx.classes.PlotWidget.prototype._line_color_func = function (v) {\n",
       "    return v;\n",
       "};\n",
       "\n",
       "flexx.classes.PlotWidget.prototype._line_color_func._upstream = [];\n",
       "\n",
       "flexx.classes.PlotWidget.prototype._line_color_func._signal_type = 'PyInputSignal';\n",
       "\n",
       "flexx.classes.PlotWidget.prototype._line_width_func = function (v) {\n",
       "    return v;\n",
       "};\n",
       "\n",
       "flexx.classes.PlotWidget.prototype._line_width_func._upstream = [];\n",
       "\n",
       "flexx.classes.PlotWidget.prototype._line_width_func._signal_type = 'PyInputSignal';\n",
       "\n",
       "flexx.classes.PlotWidget.prototype._marker_color_func = function (v) {\n",
       "    return v;\n",
       "};\n",
       "\n",
       "flexx.classes.PlotWidget.prototype._marker_color_func._upstream = [];\n",
       "\n",
       "flexx.classes.PlotWidget.prototype._marker_color_func._signal_type = 'PyInputSignal';\n",
       "\n",
       "flexx.classes.PlotWidget.prototype._marker_size_func = function (v) {\n",
       "    return v;\n",
       "};\n",
       "\n",
       "flexx.classes.PlotWidget.prototype._marker_size_func._upstream = [];\n",
       "\n",
       "flexx.classes.PlotWidget.prototype._marker_size_func._signal_type = 'PyInputSignal';\n",
       "\n",
       "flexx.classes.PlotWidget.prototype._title_func = function (v) {\n",
       "    return v;\n",
       "};\n",
       "\n",
       "flexx.classes.PlotWidget.prototype._title_func._upstream = [];\n",
       "\n",
       "flexx.classes.PlotWidget.prototype._title_func._signal_type = 'PyInputSignal';\n",
       "\n",
       "flexx.classes.PlotWidget.prototype._xdata_func = function (v) {\n",
       "    return v;\n",
       "};\n",
       "\n",
       "flexx.classes.PlotWidget.prototype._xdata_func._upstream = [];\n",
       "\n",
       "flexx.classes.PlotWidget.prototype._xdata_func._signal_type = 'PyInputSignal';\n",
       "\n",
       "flexx.classes.PlotWidget.prototype._xlabel_func = function (v) {\n",
       "    return v;\n",
       "};\n",
       "\n",
       "flexx.classes.PlotWidget.prototype._xlabel_func._upstream = [];\n",
       "\n",
       "flexx.classes.PlotWidget.prototype._xlabel_func._signal_type = 'PyInputSignal';\n",
       "\n",
       "flexx.classes.PlotWidget.prototype._ydata_func = function (v) {\n",
       "    return v;\n",
       "};\n",
       "\n",
       "flexx.classes.PlotWidget.prototype._ydata_func._upstream = [];\n",
       "\n",
       "flexx.classes.PlotWidget.prototype._ydata_func._signal_type = 'PyInputSignal';\n",
       "\n",
       "flexx.classes.PlotWidget.prototype._ylabel_func = function (v) {\n",
       "    return v;\n",
       "};\n",
       "\n",
       "flexx.classes.PlotWidget.prototype._ylabel_func._upstream = [];\n",
       "\n",
       "flexx.classes.PlotWidget.prototype._ylabel_func._signal_type = 'PyInputSignal';\n",
       "\n",
       "flexx.classes.PlotWidget.prototype._yrange_func = function (v) {\n",
       "    return v;\n",
       "};\n",
       "\n",
       "flexx.classes.PlotWidget.prototype._yrange_func._upstream = [];\n",
       "\n",
       "flexx.classes.PlotWidget.prototype._yrange_func._signal_type = 'PyInputSignal';\n",
       "\n",
       "\n",
       "flexx.classes.PlotLayout = function () {\n",
       "    if (this.__init__) {\n",
       "       this.__init__.apply(this, arguments);\n",
       "    }\n",
       "};\n",
       "flexx.classes.PlotLayout.prototype = Object.create(flexx.classes.Layout.prototype);\n",
       "flexx.classes.PlotLayout.prototype._base_class = flexx.classes.Layout.prototype;\n",
       "\n",
       "\n",
       "flexx.classes.PlotLayout.prototype.__signals__ = flexx.classes.Layout.prototype.__signals__.concat([]).sort();\n",
       "</script><script>flexx.ws_url='ws://localhost:54307/__default__/ws'; flexx.is_notebook=true; flexx.init();</script>"
      ],
      "text/plain": [
       "<IPython.core.display.HTML object>"
      ]
     },
     "metadata": {},
     "output_type": "display_data"
    }
   ],
   "source": [
    "from flexx import app, ui, react\n",
    "app.init_notebook()"
   ]
  },
  {
   "cell_type": "markdown",
   "metadata": {},
   "source": [
    "## Displaying widgets"
   ]
  },
  {
   "cell_type": "markdown",
   "metadata": {},
   "source": [
    "Widgets can be inserted into the notebook by making them a cell output:"
   ]
  },
  {
   "cell_type": "code",
   "execution_count": 2,
   "metadata": {
    "collapsed": false
   },
   "outputs": [
    {
     "data": {
      "text/html": [
       "<div class='flx-container' id=Button1_container />"
      ],
      "text/plain": [
       "<flexx.ui._button.Button at 0x7f4914b849b0>"
      ]
     },
     "execution_count": 2,
     "metadata": {},
     "output_type": "execute_result"
    }
   ],
   "source": [
    "b = ui.Button(text='foo')\n",
    "b"
   ]
  },
  {
   "cell_type": "markdown",
   "metadata": {},
   "source": [
    "Widgets have many input signals to modify their appearance and behavior:"
   ]
  },
  {
   "cell_type": "code",
   "execution_count": 3,
   "metadata": {
    "collapsed": false
   },
   "outputs": [],
   "source": [
    "b.text('Push me!')"
   ]
  },
  {
   "cell_type": "markdown",
   "metadata": {},
   "source": [
    "## Layout\n",
    "Layout is done using special layout widgets, and written in a structured way using the `with` statement:"
   ]
  },
  {
   "cell_type": "code",
   "execution_count": 4,
   "metadata": {
    "collapsed": false
   },
   "outputs": [
    {
     "data": {
      "text/html": [
       "<div class='flx-container' id=HBox2_container />"
      ],
      "text/plain": [
       "<flexx.ui._box.HBox at 0x7f49223cd390>"
      ]
     },
     "execution_count": 4,
     "metadata": {},
     "output_type": "execute_result"
    }
   ],
   "source": [
    "with ui.HBox() as hbox:\n",
    "    slider = ui.Slider(flex=0)\n",
    "    label = ui.Label(flex=1, text='xx')\n",
    "hbox"
   ]
  },
  {
   "cell_type": "markdown",
   "metadata": {},
   "source": [
    "## React\n",
    "Defining reactions is easy:"
   ]
  },
  {
   "cell_type": "code",
   "execution_count": 5,
   "metadata": {
    "collapsed": false
   },
   "outputs": [
    {
     "name": "stdout",
     "output_type": "stream",
     "text": [
      "new ws connection __default__\n"
     ]
    },
    {
     "data": {
      "application/javascript": [
       "flexx.command('EXEC flexx.instances.Label4._set_signal_from_py(\\'text\\', \\'\"0.0\"\\', 0);');"
      ],
      "text/plain": [
       "<IPython.core.display.Javascript object>"
      ]
     },
     "metadata": {},
     "output_type": "display_data"
    },
    {
     "data": {
      "application/javascript": [
       "flexx.command('EXEC flexx.instances.HBox2._set_signal_from_py(\\'container_id\\', \\'\"HBox2_container\"\\', 0);');"
      ],
      "text/plain": [
       "<IPython.core.display.Javascript object>"
      ]
     },
     "metadata": {},
     "output_type": "display_data"
    }
   ],
   "source": [
    "@react.connect('slider.value')\n",
    "def show_slider_value(v):\n",
    "    label.text(str(v))"
   ]
  },
  {
   "cell_type": "markdown",
   "metadata": {},
   "source": [
    "## Compound widgets\n",
    "The above quickly gets messy. You can better create new widgets by wrapping together other widgets:"
   ]
  },
  {
   "cell_type": "code",
   "execution_count": 6,
   "metadata": {
    "collapsed": false
   },
   "outputs": [
    {
     "data": {
      "application/javascript": [
       "flexx.command(\"DEFINE-JS flexx.classes.MyWidget = function () {\\n    if (this.__init__) {\\n       this.__init__.apply(this, arguments);\\n    }\\n};\\nflexx.classes.MyWidget.prototype = Object.create(flexx.classes.Widget.prototype);\\nflexx.classes.MyWidget.prototype._base_class = flexx.classes.Widget.prototype;\\n\\n\\nflexx.classes.MyWidget.prototype.__signals__ = flexx.classes.Widget.prototype.__signals__.concat(['show_slider_value']).sort();\\nflexx.classes.MyWidget.prototype._show_slider_value_func = function (v) {\\n    return v;\\n};\\n\\nflexx.classes.MyWidget.prototype._show_slider_value_func._upstream = [];\\n\\nflexx.classes.MyWidget.prototype._show_slider_value_func._signal_type = 'PySignal';\\n\");"
      ],
      "text/plain": [
       "<IPython.core.display.Javascript object>"
      ]
     },
     "metadata": {},
     "output_type": "display_data"
    },
    {
     "data": {
      "application/javascript": [
       "flexx.command(\"EXEC flexx.instances.MyWidget5 = new flexx.classes.MyWidget('MyWidget5');\");"
      ],
      "text/plain": [
       "<IPython.core.display.Javascript object>"
      ]
     },
     "metadata": {},
     "output_type": "display_data"
    },
    {
     "data": {
      "application/javascript": [
       "flexx.command('EXEC flexx.instances.MyWidget5._set_signal_from_py(\\'_css_class_name\\', \\'\"\"\\', 0);');"
      ],
      "text/plain": [
       "<IPython.core.display.Javascript object>"
      ]
     },
     "metadata": {},
     "output_type": "display_data"
    },
    {
     "data": {
      "application/javascript": [
       "flexx.command('EXEC flexx.instances.MyWidget5._set_signal_from_py(\\'bgcolor\\', \\'\"\"\\', 0);');"
      ],
      "text/plain": [
       "<IPython.core.display.Javascript object>"
      ]
     },
     "metadata": {},
     "output_type": "display_data"
    },
    {
     "data": {
      "application/javascript": [
       "flexx.command(\"EXEC flexx.instances.MyWidget5._set_signal_from_py('children', '[]', 0);\");"
      ],
      "text/plain": [
       "<IPython.core.display.Javascript object>"
      ]
     },
     "metadata": {},
     "output_type": "display_data"
    },
    {
     "data": {
      "application/javascript": [
       "flexx.command('EXEC flexx.instances.MyWidget5._set_signal_from_py(\\'container_id\\', \\'\"\"\\', 0);');"
      ],
      "text/plain": [
       "<IPython.core.display.Javascript object>"
      ]
     },
     "metadata": {},
     "output_type": "display_data"
    },
    {
     "data": {
      "application/javascript": [
       "flexx.command(\"EXEC flexx.instances.MyWidget5._set_signal_from_py('flex', '0.0', 0);\");"
      ],
      "text/plain": [
       "<IPython.core.display.Javascript object>"
      ]
     },
     "metadata": {},
     "output_type": "display_data"
    },
    {
     "data": {
      "application/javascript": [
       "flexx.command(\"EXEC flexx.instances.MyWidget5._set_signal_from_py('min_size', '[0.0, 0.0]', 0);\");"
      ],
      "text/plain": [
       "<IPython.core.display.Javascript object>"
      ]
     },
     "metadata": {},
     "output_type": "display_data"
    },
    {
     "data": {
      "application/javascript": [
       "flexx.command(\"EXEC flexx.instances.MyWidget5._set_signal_from_py('parent', 'null', 0);\");"
      ],
      "text/plain": [
       "<IPython.core.display.Javascript object>"
      ]
     },
     "metadata": {},
     "output_type": "display_data"
    },
    {
     "data": {
      "application/javascript": [
       "flexx.command(\"EXEC flexx.instances.MyWidget5._set_signal_from_py('pos', '[0.0, 0.0]', 0);\");"
      ],
      "text/plain": [
       "<IPython.core.display.Javascript object>"
      ]
     },
     "metadata": {},
     "output_type": "display_data"
    },
    {
     "data": {
      "application/javascript": [
       "flexx.command(\"EXEC flexx.instances.MyWidget5._set_signal_from_py('size', '[0.0, 0.0]', 0);\");"
      ],
      "text/plain": [
       "<IPython.core.display.Javascript object>"
      ]
     },
     "metadata": {},
     "output_type": "display_data"
    },
    {
     "data": {
      "application/javascript": [
       "flexx.command(\"EXEC flexx.instances.MyWidget5._set_signal_from_py('parent', 'null', 0);\");"
      ],
      "text/plain": [
       "<IPython.core.display.Javascript object>"
      ]
     },
     "metadata": {},
     "output_type": "display_data"
    },
    {
     "data": {
      "application/javascript": [
       "flexx.command('EXEC flexx.instances.MyWidget5._set_signal_from_py(\\'_css_class_name\\', \\'\"flx-mywidget flx-widget\"\\', 0);');"
      ],
      "text/plain": [
       "<IPython.core.display.Javascript object>"
      ]
     },
     "metadata": {},
     "output_type": "display_data"
    },
    {
     "data": {
      "application/javascript": [
       "flexx.command(\"EXEC flexx.instances.MyWidget5._set_signal_from_py('_parent_changed_py', 'null', 0);\");"
      ],
      "text/plain": [
       "<IPython.core.display.Javascript object>"
      ]
     },
     "metadata": {},
     "output_type": "display_data"
    },
    {
     "data": {
      "application/javascript": [
       "flexx.command(\"EXEC flexx.instances.HBox6 = new flexx.classes.HBox('HBox6');\");"
      ],
      "text/plain": [
       "<IPython.core.display.Javascript object>"
      ]
     },
     "metadata": {},
     "output_type": "display_data"
    },
    {
     "data": {
      "application/javascript": [
       "flexx.command('EXEC flexx.instances.HBox6._set_signal_from_py(\\'_css_class_name\\', \\'\"\"\\', 0);');"
      ],
      "text/plain": [
       "<IPython.core.display.Javascript object>"
      ]
     },
     "metadata": {},
     "output_type": "display_data"
    },
    {
     "data": {
      "application/javascript": [
       "flexx.command('EXEC flexx.instances.HBox6._set_signal_from_py(\\'bgcolor\\', \\'\"\"\\', 0);');"
      ],
      "text/plain": [
       "<IPython.core.display.Javascript object>"
      ]
     },
     "metadata": {},
     "output_type": "display_data"
    },
    {
     "data": {
      "application/javascript": [
       "flexx.command(\"EXEC flexx.instances.HBox6._set_signal_from_py('children', '[]', 0);\");"
      ],
      "text/plain": [
       "<IPython.core.display.Javascript object>"
      ]
     },
     "metadata": {},
     "output_type": "display_data"
    },
    {
     "data": {
      "application/javascript": [
       "flexx.command('EXEC flexx.instances.HBox6._set_signal_from_py(\\'container_id\\', \\'\"\"\\', 0);');"
      ],
      "text/plain": [
       "<IPython.core.display.Javascript object>"
      ]
     },
     "metadata": {},
     "output_type": "display_data"
    },
    {
     "data": {
      "application/javascript": [
       "flexx.command(\"EXEC flexx.instances.HBox6._set_signal_from_py('flex', '0.0', 0);\");"
      ],
      "text/plain": [
       "<IPython.core.display.Javascript object>"
      ]
     },
     "metadata": {},
     "output_type": "display_data"
    },
    {
     "data": {
      "application/javascript": [
       "flexx.command(\"EXEC flexx.instances.HBox6._set_signal_from_py('margin', '0.0', 0);\");"
      ],
      "text/plain": [
       "<IPython.core.display.Javascript object>"
      ]
     },
     "metadata": {},
     "output_type": "display_data"
    },
    {
     "data": {
      "application/javascript": [
       "flexx.command(\"EXEC flexx.instances.HBox6._set_signal_from_py('min_size', '[0.0, 0.0]', 0);\");"
      ],
      "text/plain": [
       "<IPython.core.display.Javascript object>"
      ]
     },
     "metadata": {},
     "output_type": "display_data"
    },
    {
     "data": {
      "application/javascript": [
       "flexx.command(\"EXEC flexx.instances.HBox6._set_signal_from_py('parent', 'null', 0);\");"
      ],
      "text/plain": [
       "<IPython.core.display.Javascript object>"
      ]
     },
     "metadata": {},
     "output_type": "display_data"
    },
    {
     "data": {
      "application/javascript": [
       "flexx.command(\"EXEC flexx.instances.HBox6._set_signal_from_py('pos', '[0.0, 0.0]', 0);\");"
      ],
      "text/plain": [
       "<IPython.core.display.Javascript object>"
      ]
     },
     "metadata": {},
     "output_type": "display_data"
    },
    {
     "data": {
      "application/javascript": [
       "flexx.command(\"EXEC flexx.instances.HBox6._set_signal_from_py('size', '[0.0, 0.0]', 0);\");"
      ],
      "text/plain": [
       "<IPython.core.display.Javascript object>"
      ]
     },
     "metadata": {},
     "output_type": "display_data"
    },
    {
     "data": {
      "application/javascript": [
       "flexx.command(\"EXEC flexx.instances.HBox6._set_signal_from_py('spacing', '0.0', 0);\");"
      ],
      "text/plain": [
       "<IPython.core.display.Javascript object>"
      ]
     },
     "metadata": {},
     "output_type": "display_data"
    },
    {
     "data": {
      "application/javascript": [
       "flexx.command('EXEC flexx.instances.HBox6._set_signal_from_py(\\'parent\\', \\'{\"id\": \"MyWidget5\", \"__type__\": \"Flexx-Pair\"}\\', 0);');"
      ],
      "text/plain": [
       "<IPython.core.display.Javascript object>"
      ]
     },
     "metadata": {},
     "output_type": "display_data"
    },
    {
     "data": {
      "application/javascript": [
       "flexx.command('EXEC flexx.instances.HBox6._set_signal_from_py(\\'_css_class_name\\', \\'\"flx-hbox flx-box flx-layout flx-widget\"\\', 0);');"
      ],
      "text/plain": [
       "<IPython.core.display.Javascript object>"
      ]
     },
     "metadata": {},
     "output_type": "display_data"
    },
    {
     "data": {
      "application/javascript": [
       "flexx.command('EXEC flexx.instances.MyWidget5._set_signal_from_py(\\'children\\', \\'[{\"id\": \"HBox6\", \"__type__\": \"Flexx-Pair\"}]\\', 0);');"
      ],
      "text/plain": [
       "<IPython.core.display.Javascript object>"
      ]
     },
     "metadata": {},
     "output_type": "display_data"
    },
    {
     "data": {
      "application/javascript": [
       "flexx.command(\"EXEC flexx.instances.HBox6._set_signal_from_py('_parent_changed_py', 'null', 0);\");"
      ],
      "text/plain": [
       "<IPython.core.display.Javascript object>"
      ]
     },
     "metadata": {},
     "output_type": "display_data"
    },
    {
     "data": {
      "application/javascript": [
       "flexx.command('EXEC flexx.instances.HBox6.connect_signals(false);');"
      ],
      "text/plain": [
       "<IPython.core.display.Javascript object>"
      ]
     },
     "metadata": {},
     "output_type": "display_data"
    },
    {
     "data": {
      "application/javascript": [
       "flexx.command(\"EXEC flexx.instances.Slider7 = new flexx.classes.Slider('Slider7');\");"
      ],
      "text/plain": [
       "<IPython.core.display.Javascript object>"
      ]
     },
     "metadata": {},
     "output_type": "display_data"
    },
    {
     "data": {
      "application/javascript": [
       "flexx.command('EXEC flexx.instances.Slider7._set_signal_from_py(\\'_css_class_name\\', \\'\"\"\\', 0);');"
      ],
      "text/plain": [
       "<IPython.core.display.Javascript object>"
      ]
     },
     "metadata": {},
     "output_type": "display_data"
    },
    {
     "data": {
      "application/javascript": [
       "flexx.command('EXEC flexx.instances.Slider7._set_signal_from_py(\\'bgcolor\\', \\'\"\"\\', 0);');"
      ],
      "text/plain": [
       "<IPython.core.display.Javascript object>"
      ]
     },
     "metadata": {},
     "output_type": "display_data"
    },
    {
     "data": {
      "application/javascript": [
       "flexx.command(\"EXEC flexx.instances.Slider7._set_signal_from_py('children', '[]', 0);\");"
      ],
      "text/plain": [
       "<IPython.core.display.Javascript object>"
      ]
     },
     "metadata": {},
     "output_type": "display_data"
    },
    {
     "data": {
      "application/javascript": [
       "flexx.command('EXEC flexx.instances.Slider7._set_signal_from_py(\\'container_id\\', \\'\"\"\\', 0);');"
      ],
      "text/plain": [
       "<IPython.core.display.Javascript object>"
      ]
     },
     "metadata": {},
     "output_type": "display_data"
    },
    {
     "data": {
      "application/javascript": [
       "flexx.command(\"EXEC flexx.instances.Slider7._set_signal_from_py('flex', '0.0', 0);\");"
      ],
      "text/plain": [
       "<IPython.core.display.Javascript object>"
      ]
     },
     "metadata": {},
     "output_type": "display_data"
    },
    {
     "data": {
      "application/javascript": [
       "flexx.command(\"EXEC flexx.instances.Slider7._set_signal_from_py('max', '1.0', 0);\");"
      ],
      "text/plain": [
       "<IPython.core.display.Javascript object>"
      ]
     },
     "metadata": {},
     "output_type": "display_data"
    },
    {
     "data": {
      "application/javascript": [
       "flexx.command(\"EXEC flexx.instances.Slider7._set_signal_from_py('min', '0.0', 0);\");"
      ],
      "text/plain": [
       "<IPython.core.display.Javascript object>"
      ]
     },
     "metadata": {},
     "output_type": "display_data"
    },
    {
     "data": {
      "application/javascript": [
       "flexx.command(\"EXEC flexx.instances.Slider7._set_signal_from_py('min_size', '[0.0, 0.0]', 0);\");"
      ],
      "text/plain": [
       "<IPython.core.display.Javascript object>"
      ]
     },
     "metadata": {},
     "output_type": "display_data"
    },
    {
     "data": {
      "application/javascript": [
       "flexx.command(\"EXEC flexx.instances.Slider7._set_signal_from_py('parent', 'null', 0);\");"
      ],
      "text/plain": [
       "<IPython.core.display.Javascript object>"
      ]
     },
     "metadata": {},
     "output_type": "display_data"
    },
    {
     "data": {
      "application/javascript": [
       "flexx.command(\"EXEC flexx.instances.Slider7._set_signal_from_py('pos', '[0.0, 0.0]', 0);\");"
      ],
      "text/plain": [
       "<IPython.core.display.Javascript object>"
      ]
     },
     "metadata": {},
     "output_type": "display_data"
    },
    {
     "data": {
      "application/javascript": [
       "flexx.command(\"EXEC flexx.instances.Slider7._set_signal_from_py('size', '[0.0, 0.0]', 0);\");"
      ],
      "text/plain": [
       "<IPython.core.display.Javascript object>"
      ]
     },
     "metadata": {},
     "output_type": "display_data"
    },
    {
     "data": {
      "application/javascript": [
       "flexx.command(\"EXEC flexx.instances.Slider7._set_signal_from_py('step', '0.01', 0);\");"
      ],
      "text/plain": [
       "<IPython.core.display.Javascript object>"
      ]
     },
     "metadata": {},
     "output_type": "display_data"
    },
    {
     "data": {
      "application/javascript": [
       "flexx.command(\"EXEC flexx.instances.Slider7._set_signal_from_py('value', '0.0', 0);\");"
      ],
      "text/plain": [
       "<IPython.core.display.Javascript object>"
      ]
     },
     "metadata": {},
     "output_type": "display_data"
    },
    {
     "data": {
      "application/javascript": [
       "flexx.command('EXEC flexx.instances.Slider7._set_signal_from_py(\\'parent\\', \\'{\"id\": \"HBox6\", \"__type__\": \"Flexx-Pair\"}\\', 0);');"
      ],
      "text/plain": [
       "<IPython.core.display.Javascript object>"
      ]
     },
     "metadata": {},
     "output_type": "display_data"
    },
    {
     "data": {
      "application/javascript": [
       "flexx.command('EXEC flexx.instances.Slider7._set_signal_from_py(\\'_css_class_name\\', \\'\"flx-slider flx-widget\"\\', 0);');"
      ],
      "text/plain": [
       "<IPython.core.display.Javascript object>"
      ]
     },
     "metadata": {},
     "output_type": "display_data"
    },
    {
     "data": {
      "application/javascript": [
       "flexx.command(\"EXEC flexx.instances.Slider7._set_signal_from_py('flex', '0.0', 0);\");"
      ],
      "text/plain": [
       "<IPython.core.display.Javascript object>"
      ]
     },
     "metadata": {},
     "output_type": "display_data"
    },
    {
     "data": {
      "application/javascript": [
       "flexx.command('EXEC flexx.instances.HBox6._set_signal_from_py(\\'children\\', \\'[{\"id\": \"Slider7\", \"__type__\": \"Flexx-Pair\"}]\\', 0);');"
      ],
      "text/plain": [
       "<IPython.core.display.Javascript object>"
      ]
     },
     "metadata": {},
     "output_type": "display_data"
    },
    {
     "data": {
      "application/javascript": [
       "flexx.command(\"EXEC flexx.instances.Slider7._set_signal_from_py('_parent_changed_py', 'null', 0);\");"
      ],
      "text/plain": [
       "<IPython.core.display.Javascript object>"
      ]
     },
     "metadata": {},
     "output_type": "display_data"
    },
    {
     "data": {
      "application/javascript": [
       "flexx.command('EXEC flexx.instances.Slider7.connect_signals(false);');"
      ],
      "text/plain": [
       "<IPython.core.display.Javascript object>"
      ]
     },
     "metadata": {},
     "output_type": "display_data"
    },
    {
     "data": {
      "application/javascript": [
       "flexx.command('EXEC flexx.instances.MyWidget5._slider = flexx.serializer.loads(\\'{\"id\": \"Slider7\", \"__type__\": \"Flexx-Pair\"}\\');');"
      ],
      "text/plain": [
       "<IPython.core.display.Javascript object>"
      ]
     },
     "metadata": {},
     "output_type": "display_data"
    },
    {
     "data": {
      "application/javascript": [
       "flexx.command(\"EXEC flexx.instances.Label8 = new flexx.classes.Label('Label8');\");"
      ],
      "text/plain": [
       "<IPython.core.display.Javascript object>"
      ]
     },
     "metadata": {},
     "output_type": "display_data"
    },
    {
     "data": {
      "application/javascript": [
       "flexx.command('EXEC flexx.instances.Label8._set_signal_from_py(\\'_css_class_name\\', \\'\"\"\\', 0);');"
      ],
      "text/plain": [
       "<IPython.core.display.Javascript object>"
      ]
     },
     "metadata": {},
     "output_type": "display_data"
    },
    {
     "data": {
      "application/javascript": [
       "flexx.command('EXEC flexx.instances.Label8._set_signal_from_py(\\'bgcolor\\', \\'\"\"\\', 0);');"
      ],
      "text/plain": [
       "<IPython.core.display.Javascript object>"
      ]
     },
     "metadata": {},
     "output_type": "display_data"
    },
    {
     "data": {
      "application/javascript": [
       "flexx.command(\"EXEC flexx.instances.Label8._set_signal_from_py('children', '[]', 0);\");"
      ],
      "text/plain": [
       "<IPython.core.display.Javascript object>"
      ]
     },
     "metadata": {},
     "output_type": "display_data"
    },
    {
     "data": {
      "application/javascript": [
       "flexx.command('EXEC flexx.instances.Label8._set_signal_from_py(\\'container_id\\', \\'\"\"\\', 0);');"
      ],
      "text/plain": [
       "<IPython.core.display.Javascript object>"
      ]
     },
     "metadata": {},
     "output_type": "display_data"
    },
    {
     "data": {
      "application/javascript": [
       "flexx.command(\"EXEC flexx.instances.Label8._set_signal_from_py('flex', '0.0', 0);\");"
      ],
      "text/plain": [
       "<IPython.core.display.Javascript object>"
      ]
     },
     "metadata": {},
     "output_type": "display_data"
    },
    {
     "data": {
      "application/javascript": [
       "flexx.command(\"EXEC flexx.instances.Label8._set_signal_from_py('min_size', '[0.0, 0.0]', 0);\");"
      ],
      "text/plain": [
       "<IPython.core.display.Javascript object>"
      ]
     },
     "metadata": {},
     "output_type": "display_data"
    },
    {
     "data": {
      "application/javascript": [
       "flexx.command(\"EXEC flexx.instances.Label8._set_signal_from_py('parent', 'null', 0);\");"
      ],
      "text/plain": [
       "<IPython.core.display.Javascript object>"
      ]
     },
     "metadata": {},
     "output_type": "display_data"
    },
    {
     "data": {
      "application/javascript": [
       "flexx.command(\"EXEC flexx.instances.Label8._set_signal_from_py('pos', '[0.0, 0.0]', 0);\");"
      ],
      "text/plain": [
       "<IPython.core.display.Javascript object>"
      ]
     },
     "metadata": {},
     "output_type": "display_data"
    },
    {
     "data": {
      "application/javascript": [
       "flexx.command(\"EXEC flexx.instances.Label8._set_signal_from_py('size', '[0.0, 0.0]', 0);\");"
      ],
      "text/plain": [
       "<IPython.core.display.Javascript object>"
      ]
     },
     "metadata": {},
     "output_type": "display_data"
    },
    {
     "data": {
      "application/javascript": [
       "flexx.command('EXEC flexx.instances.Label8._set_signal_from_py(\\'text\\', \\'\"\"\\', 0);');"
      ],
      "text/plain": [
       "<IPython.core.display.Javascript object>"
      ]
     },
     "metadata": {},
     "output_type": "display_data"
    },
    {
     "data": {
      "application/javascript": [
       "flexx.command('EXEC flexx.instances.Label8._set_signal_from_py(\\'parent\\', \\'{\"id\": \"HBox6\", \"__type__\": \"Flexx-Pair\"}\\', 0);');"
      ],
      "text/plain": [
       "<IPython.core.display.Javascript object>"
      ]
     },
     "metadata": {},
     "output_type": "display_data"
    },
    {
     "data": {
      "application/javascript": [
       "flexx.command('EXEC flexx.instances.Label8._set_signal_from_py(\\'text\\', \\'\"xx\"\\', 0);');"
      ],
      "text/plain": [
       "<IPython.core.display.Javascript object>"
      ]
     },
     "metadata": {},
     "output_type": "display_data"
    },
    {
     "data": {
      "application/javascript": [
       "flexx.command('EXEC flexx.instances.Label8._set_signal_from_py(\\'_css_class_name\\', \\'\"flx-label flx-widget\"\\', 0);');"
      ],
      "text/plain": [
       "<IPython.core.display.Javascript object>"
      ]
     },
     "metadata": {},
     "output_type": "display_data"
    },
    {
     "data": {
      "application/javascript": [
       "flexx.command(\"EXEC flexx.instances.Label8._set_signal_from_py('flex', '1.0', 0);\");"
      ],
      "text/plain": [
       "<IPython.core.display.Javascript object>"
      ]
     },
     "metadata": {},
     "output_type": "display_data"
    },
    {
     "data": {
      "application/javascript": [
       "flexx.command('EXEC flexx.instances.HBox6._set_signal_from_py(\\'children\\', \\'[{\"id\": \"Slider7\", \"__type__\": \"Flexx-Pair\"}, {\"id\": \"Label8\", \"__type__\": \"Flexx-Pair\"}]\\', 0);');"
      ],
      "text/plain": [
       "<IPython.core.display.Javascript object>"
      ]
     },
     "metadata": {},
     "output_type": "display_data"
    },
    {
     "data": {
      "application/javascript": [
       "flexx.command(\"EXEC flexx.instances.Label8._set_signal_from_py('_parent_changed_py', 'null', 0);\");"
      ],
      "text/plain": [
       "<IPython.core.display.Javascript object>"
      ]
     },
     "metadata": {},
     "output_type": "display_data"
    },
    {
     "data": {
      "application/javascript": [
       "flexx.command('EXEC flexx.instances.Label8.connect_signals(false);');"
      ],
      "text/plain": [
       "<IPython.core.display.Javascript object>"
      ]
     },
     "metadata": {},
     "output_type": "display_data"
    },
    {
     "data": {
      "application/javascript": [
       "flexx.command('EXEC flexx.instances.MyWidget5._label = flexx.serializer.loads(\\'{\"id\": \"Label8\", \"__type__\": \"Flexx-Pair\"}\\');');"
      ],
      "text/plain": [
       "<IPython.core.display.Javascript object>"
      ]
     },
     "metadata": {},
     "output_type": "display_data"
    },
    {
     "data": {
      "application/javascript": [
       "flexx.command('EXEC flexx.instances.Label8._set_signal_from_py(\\'text\\', \\'\"0.0\"\\', 0);');"
      ],
      "text/plain": [
       "<IPython.core.display.Javascript object>"
      ]
     },
     "metadata": {},
     "output_type": "display_data"
    },
    {
     "data": {
      "application/javascript": [
       "flexx.command(\"EXEC flexx.instances.MyWidget5._set_signal_from_py('show_slider_value', 'null', 0);\");"
      ],
      "text/plain": [
       "<IPython.core.display.Javascript object>"
      ]
     },
     "metadata": {},
     "output_type": "display_data"
    },
    {
     "data": {
      "application/javascript": [
       "flexx.command('EXEC flexx.instances.MyWidget5.connect_signals(false);');"
      ],
      "text/plain": [
       "<IPython.core.display.Javascript object>"
      ]
     },
     "metadata": {},
     "output_type": "display_data"
    },
    {
     "data": {
      "text/html": [
       "<div class='flx-container' id=MyWidget5_container />"
      ],
      "text/plain": [
       "<__main__.MyWidget at 0x7f49223fa518>"
      ]
     },
     "execution_count": 6,
     "metadata": {},
     "output_type": "execute_result"
    }
   ],
   "source": [
    "class MyWidget(ui.Widget):\n",
    "    def init(self):\n",
    "        with ui.HBox():\n",
    "            self._slider = ui.Slider(flex=0)\n",
    "            self._label = ui.Label(flex=1, text='xx')\n",
    "    \n",
    "    @react.connect('_slider.value')\n",
    "    def show_slider_value(self, v):\n",
    "        self._label.text(str(v))\n",
    "\n",
    "w = MyWidget()\n",
    "w"
   ]
  },
  {
   "cell_type": "markdown",
   "metadata": {
    "collapsed": false
   },
   "source": [
    "## Reactions in JS\n",
    "If you want reactions to be handled in JS, use a `JS` nested class:"
   ]
  },
  {
   "cell_type": "code",
   "execution_count": 7,
   "metadata": {
    "collapsed": false
   },
   "outputs": [
    {
     "data": {
      "application/javascript": [
       "flexx.command(\"DEFINE-JS flexx.classes.MyWidget2 = function () {\\n    if (this.__init__) {\\n       this.__init__.apply(this, arguments);\\n    }\\n};\\nflexx.classes.MyWidget2.prototype = Object.create(flexx.classes.Widget.prototype);\\nflexx.classes.MyWidget2.prototype._base_class = flexx.classes.Widget.prototype;\\n\\n\\nflexx.classes.MyWidget2.prototype.__signals__ = flexx.classes.Widget.prototype.__signals__.concat(['show_slider_value']).sort();\\nvar str = String;\\nflexx.classes.MyWidget2.prototype._show_slider_value_func = function (v) {\\n    this.label.text(str(v));\\n    return null;\\n};\\n\\nflexx.classes.MyWidget2.prototype._show_slider_value_func._upstream = ['slider.value'];\\n\\nflexx.classes.MyWidget2.prototype._show_slider_value_func._signal_type = 'Signal';\\n\");"
      ],
      "text/plain": [
       "<IPython.core.display.Javascript object>"
      ]
     },
     "metadata": {},
     "output_type": "display_data"
    },
    {
     "data": {
      "application/javascript": [
       "flexx.command(\"EXEC flexx.instances.MyWidget29 = new flexx.classes.MyWidget2('MyWidget29');\");"
      ],
      "text/plain": [
       "<IPython.core.display.Javascript object>"
      ]
     },
     "metadata": {},
     "output_type": "display_data"
    },
    {
     "data": {
      "application/javascript": [
       "flexx.command('EXEC flexx.instances.MyWidget29._set_signal_from_py(\\'_css_class_name\\', \\'\"\"\\', 0);');"
      ],
      "text/plain": [
       "<IPython.core.display.Javascript object>"
      ]
     },
     "metadata": {},
     "output_type": "display_data"
    },
    {
     "data": {
      "application/javascript": [
       "flexx.command('EXEC flexx.instances.MyWidget29._set_signal_from_py(\\'bgcolor\\', \\'\"\"\\', 0);');"
      ],
      "text/plain": [
       "<IPython.core.display.Javascript object>"
      ]
     },
     "metadata": {},
     "output_type": "display_data"
    },
    {
     "data": {
      "application/javascript": [
       "flexx.command(\"EXEC flexx.instances.MyWidget29._set_signal_from_py('children', '[]', 0);\");"
      ],
      "text/plain": [
       "<IPython.core.display.Javascript object>"
      ]
     },
     "metadata": {},
     "output_type": "display_data"
    },
    {
     "data": {
      "application/javascript": [
       "flexx.command('EXEC flexx.instances.MyWidget29._set_signal_from_py(\\'container_id\\', \\'\"\"\\', 0);');"
      ],
      "text/plain": [
       "<IPython.core.display.Javascript object>"
      ]
     },
     "metadata": {},
     "output_type": "display_data"
    },
    {
     "data": {
      "application/javascript": [
       "flexx.command(\"EXEC flexx.instances.MyWidget29._set_signal_from_py('flex', '0.0', 0);\");"
      ],
      "text/plain": [
       "<IPython.core.display.Javascript object>"
      ]
     },
     "metadata": {},
     "output_type": "display_data"
    },
    {
     "data": {
      "application/javascript": [
       "flexx.command(\"EXEC flexx.instances.MyWidget29._set_signal_from_py('min_size', '[0.0, 0.0]', 0);\");"
      ],
      "text/plain": [
       "<IPython.core.display.Javascript object>"
      ]
     },
     "metadata": {},
     "output_type": "display_data"
    },
    {
     "data": {
      "application/javascript": [
       "flexx.command(\"EXEC flexx.instances.MyWidget29._set_signal_from_py('parent', 'null', 0);\");"
      ],
      "text/plain": [
       "<IPython.core.display.Javascript object>"
      ]
     },
     "metadata": {},
     "output_type": "display_data"
    },
    {
     "data": {
      "application/javascript": [
       "flexx.command(\"EXEC flexx.instances.MyWidget29._set_signal_from_py('pos', '[0.0, 0.0]', 0);\");"
      ],
      "text/plain": [
       "<IPython.core.display.Javascript object>"
      ]
     },
     "metadata": {},
     "output_type": "display_data"
    },
    {
     "data": {
      "application/javascript": [
       "flexx.command(\"EXEC flexx.instances.MyWidget29._set_signal_from_py('size', '[0.0, 0.0]', 0);\");"
      ],
      "text/plain": [
       "<IPython.core.display.Javascript object>"
      ]
     },
     "metadata": {},
     "output_type": "display_data"
    },
    {
     "data": {
      "application/javascript": [
       "flexx.command(\"EXEC flexx.instances.MyWidget29._set_signal_from_py('parent', 'null', 0);\");"
      ],
      "text/plain": [
       "<IPython.core.display.Javascript object>"
      ]
     },
     "metadata": {},
     "output_type": "display_data"
    },
    {
     "data": {
      "application/javascript": [
       "flexx.command('EXEC flexx.instances.MyWidget29._set_signal_from_py(\\'_css_class_name\\', \\'\"flx-mywidget2 flx-widget\"\\', 0);');"
      ],
      "text/plain": [
       "<IPython.core.display.Javascript object>"
      ]
     },
     "metadata": {},
     "output_type": "display_data"
    },
    {
     "data": {
      "application/javascript": [
       "flexx.command(\"EXEC flexx.instances.MyWidget29._set_signal_from_py('_parent_changed_py', 'null', 0);\");"
      ],
      "text/plain": [
       "<IPython.core.display.Javascript object>"
      ]
     },
     "metadata": {},
     "output_type": "display_data"
    },
    {
     "data": {
      "application/javascript": [
       "flexx.command(\"EXEC flexx.instances.HBox10 = new flexx.classes.HBox('HBox10');\");"
      ],
      "text/plain": [
       "<IPython.core.display.Javascript object>"
      ]
     },
     "metadata": {},
     "output_type": "display_data"
    },
    {
     "data": {
      "application/javascript": [
       "flexx.command('EXEC flexx.instances.HBox10._set_signal_from_py(\\'_css_class_name\\', \\'\"\"\\', 0);');"
      ],
      "text/plain": [
       "<IPython.core.display.Javascript object>"
      ]
     },
     "metadata": {},
     "output_type": "display_data"
    },
    {
     "data": {
      "application/javascript": [
       "flexx.command('EXEC flexx.instances.HBox10._set_signal_from_py(\\'bgcolor\\', \\'\"\"\\', 0);');"
      ],
      "text/plain": [
       "<IPython.core.display.Javascript object>"
      ]
     },
     "metadata": {},
     "output_type": "display_data"
    },
    {
     "data": {
      "application/javascript": [
       "flexx.command(\"EXEC flexx.instances.HBox10._set_signal_from_py('children', '[]', 0);\");"
      ],
      "text/plain": [
       "<IPython.core.display.Javascript object>"
      ]
     },
     "metadata": {},
     "output_type": "display_data"
    },
    {
     "data": {
      "application/javascript": [
       "flexx.command('EXEC flexx.instances.HBox10._set_signal_from_py(\\'container_id\\', \\'\"\"\\', 0);');"
      ],
      "text/plain": [
       "<IPython.core.display.Javascript object>"
      ]
     },
     "metadata": {},
     "output_type": "display_data"
    },
    {
     "data": {
      "application/javascript": [
       "flexx.command(\"EXEC flexx.instances.HBox10._set_signal_from_py('flex', '0.0', 0);\");"
      ],
      "text/plain": [
       "<IPython.core.display.Javascript object>"
      ]
     },
     "metadata": {},
     "output_type": "display_data"
    },
    {
     "data": {
      "application/javascript": [
       "flexx.command(\"EXEC flexx.instances.HBox10._set_signal_from_py('margin', '0.0', 0);\");"
      ],
      "text/plain": [
       "<IPython.core.display.Javascript object>"
      ]
     },
     "metadata": {},
     "output_type": "display_data"
    },
    {
     "data": {
      "application/javascript": [
       "flexx.command(\"EXEC flexx.instances.HBox10._set_signal_from_py('min_size', '[0.0, 0.0]', 0);\");"
      ],
      "text/plain": [
       "<IPython.core.display.Javascript object>"
      ]
     },
     "metadata": {},
     "output_type": "display_data"
    },
    {
     "data": {
      "application/javascript": [
       "flexx.command(\"EXEC flexx.instances.HBox10._set_signal_from_py('parent', 'null', 0);\");"
      ],
      "text/plain": [
       "<IPython.core.display.Javascript object>"
      ]
     },
     "metadata": {},
     "output_type": "display_data"
    },
    {
     "data": {
      "application/javascript": [
       "flexx.command(\"EXEC flexx.instances.HBox10._set_signal_from_py('pos', '[0.0, 0.0]', 0);\");"
      ],
      "text/plain": [
       "<IPython.core.display.Javascript object>"
      ]
     },
     "metadata": {},
     "output_type": "display_data"
    },
    {
     "data": {
      "application/javascript": [
       "flexx.command(\"EXEC flexx.instances.HBox10._set_signal_from_py('size', '[0.0, 0.0]', 0);\");"
      ],
      "text/plain": [
       "<IPython.core.display.Javascript object>"
      ]
     },
     "metadata": {},
     "output_type": "display_data"
    },
    {
     "data": {
      "application/javascript": [
       "flexx.command(\"EXEC flexx.instances.HBox10._set_signal_from_py('spacing', '0.0', 0);\");"
      ],
      "text/plain": [
       "<IPython.core.display.Javascript object>"
      ]
     },
     "metadata": {},
     "output_type": "display_data"
    },
    {
     "data": {
      "application/javascript": [
       "flexx.command('EXEC flexx.instances.HBox10._set_signal_from_py(\\'parent\\', \\'{\"id\": \"MyWidget29\", \"__type__\": \"Flexx-Pair\"}\\', 0);');"
      ],
      "text/plain": [
       "<IPython.core.display.Javascript object>"
      ]
     },
     "metadata": {},
     "output_type": "display_data"
    },
    {
     "data": {
      "application/javascript": [
       "flexx.command('EXEC flexx.instances.HBox10._set_signal_from_py(\\'_css_class_name\\', \\'\"flx-hbox flx-box flx-layout flx-widget\"\\', 0);');"
      ],
      "text/plain": [
       "<IPython.core.display.Javascript object>"
      ]
     },
     "metadata": {},
     "output_type": "display_data"
    },
    {
     "data": {
      "application/javascript": [
       "flexx.command('EXEC flexx.instances.MyWidget29._set_signal_from_py(\\'children\\', \\'[{\"id\": \"HBox10\", \"__type__\": \"Flexx-Pair\"}]\\', 0);');"
      ],
      "text/plain": [
       "<IPython.core.display.Javascript object>"
      ]
     },
     "metadata": {},
     "output_type": "display_data"
    },
    {
     "data": {
      "application/javascript": [
       "flexx.command(\"EXEC flexx.instances.HBox10._set_signal_from_py('_parent_changed_py', 'null', 0);\");"
      ],
      "text/plain": [
       "<IPython.core.display.Javascript object>"
      ]
     },
     "metadata": {},
     "output_type": "display_data"
    },
    {
     "data": {
      "application/javascript": [
       "flexx.command('EXEC flexx.instances.HBox10.connect_signals(false);');"
      ],
      "text/plain": [
       "<IPython.core.display.Javascript object>"
      ]
     },
     "metadata": {},
     "output_type": "display_data"
    },
    {
     "data": {
      "application/javascript": [
       "flexx.command(\"EXEC flexx.instances.Slider11 = new flexx.classes.Slider('Slider11');\");"
      ],
      "text/plain": [
       "<IPython.core.display.Javascript object>"
      ]
     },
     "metadata": {},
     "output_type": "display_data"
    },
    {
     "data": {
      "application/javascript": [
       "flexx.command('EXEC flexx.instances.Slider11._set_signal_from_py(\\'_css_class_name\\', \\'\"\"\\', 0);');"
      ],
      "text/plain": [
       "<IPython.core.display.Javascript object>"
      ]
     },
     "metadata": {},
     "output_type": "display_data"
    },
    {
     "data": {
      "application/javascript": [
       "flexx.command('EXEC flexx.instances.Slider11._set_signal_from_py(\\'bgcolor\\', \\'\"\"\\', 0);');"
      ],
      "text/plain": [
       "<IPython.core.display.Javascript object>"
      ]
     },
     "metadata": {},
     "output_type": "display_data"
    },
    {
     "data": {
      "application/javascript": [
       "flexx.command(\"EXEC flexx.instances.Slider11._set_signal_from_py('children', '[]', 0);\");"
      ],
      "text/plain": [
       "<IPython.core.display.Javascript object>"
      ]
     },
     "metadata": {},
     "output_type": "display_data"
    },
    {
     "data": {
      "application/javascript": [
       "flexx.command('EXEC flexx.instances.Slider11._set_signal_from_py(\\'container_id\\', \\'\"\"\\', 0);');"
      ],
      "text/plain": [
       "<IPython.core.display.Javascript object>"
      ]
     },
     "metadata": {},
     "output_type": "display_data"
    },
    {
     "data": {
      "application/javascript": [
       "flexx.command(\"EXEC flexx.instances.Slider11._set_signal_from_py('flex', '0.0', 0);\");"
      ],
      "text/plain": [
       "<IPython.core.display.Javascript object>"
      ]
     },
     "metadata": {},
     "output_type": "display_data"
    },
    {
     "data": {
      "application/javascript": [
       "flexx.command(\"EXEC flexx.instances.Slider11._set_signal_from_py('max', '1.0', 0);\");"
      ],
      "text/plain": [
       "<IPython.core.display.Javascript object>"
      ]
     },
     "metadata": {},
     "output_type": "display_data"
    },
    {
     "data": {
      "application/javascript": [
       "flexx.command(\"EXEC flexx.instances.Slider11._set_signal_from_py('min', '0.0', 0);\");"
      ],
      "text/plain": [
       "<IPython.core.display.Javascript object>"
      ]
     },
     "metadata": {},
     "output_type": "display_data"
    },
    {
     "data": {
      "application/javascript": [
       "flexx.command(\"EXEC flexx.instances.Slider11._set_signal_from_py('min_size', '[0.0, 0.0]', 0);\");"
      ],
      "text/plain": [
       "<IPython.core.display.Javascript object>"
      ]
     },
     "metadata": {},
     "output_type": "display_data"
    },
    {
     "data": {
      "application/javascript": [
       "flexx.command(\"EXEC flexx.instances.Slider11._set_signal_from_py('parent', 'null', 0);\");"
      ],
      "text/plain": [
       "<IPython.core.display.Javascript object>"
      ]
     },
     "metadata": {},
     "output_type": "display_data"
    },
    {
     "data": {
      "application/javascript": [
       "flexx.command(\"EXEC flexx.instances.Slider11._set_signal_from_py('pos', '[0.0, 0.0]', 0);\");"
      ],
      "text/plain": [
       "<IPython.core.display.Javascript object>"
      ]
     },
     "metadata": {},
     "output_type": "display_data"
    },
    {
     "data": {
      "application/javascript": [
       "flexx.command(\"EXEC flexx.instances.Slider11._set_signal_from_py('size', '[0.0, 0.0]', 0);\");"
      ],
      "text/plain": [
       "<IPython.core.display.Javascript object>"
      ]
     },
     "metadata": {},
     "output_type": "display_data"
    },
    {
     "data": {
      "application/javascript": [
       "flexx.command(\"EXEC flexx.instances.Slider11._set_signal_from_py('step', '0.01', 0);\");"
      ],
      "text/plain": [
       "<IPython.core.display.Javascript object>"
      ]
     },
     "metadata": {},
     "output_type": "display_data"
    },
    {
     "data": {
      "application/javascript": [
       "flexx.command(\"EXEC flexx.instances.Slider11._set_signal_from_py('value', '0.0', 0);\");"
      ],
      "text/plain": [
       "<IPython.core.display.Javascript object>"
      ]
     },
     "metadata": {},
     "output_type": "display_data"
    },
    {
     "data": {
      "application/javascript": [
       "flexx.command('EXEC flexx.instances.Slider11._set_signal_from_py(\\'parent\\', \\'{\"id\": \"HBox10\", \"__type__\": \"Flexx-Pair\"}\\', 0);');"
      ],
      "text/plain": [
       "<IPython.core.display.Javascript object>"
      ]
     },
     "metadata": {},
     "output_type": "display_data"
    },
    {
     "data": {
      "application/javascript": [
       "flexx.command('EXEC flexx.instances.Slider11._set_signal_from_py(\\'_css_class_name\\', \\'\"flx-slider flx-widget\"\\', 0);');"
      ],
      "text/plain": [
       "<IPython.core.display.Javascript object>"
      ]
     },
     "metadata": {},
     "output_type": "display_data"
    },
    {
     "data": {
      "application/javascript": [
       "flexx.command(\"EXEC flexx.instances.Slider11._set_signal_from_py('flex', '0.0', 0);\");"
      ],
      "text/plain": [
       "<IPython.core.display.Javascript object>"
      ]
     },
     "metadata": {},
     "output_type": "display_data"
    },
    {
     "data": {
      "application/javascript": [
       "flexx.command('EXEC flexx.instances.HBox10._set_signal_from_py(\\'children\\', \\'[{\"id\": \"Slider11\", \"__type__\": \"Flexx-Pair\"}]\\', 0);');"
      ],
      "text/plain": [
       "<IPython.core.display.Javascript object>"
      ]
     },
     "metadata": {},
     "output_type": "display_data"
    },
    {
     "data": {
      "application/javascript": [
       "flexx.command(\"EXEC flexx.instances.Slider11._set_signal_from_py('_parent_changed_py', 'null', 0);\");"
      ],
      "text/plain": [
       "<IPython.core.display.Javascript object>"
      ]
     },
     "metadata": {},
     "output_type": "display_data"
    },
    {
     "data": {
      "application/javascript": [
       "flexx.command('EXEC flexx.instances.Slider11.connect_signals(false);');"
      ],
      "text/plain": [
       "<IPython.core.display.Javascript object>"
      ]
     },
     "metadata": {},
     "output_type": "display_data"
    },
    {
     "data": {
      "application/javascript": [
       "flexx.command('EXEC flexx.instances.MyWidget29.slider = flexx.serializer.loads(\\'{\"id\": \"Slider11\", \"__type__\": \"Flexx-Pair\"}\\');');"
      ],
      "text/plain": [
       "<IPython.core.display.Javascript object>"
      ]
     },
     "metadata": {},
     "output_type": "display_data"
    },
    {
     "data": {
      "application/javascript": [
       "flexx.command(\"EXEC flexx.instances.Label12 = new flexx.classes.Label('Label12');\");"
      ],
      "text/plain": [
       "<IPython.core.display.Javascript object>"
      ]
     },
     "metadata": {},
     "output_type": "display_data"
    },
    {
     "data": {
      "application/javascript": [
       "flexx.command('EXEC flexx.instances.Label12._set_signal_from_py(\\'_css_class_name\\', \\'\"\"\\', 0);');"
      ],
      "text/plain": [
       "<IPython.core.display.Javascript object>"
      ]
     },
     "metadata": {},
     "output_type": "display_data"
    },
    {
     "data": {
      "application/javascript": [
       "flexx.command('EXEC flexx.instances.Label12._set_signal_from_py(\\'bgcolor\\', \\'\"\"\\', 0);');"
      ],
      "text/plain": [
       "<IPython.core.display.Javascript object>"
      ]
     },
     "metadata": {},
     "output_type": "display_data"
    },
    {
     "data": {
      "application/javascript": [
       "flexx.command(\"EXEC flexx.instances.Label12._set_signal_from_py('children', '[]', 0);\");"
      ],
      "text/plain": [
       "<IPython.core.display.Javascript object>"
      ]
     },
     "metadata": {},
     "output_type": "display_data"
    },
    {
     "data": {
      "application/javascript": [
       "flexx.command('EXEC flexx.instances.Label12._set_signal_from_py(\\'container_id\\', \\'\"\"\\', 0);');"
      ],
      "text/plain": [
       "<IPython.core.display.Javascript object>"
      ]
     },
     "metadata": {},
     "output_type": "display_data"
    },
    {
     "data": {
      "application/javascript": [
       "flexx.command(\"EXEC flexx.instances.Label12._set_signal_from_py('flex', '0.0', 0);\");"
      ],
      "text/plain": [
       "<IPython.core.display.Javascript object>"
      ]
     },
     "metadata": {},
     "output_type": "display_data"
    },
    {
     "data": {
      "application/javascript": [
       "flexx.command(\"EXEC flexx.instances.Label12._set_signal_from_py('min_size', '[0.0, 0.0]', 0);\");"
      ],
      "text/plain": [
       "<IPython.core.display.Javascript object>"
      ]
     },
     "metadata": {},
     "output_type": "display_data"
    },
    {
     "data": {
      "application/javascript": [
       "flexx.command(\"EXEC flexx.instances.Label12._set_signal_from_py('parent', 'null', 0);\");"
      ],
      "text/plain": [
       "<IPython.core.display.Javascript object>"
      ]
     },
     "metadata": {},
     "output_type": "display_data"
    },
    {
     "data": {
      "application/javascript": [
       "flexx.command(\"EXEC flexx.instances.Label12._set_signal_from_py('pos', '[0.0, 0.0]', 0);\");"
      ],
      "text/plain": [
       "<IPython.core.display.Javascript object>"
      ]
     },
     "metadata": {},
     "output_type": "display_data"
    },
    {
     "data": {
      "application/javascript": [
       "flexx.command(\"EXEC flexx.instances.Label12._set_signal_from_py('size', '[0.0, 0.0]', 0);\");"
      ],
      "text/plain": [
       "<IPython.core.display.Javascript object>"
      ]
     },
     "metadata": {},
     "output_type": "display_data"
    },
    {
     "data": {
      "application/javascript": [
       "flexx.command('EXEC flexx.instances.Label12._set_signal_from_py(\\'text\\', \\'\"\"\\', 0);');"
      ],
      "text/plain": [
       "<IPython.core.display.Javascript object>"
      ]
     },
     "metadata": {},
     "output_type": "display_data"
    },
    {
     "data": {
      "application/javascript": [
       "flexx.command('EXEC flexx.instances.Label12._set_signal_from_py(\\'parent\\', \\'{\"id\": \"HBox10\", \"__type__\": \"Flexx-Pair\"}\\', 0);');"
      ],
      "text/plain": [
       "<IPython.core.display.Javascript object>"
      ]
     },
     "metadata": {},
     "output_type": "display_data"
    },
    {
     "data": {
      "application/javascript": [
       "flexx.command('EXEC flexx.instances.Label12._set_signal_from_py(\\'text\\', \\'\"xx\"\\', 0);');"
      ],
      "text/plain": [
       "<IPython.core.display.Javascript object>"
      ]
     },
     "metadata": {},
     "output_type": "display_data"
    },
    {
     "data": {
      "application/javascript": [
       "flexx.command('EXEC flexx.instances.Label12._set_signal_from_py(\\'_css_class_name\\', \\'\"flx-label flx-widget\"\\', 0);');"
      ],
      "text/plain": [
       "<IPython.core.display.Javascript object>"
      ]
     },
     "metadata": {},
     "output_type": "display_data"
    },
    {
     "data": {
      "application/javascript": [
       "flexx.command(\"EXEC flexx.instances.Label12._set_signal_from_py('flex', '1.0', 0);\");"
      ],
      "text/plain": [
       "<IPython.core.display.Javascript object>"
      ]
     },
     "metadata": {},
     "output_type": "display_data"
    },
    {
     "data": {
      "application/javascript": [
       "flexx.command('EXEC flexx.instances.HBox10._set_signal_from_py(\\'children\\', \\'[{\"id\": \"Slider11\", \"__type__\": \"Flexx-Pair\"}, {\"id\": \"Label12\", \"__type__\": \"Flexx-Pair\"}]\\', 0);');"
      ],
      "text/plain": [
       "<IPython.core.display.Javascript object>"
      ]
     },
     "metadata": {},
     "output_type": "display_data"
    },
    {
     "data": {
      "application/javascript": [
       "flexx.command(\"EXEC flexx.instances.Label12._set_signal_from_py('_parent_changed_py', 'null', 0);\");"
      ],
      "text/plain": [
       "<IPython.core.display.Javascript object>"
      ]
     },
     "metadata": {},
     "output_type": "display_data"
    },
    {
     "data": {
      "application/javascript": [
       "flexx.command('EXEC flexx.instances.Label12.connect_signals(false);');"
      ],
      "text/plain": [
       "<IPython.core.display.Javascript object>"
      ]
     },
     "metadata": {},
     "output_type": "display_data"
    },
    {
     "data": {
      "application/javascript": [
       "flexx.command('EXEC flexx.instances.MyWidget29.label = flexx.serializer.loads(\\'{\"id\": \"Label12\", \"__type__\": \"Flexx-Pair\"}\\');');"
      ],
      "text/plain": [
       "<IPython.core.display.Javascript object>"
      ]
     },
     "metadata": {},
     "output_type": "display_data"
    },
    {
     "data": {
      "application/javascript": [
       "flexx.command('EXEC flexx.instances.MyWidget29.connect_signals(false);');"
      ],
      "text/plain": [
       "<IPython.core.display.Javascript object>"
      ]
     },
     "metadata": {},
     "output_type": "display_data"
    },
    {
     "data": {
      "text/html": [
       "<div class='flx-container' id=MyWidget29_container />"
      ],
      "text/plain": [
       "<__main__.MyWidget2 at 0x7f49147282e8>"
      ]
     },
     "execution_count": 7,
     "metadata": {},
     "output_type": "execute_result"
    },
    {
     "data": {
      "application/javascript": [
       "flexx.command('EXEC flexx.instances.MyWidget5._set_signal_from_py(\\'container_id\\', \\'\"MyWidget5_container\"\\', 0);');"
      ],
      "text/plain": [
       "<IPython.core.display.Javascript object>"
      ]
     },
     "metadata": {},
     "output_type": "display_data"
    },
    {
     "data": {
      "application/javascript": [
       "flexx.command('EXEC flexx.instances.MyWidget29._set_signal_from_py(\\'container_id\\', \\'\"MyWidget29_container\"\\', 0);');"
      ],
      "text/plain": [
       "<IPython.core.display.Javascript object>"
      ]
     },
     "metadata": {},
     "output_type": "display_data"
    },
    {
     "data": {
      "application/javascript": [
       "flexx.command('EXEC flexx.instances.Label12._set_signal_from_py(\\'text\\', \\'\"0\"\\', \\'3\\');');"
      ],
      "text/plain": [
       "<IPython.core.display.Javascript object>"
      ]
     },
     "metadata": {},
     "output_type": "display_data"
    },
    {
     "data": {
      "application/javascript": [
       "flexx.command(\"EXEC flexx.instances.Slider3._set_signal_from_py('value', '0.03', '2');\");"
      ],
      "text/plain": [
       "<IPython.core.display.Javascript object>"
      ]
     },
     "metadata": {},
     "output_type": "display_data"
    },
    {
     "data": {
      "application/javascript": [
       "flexx.command('EXEC flexx.instances.Label4._set_signal_from_py(\\'text\\', \\'\"0.03\"\\', 0);');"
      ],
      "text/plain": [
       "<IPython.core.display.Javascript object>"
      ]
     },
     "metadata": {},
     "output_type": "display_data"
    },
    {
     "data": {
      "application/javascript": [
       "flexx.command(\"EXEC flexx.instances.Slider3._set_signal_from_py('value', '0.03', '3');\");"
      ],
      "text/plain": [
       "<IPython.core.display.Javascript object>"
      ]
     },
     "metadata": {},
     "output_type": "display_data"
    },
    {
     "data": {
      "application/javascript": [
       "flexx.command('EXEC flexx.instances.Label4._set_signal_from_py(\\'text\\', \\'\"0.03\"\\', 0);');"
      ],
      "text/plain": [
       "<IPython.core.display.Javascript object>"
      ]
     },
     "metadata": {},
     "output_type": "display_data"
    },
    {
     "data": {
      "application/javascript": [
       "flexx.command(\"EXEC flexx.instances.Slider3._set_signal_from_py('value', '0.04', '4');\");"
      ],
      "text/plain": [
       "<IPython.core.display.Javascript object>"
      ]
     },
     "metadata": {},
     "output_type": "display_data"
    },
    {
     "data": {
      "application/javascript": [
       "flexx.command('EXEC flexx.instances.Label4._set_signal_from_py(\\'text\\', \\'\"0.04\"\\', 0);');"
      ],
      "text/plain": [
       "<IPython.core.display.Javascript object>"
      ]
     },
     "metadata": {},
     "output_type": "display_data"
    },
    {
     "data": {
      "application/javascript": [
       "flexx.command(\"EXEC flexx.instances.Slider3._set_signal_from_py('value', '0.06', '5');\");"
      ],
      "text/plain": [
       "<IPython.core.display.Javascript object>"
      ]
     },
     "metadata": {},
     "output_type": "display_data"
    },
    {
     "data": {
      "application/javascript": [
       "flexx.command('EXEC flexx.instances.Label4._set_signal_from_py(\\'text\\', \\'\"0.06\"\\', 0);');"
      ],
      "text/plain": [
       "<IPython.core.display.Javascript object>"
      ]
     },
     "metadata": {},
     "output_type": "display_data"
    },
    {
     "data": {
      "application/javascript": [
       "flexx.command(\"EXEC flexx.instances.Slider3._set_signal_from_py('value', '0.08', '6');\");"
      ],
      "text/plain": [
       "<IPython.core.display.Javascript object>"
      ]
     },
     "metadata": {},
     "output_type": "display_data"
    },
    {
     "data": {
      "application/javascript": [
       "flexx.command('EXEC flexx.instances.Label4._set_signal_from_py(\\'text\\', \\'\"0.08\"\\', 0);');"
      ],
      "text/plain": [
       "<IPython.core.display.Javascript object>"
      ]
     },
     "metadata": {},
     "output_type": "display_data"
    },
    {
     "data": {
      "application/javascript": [
       "flexx.command(\"EXEC flexx.instances.Slider3._set_signal_from_py('value', '0.1', '7');\");"
      ],
      "text/plain": [
       "<IPython.core.display.Javascript object>"
      ]
     },
     "metadata": {},
     "output_type": "display_data"
    },
    {
     "data": {
      "application/javascript": [
       "flexx.command('EXEC flexx.instances.Label4._set_signal_from_py(\\'text\\', \\'\"0.1\"\\', 0);');"
      ],
      "text/plain": [
       "<IPython.core.display.Javascript object>"
      ]
     },
     "metadata": {},
     "output_type": "display_data"
    },
    {
     "data": {
      "application/javascript": [
       "flexx.command(\"EXEC flexx.instances.Slider3._set_signal_from_py('value', '0.13', '8');\");"
      ],
      "text/plain": [
       "<IPython.core.display.Javascript object>"
      ]
     },
     "metadata": {},
     "output_type": "display_data"
    },
    {
     "data": {
      "application/javascript": [
       "flexx.command('EXEC flexx.instances.Label4._set_signal_from_py(\\'text\\', \\'\"0.13\"\\', 0);');"
      ],
      "text/plain": [
       "<IPython.core.display.Javascript object>"
      ]
     },
     "metadata": {},
     "output_type": "display_data"
    },
    {
     "data": {
      "application/javascript": [
       "flexx.command(\"EXEC flexx.instances.Slider3._set_signal_from_py('value', '0.63', '9');\");"
      ],
      "text/plain": [
       "<IPython.core.display.Javascript object>"
      ]
     },
     "metadata": {},
     "output_type": "display_data"
    },
    {
     "data": {
      "application/javascript": [
       "flexx.command('EXEC flexx.instances.Label4._set_signal_from_py(\\'text\\', \\'\"0.63\"\\', 0);');"
      ],
      "text/plain": [
       "<IPython.core.display.Javascript object>"
      ]
     },
     "metadata": {},
     "output_type": "display_data"
    },
    {
     "data": {
      "application/javascript": [
       "flexx.command(\"EXEC flexx.instances.Slider3._set_signal_from_py('value', '0.63', '10');\");"
      ],
      "text/plain": [
       "<IPython.core.display.Javascript object>"
      ]
     },
     "metadata": {},
     "output_type": "display_data"
    },
    {
     "data": {
      "application/javascript": [
       "flexx.command('EXEC flexx.instances.Label4._set_signal_from_py(\\'text\\', \\'\"0.63\"\\', 0);');"
      ],
      "text/plain": [
       "<IPython.core.display.Javascript object>"
      ]
     },
     "metadata": {},
     "output_type": "display_data"
    },
    {
     "data": {
      "application/javascript": [
       "flexx.command(\"EXEC flexx.instances.Slider7._set_signal_from_py('value', '0.0', '2');\");"
      ],
      "text/plain": [
       "<IPython.core.display.Javascript object>"
      ]
     },
     "metadata": {},
     "output_type": "display_data"
    },
    {
     "data": {
      "application/javascript": [
       "flexx.command('EXEC flexx.instances.Label8._set_signal_from_py(\\'text\\', \\'\"0.0\"\\', 0);');"
      ],
      "text/plain": [
       "<IPython.core.display.Javascript object>"
      ]
     },
     "metadata": {},
     "output_type": "display_data"
    },
    {
     "data": {
      "application/javascript": [
       "flexx.command(\"EXEC flexx.instances.MyWidget5._set_signal_from_py('show_slider_value', 'null', 0);\");"
      ],
      "text/plain": [
       "<IPython.core.display.Javascript object>"
      ]
     },
     "metadata": {},
     "output_type": "display_data"
    },
    {
     "data": {
      "application/javascript": [
       "flexx.command(\"EXEC flexx.instances.Slider7._set_signal_from_py('value', '0.01', '3');\");"
      ],
      "text/plain": [
       "<IPython.core.display.Javascript object>"
      ]
     },
     "metadata": {},
     "output_type": "display_data"
    },
    {
     "data": {
      "application/javascript": [
       "flexx.command('EXEC flexx.instances.Label8._set_signal_from_py(\\'text\\', \\'\"0.01\"\\', 0);');"
      ],
      "text/plain": [
       "<IPython.core.display.Javascript object>"
      ]
     },
     "metadata": {},
     "output_type": "display_data"
    },
    {
     "data": {
      "application/javascript": [
       "flexx.command(\"EXEC flexx.instances.MyWidget5._set_signal_from_py('show_slider_value', 'null', 0);\");"
      ],
      "text/plain": [
       "<IPython.core.display.Javascript object>"
      ]
     },
     "metadata": {},
     "output_type": "display_data"
    },
    {
     "data": {
      "application/javascript": [
       "flexx.command(\"EXEC flexx.instances.Slider7._set_signal_from_py('value', '0.02', '4');\");"
      ],
      "text/plain": [
       "<IPython.core.display.Javascript object>"
      ]
     },
     "metadata": {},
     "output_type": "display_data"
    },
    {
     "data": {
      "application/javascript": [
       "flexx.command('EXEC flexx.instances.Label8._set_signal_from_py(\\'text\\', \\'\"0.02\"\\', 0);');"
      ],
      "text/plain": [
       "<IPython.core.display.Javascript object>"
      ]
     },
     "metadata": {},
     "output_type": "display_data"
    },
    {
     "data": {
      "application/javascript": [
       "flexx.command(\"EXEC flexx.instances.MyWidget5._set_signal_from_py('show_slider_value', 'null', 0);\");"
      ],
      "text/plain": [
       "<IPython.core.display.Javascript object>"
      ]
     },
     "metadata": {},
     "output_type": "display_data"
    },
    {
     "data": {
      "application/javascript": [
       "flexx.command(\"EXEC flexx.instances.Slider7._set_signal_from_py('value', '0.03', '5');\");"
      ],
      "text/plain": [
       "<IPython.core.display.Javascript object>"
      ]
     },
     "metadata": {},
     "output_type": "display_data"
    },
    {
     "data": {
      "application/javascript": [
       "flexx.command('EXEC flexx.instances.Label8._set_signal_from_py(\\'text\\', \\'\"0.03\"\\', 0);');"
      ],
      "text/plain": [
       "<IPython.core.display.Javascript object>"
      ]
     },
     "metadata": {},
     "output_type": "display_data"
    },
    {
     "data": {
      "application/javascript": [
       "flexx.command(\"EXEC flexx.instances.MyWidget5._set_signal_from_py('show_slider_value', 'null', 0);\");"
      ],
      "text/plain": [
       "<IPython.core.display.Javascript object>"
      ]
     },
     "metadata": {},
     "output_type": "display_data"
    },
    {
     "data": {
      "application/javascript": [
       "flexx.command(\"EXEC flexx.instances.Slider7._set_signal_from_py('value', '0.07', '6');\");"
      ],
      "text/plain": [
       "<IPython.core.display.Javascript object>"
      ]
     },
     "metadata": {},
     "output_type": "display_data"
    },
    {
     "data": {
      "application/javascript": [
       "flexx.command('EXEC flexx.instances.Label8._set_signal_from_py(\\'text\\', \\'\"0.07\"\\', 0);');"
      ],
      "text/plain": [
       "<IPython.core.display.Javascript object>"
      ]
     },
     "metadata": {},
     "output_type": "display_data"
    },
    {
     "data": {
      "application/javascript": [
       "flexx.command(\"EXEC flexx.instances.MyWidget5._set_signal_from_py('show_slider_value', 'null', 0);\");"
      ],
      "text/plain": [
       "<IPython.core.display.Javascript object>"
      ]
     },
     "metadata": {},
     "output_type": "display_data"
    },
    {
     "data": {
      "application/javascript": [
       "flexx.command(\"EXEC flexx.instances.Slider7._set_signal_from_py('value', '0.1', '7');\");"
      ],
      "text/plain": [
       "<IPython.core.display.Javascript object>"
      ]
     },
     "metadata": {},
     "output_type": "display_data"
    },
    {
     "data": {
      "application/javascript": [
       "flexx.command('EXEC flexx.instances.Label8._set_signal_from_py(\\'text\\', \\'\"0.1\"\\', 0);');"
      ],
      "text/plain": [
       "<IPython.core.display.Javascript object>"
      ]
     },
     "metadata": {},
     "output_type": "display_data"
    },
    {
     "data": {
      "application/javascript": [
       "flexx.command(\"EXEC flexx.instances.MyWidget5._set_signal_from_py('show_slider_value', 'null', 0);\");"
      ],
      "text/plain": [
       "<IPython.core.display.Javascript object>"
      ]
     },
     "metadata": {},
     "output_type": "display_data"
    },
    {
     "data": {
      "application/javascript": [
       "flexx.command(\"EXEC flexx.instances.Slider7._set_signal_from_py('value', '0.12', '8');\");"
      ],
      "text/plain": [
       "<IPython.core.display.Javascript object>"
      ]
     },
     "metadata": {},
     "output_type": "display_data"
    },
    {
     "data": {
      "application/javascript": [
       "flexx.command('EXEC flexx.instances.Label8._set_signal_from_py(\\'text\\', \\'\"0.12\"\\', 0);');"
      ],
      "text/plain": [
       "<IPython.core.display.Javascript object>"
      ]
     },
     "metadata": {},
     "output_type": "display_data"
    },
    {
     "data": {
      "application/javascript": [
       "flexx.command(\"EXEC flexx.instances.MyWidget5._set_signal_from_py('show_slider_value', 'null', 0);\");"
      ],
      "text/plain": [
       "<IPython.core.display.Javascript object>"
      ]
     },
     "metadata": {},
     "output_type": "display_data"
    },
    {
     "data": {
      "application/javascript": [
       "flexx.command(\"EXEC flexx.instances.Slider7._set_signal_from_py('value', '0.15', '9');\");"
      ],
      "text/plain": [
       "<IPython.core.display.Javascript object>"
      ]
     },
     "metadata": {},
     "output_type": "display_data"
    },
    {
     "data": {
      "application/javascript": [
       "flexx.command('EXEC flexx.instances.Label8._set_signal_from_py(\\'text\\', \\'\"0.15\"\\', 0);');"
      ],
      "text/plain": [
       "<IPython.core.display.Javascript object>"
      ]
     },
     "metadata": {},
     "output_type": "display_data"
    },
    {
     "data": {
      "application/javascript": [
       "flexx.command(\"EXEC flexx.instances.MyWidget5._set_signal_from_py('show_slider_value', 'null', 0);\");"
      ],
      "text/plain": [
       "<IPython.core.display.Javascript object>"
      ]
     },
     "metadata": {},
     "output_type": "display_data"
    },
    {
     "data": {
      "application/javascript": [
       "flexx.command(\"EXEC flexx.instances.Slider7._set_signal_from_py('value', '0.17', '10');\");"
      ],
      "text/plain": [
       "<IPython.core.display.Javascript object>"
      ]
     },
     "metadata": {},
     "output_type": "display_data"
    },
    {
     "data": {
      "application/javascript": [
       "flexx.command('EXEC flexx.instances.Label8._set_signal_from_py(\\'text\\', \\'\"0.17\"\\', 0);');"
      ],
      "text/plain": [
       "<IPython.core.display.Javascript object>"
      ]
     },
     "metadata": {},
     "output_type": "display_data"
    },
    {
     "data": {
      "application/javascript": [
       "flexx.command(\"EXEC flexx.instances.MyWidget5._set_signal_from_py('show_slider_value', 'null', 0);\");"
      ],
      "text/plain": [
       "<IPython.core.display.Javascript object>"
      ]
     },
     "metadata": {},
     "output_type": "display_data"
    },
    {
     "data": {
      "application/javascript": [
       "flexx.command(\"EXEC flexx.instances.Slider7._set_signal_from_py('value', '0.2', '11');\");"
      ],
      "text/plain": [
       "<IPython.core.display.Javascript object>"
      ]
     },
     "metadata": {},
     "output_type": "display_data"
    },
    {
     "data": {
      "application/javascript": [
       "flexx.command('EXEC flexx.instances.Label8._set_signal_from_py(\\'text\\', \\'\"0.2\"\\', 0);');"
      ],
      "text/plain": [
       "<IPython.core.display.Javascript object>"
      ]
     },
     "metadata": {},
     "output_type": "display_data"
    },
    {
     "data": {
      "application/javascript": [
       "flexx.command(\"EXEC flexx.instances.MyWidget5._set_signal_from_py('show_slider_value', 'null', 0);\");"
      ],
      "text/plain": [
       "<IPython.core.display.Javascript object>"
      ]
     },
     "metadata": {},
     "output_type": "display_data"
    },
    {
     "data": {
      "application/javascript": [
       "flexx.command(\"EXEC flexx.instances.Slider7._set_signal_from_py('value', '0.22', '12');\");"
      ],
      "text/plain": [
       "<IPython.core.display.Javascript object>"
      ]
     },
     "metadata": {},
     "output_type": "display_data"
    },
    {
     "data": {
      "application/javascript": [
       "flexx.command('EXEC flexx.instances.Label8._set_signal_from_py(\\'text\\', \\'\"0.22\"\\', 0);');"
      ],
      "text/plain": [
       "<IPython.core.display.Javascript object>"
      ]
     },
     "metadata": {},
     "output_type": "display_data"
    },
    {
     "data": {
      "application/javascript": [
       "flexx.command(\"EXEC flexx.instances.MyWidget5._set_signal_from_py('show_slider_value', 'null', 0);\");"
      ],
      "text/plain": [
       "<IPython.core.display.Javascript object>"
      ]
     },
     "metadata": {},
     "output_type": "display_data"
    },
    {
     "data": {
      "application/javascript": [
       "flexx.command(\"EXEC flexx.instances.Slider7._set_signal_from_py('value', '0.24', '13');\");"
      ],
      "text/plain": [
       "<IPython.core.display.Javascript object>"
      ]
     },
     "metadata": {},
     "output_type": "display_data"
    },
    {
     "data": {
      "application/javascript": [
       "flexx.command('EXEC flexx.instances.Label8._set_signal_from_py(\\'text\\', \\'\"0.24\"\\', 0);');"
      ],
      "text/plain": [
       "<IPython.core.display.Javascript object>"
      ]
     },
     "metadata": {},
     "output_type": "display_data"
    },
    {
     "data": {
      "application/javascript": [
       "flexx.command(\"EXEC flexx.instances.MyWidget5._set_signal_from_py('show_slider_value', 'null', 0);\");"
      ],
      "text/plain": [
       "<IPython.core.display.Javascript object>"
      ]
     },
     "metadata": {},
     "output_type": "display_data"
    },
    {
     "data": {
      "application/javascript": [
       "flexx.command(\"EXEC flexx.instances.Slider7._set_signal_from_py('value', '0.27', '14');\");"
      ],
      "text/plain": [
       "<IPython.core.display.Javascript object>"
      ]
     },
     "metadata": {},
     "output_type": "display_data"
    },
    {
     "data": {
      "application/javascript": [
       "flexx.command('EXEC flexx.instances.Label8._set_signal_from_py(\\'text\\', \\'\"0.27\"\\', 0);');"
      ],
      "text/plain": [
       "<IPython.core.display.Javascript object>"
      ]
     },
     "metadata": {},
     "output_type": "display_data"
    },
    {
     "data": {
      "application/javascript": [
       "flexx.command(\"EXEC flexx.instances.MyWidget5._set_signal_from_py('show_slider_value', 'null', 0);\");"
      ],
      "text/plain": [
       "<IPython.core.display.Javascript object>"
      ]
     },
     "metadata": {},
     "output_type": "display_data"
    },
    {
     "data": {
      "application/javascript": [
       "flexx.command(\"EXEC flexx.instances.Slider7._set_signal_from_py('value', '0.3', '15');\");"
      ],
      "text/plain": [
       "<IPython.core.display.Javascript object>"
      ]
     },
     "metadata": {},
     "output_type": "display_data"
    },
    {
     "data": {
      "application/javascript": [
       "flexx.command('EXEC flexx.instances.Label8._set_signal_from_py(\\'text\\', \\'\"0.3\"\\', 0);');"
      ],
      "text/plain": [
       "<IPython.core.display.Javascript object>"
      ]
     },
     "metadata": {},
     "output_type": "display_data"
    },
    {
     "data": {
      "application/javascript": [
       "flexx.command(\"EXEC flexx.instances.MyWidget5._set_signal_from_py('show_slider_value', 'null', 0);\");"
      ],
      "text/plain": [
       "<IPython.core.display.Javascript object>"
      ]
     },
     "metadata": {},
     "output_type": "display_data"
    },
    {
     "data": {
      "application/javascript": [
       "flexx.command(\"EXEC flexx.instances.Slider7._set_signal_from_py('value', '0.33', '16');\");"
      ],
      "text/plain": [
       "<IPython.core.display.Javascript object>"
      ]
     },
     "metadata": {},
     "output_type": "display_data"
    },
    {
     "data": {
      "application/javascript": [
       "flexx.command('EXEC flexx.instances.Label8._set_signal_from_py(\\'text\\', \\'\"0.33\"\\', 0);');"
      ],
      "text/plain": [
       "<IPython.core.display.Javascript object>"
      ]
     },
     "metadata": {},
     "output_type": "display_data"
    },
    {
     "data": {
      "application/javascript": [
       "flexx.command(\"EXEC flexx.instances.MyWidget5._set_signal_from_py('show_slider_value', 'null', 0);\");"
      ],
      "text/plain": [
       "<IPython.core.display.Javascript object>"
      ]
     },
     "metadata": {},
     "output_type": "display_data"
    },
    {
     "data": {
      "application/javascript": [
       "flexx.command(\"EXEC flexx.instances.Slider7._set_signal_from_py('value', '0.36', '17');\");"
      ],
      "text/plain": [
       "<IPython.core.display.Javascript object>"
      ]
     },
     "metadata": {},
     "output_type": "display_data"
    },
    {
     "data": {
      "application/javascript": [
       "flexx.command('EXEC flexx.instances.Label8._set_signal_from_py(\\'text\\', \\'\"0.36\"\\', 0);');"
      ],
      "text/plain": [
       "<IPython.core.display.Javascript object>"
      ]
     },
     "metadata": {},
     "output_type": "display_data"
    },
    {
     "data": {
      "application/javascript": [
       "flexx.command(\"EXEC flexx.instances.MyWidget5._set_signal_from_py('show_slider_value', 'null', 0);\");"
      ],
      "text/plain": [
       "<IPython.core.display.Javascript object>"
      ]
     },
     "metadata": {},
     "output_type": "display_data"
    },
    {
     "data": {
      "application/javascript": [
       "flexx.command(\"EXEC flexx.instances.Slider7._set_signal_from_py('value', '0.38', '18');\");"
      ],
      "text/plain": [
       "<IPython.core.display.Javascript object>"
      ]
     },
     "metadata": {},
     "output_type": "display_data"
    },
    {
     "data": {
      "application/javascript": [
       "flexx.command('EXEC flexx.instances.Label8._set_signal_from_py(\\'text\\', \\'\"0.38\"\\', 0);');"
      ],
      "text/plain": [
       "<IPython.core.display.Javascript object>"
      ]
     },
     "metadata": {},
     "output_type": "display_data"
    },
    {
     "data": {
      "application/javascript": [
       "flexx.command(\"EXEC flexx.instances.MyWidget5._set_signal_from_py('show_slider_value', 'null', 0);\");"
      ],
      "text/plain": [
       "<IPython.core.display.Javascript object>"
      ]
     },
     "metadata": {},
     "output_type": "display_data"
    },
    {
     "data": {
      "application/javascript": [
       "flexx.command(\"EXEC flexx.instances.Slider7._set_signal_from_py('value', '0.4', '19');\");"
      ],
      "text/plain": [
       "<IPython.core.display.Javascript object>"
      ]
     },
     "metadata": {},
     "output_type": "display_data"
    },
    {
     "data": {
      "application/javascript": [
       "flexx.command('EXEC flexx.instances.Label8._set_signal_from_py(\\'text\\', \\'\"0.4\"\\', 0);');"
      ],
      "text/plain": [
       "<IPython.core.display.Javascript object>"
      ]
     },
     "metadata": {},
     "output_type": "display_data"
    },
    {
     "data": {
      "application/javascript": [
       "flexx.command(\"EXEC flexx.instances.MyWidget5._set_signal_from_py('show_slider_value', 'null', 0);\");"
      ],
      "text/plain": [
       "<IPython.core.display.Javascript object>"
      ]
     },
     "metadata": {},
     "output_type": "display_data"
    },
    {
     "data": {
      "application/javascript": [
       "flexx.command(\"EXEC flexx.instances.Slider7._set_signal_from_py('value', '0.41', '20');\");"
      ],
      "text/plain": [
       "<IPython.core.display.Javascript object>"
      ]
     },
     "metadata": {},
     "output_type": "display_data"
    },
    {
     "data": {
      "application/javascript": [
       "flexx.command('EXEC flexx.instances.Label8._set_signal_from_py(\\'text\\', \\'\"0.41\"\\', 0);');"
      ],
      "text/plain": [
       "<IPython.core.display.Javascript object>"
      ]
     },
     "metadata": {},
     "output_type": "display_data"
    },
    {
     "data": {
      "application/javascript": [
       "flexx.command(\"EXEC flexx.instances.MyWidget5._set_signal_from_py('show_slider_value', 'null', 0);\");"
      ],
      "text/plain": [
       "<IPython.core.display.Javascript object>"
      ]
     },
     "metadata": {},
     "output_type": "display_data"
    },
    {
     "data": {
      "application/javascript": [
       "flexx.command(\"EXEC flexx.instances.Slider7._set_signal_from_py('value', '0.43', '21');\");"
      ],
      "text/plain": [
       "<IPython.core.display.Javascript object>"
      ]
     },
     "metadata": {},
     "output_type": "display_data"
    },
    {
     "data": {
      "application/javascript": [
       "flexx.command('EXEC flexx.instances.Label8._set_signal_from_py(\\'text\\', \\'\"0.43\"\\', 0);');"
      ],
      "text/plain": [
       "<IPython.core.display.Javascript object>"
      ]
     },
     "metadata": {},
     "output_type": "display_data"
    },
    {
     "data": {
      "application/javascript": [
       "flexx.command(\"EXEC flexx.instances.MyWidget5._set_signal_from_py('show_slider_value', 'null', 0);\");"
      ],
      "text/plain": [
       "<IPython.core.display.Javascript object>"
      ]
     },
     "metadata": {},
     "output_type": "display_data"
    },
    {
     "data": {
      "application/javascript": [
       "flexx.command(\"EXEC flexx.instances.Slider7._set_signal_from_py('value', '0.43', '22');\");"
      ],
      "text/plain": [
       "<IPython.core.display.Javascript object>"
      ]
     },
     "metadata": {},
     "output_type": "display_data"
    },
    {
     "data": {
      "application/javascript": [
       "flexx.command('EXEC flexx.instances.Label8._set_signal_from_py(\\'text\\', \\'\"0.43\"\\', 0);');"
      ],
      "text/plain": [
       "<IPython.core.display.Javascript object>"
      ]
     },
     "metadata": {},
     "output_type": "display_data"
    },
    {
     "data": {
      "application/javascript": [
       "flexx.command(\"EXEC flexx.instances.MyWidget5._set_signal_from_py('show_slider_value', 'null', 0);\");"
      ],
      "text/plain": [
       "<IPython.core.display.Javascript object>"
      ]
     },
     "metadata": {},
     "output_type": "display_data"
    },
    {
     "data": {
      "application/javascript": [
       "flexx.command(\"EXEC flexx.instances.Slider7._set_signal_from_py('value', '0.44', '23');\");"
      ],
      "text/plain": [
       "<IPython.core.display.Javascript object>"
      ]
     },
     "metadata": {},
     "output_type": "display_data"
    },
    {
     "data": {
      "application/javascript": [
       "flexx.command('EXEC flexx.instances.Label8._set_signal_from_py(\\'text\\', \\'\"0.44\"\\', 0);');"
      ],
      "text/plain": [
       "<IPython.core.display.Javascript object>"
      ]
     },
     "metadata": {},
     "output_type": "display_data"
    },
    {
     "data": {
      "application/javascript": [
       "flexx.command(\"EXEC flexx.instances.MyWidget5._set_signal_from_py('show_slider_value', 'null', 0);\");"
      ],
      "text/plain": [
       "<IPython.core.display.Javascript object>"
      ]
     },
     "metadata": {},
     "output_type": "display_data"
    },
    {
     "data": {
      "application/javascript": [
       "flexx.command(\"EXEC flexx.instances.Slider7._set_signal_from_py('value', '0.45', '24');\");"
      ],
      "text/plain": [
       "<IPython.core.display.Javascript object>"
      ]
     },
     "metadata": {},
     "output_type": "display_data"
    },
    {
     "data": {
      "application/javascript": [
       "flexx.command('EXEC flexx.instances.Label8._set_signal_from_py(\\'text\\', \\'\"0.45\"\\', 0);');"
      ],
      "text/plain": [
       "<IPython.core.display.Javascript object>"
      ]
     },
     "metadata": {},
     "output_type": "display_data"
    },
    {
     "data": {
      "application/javascript": [
       "flexx.command(\"EXEC flexx.instances.MyWidget5._set_signal_from_py('show_slider_value', 'null', 0);\");"
      ],
      "text/plain": [
       "<IPython.core.display.Javascript object>"
      ]
     },
     "metadata": {},
     "output_type": "display_data"
    },
    {
     "data": {
      "application/javascript": [
       "flexx.command(\"EXEC flexx.instances.Slider7._set_signal_from_py('value', '0.45', '25');\");"
      ],
      "text/plain": [
       "<IPython.core.display.Javascript object>"
      ]
     },
     "metadata": {},
     "output_type": "display_data"
    },
    {
     "data": {
      "application/javascript": [
       "flexx.command('EXEC flexx.instances.Label8._set_signal_from_py(\\'text\\', \\'\"0.45\"\\', 0);');"
      ],
      "text/plain": [
       "<IPython.core.display.Javascript object>"
      ]
     },
     "metadata": {},
     "output_type": "display_data"
    },
    {
     "data": {
      "application/javascript": [
       "flexx.command(\"EXEC flexx.instances.MyWidget5._set_signal_from_py('show_slider_value', 'null', 0);\");"
      ],
      "text/plain": [
       "<IPython.core.display.Javascript object>"
      ]
     },
     "metadata": {},
     "output_type": "display_data"
    },
    {
     "data": {
      "application/javascript": [
       "flexx.command(\"EXEC flexx.instances.Slider11._set_signal_from_py('value', '0.0', '2');\");"
      ],
      "text/plain": [
       "<IPython.core.display.Javascript object>"
      ]
     },
     "metadata": {},
     "output_type": "display_data"
    },
    {
     "data": {
      "application/javascript": [
       "flexx.command('EXEC flexx.instances.Label12._set_signal_from_py(\\'text\\', \\'\"0\"\\', \\'4\\');');"
      ],
      "text/plain": [
       "<IPython.core.display.Javascript object>"
      ]
     },
     "metadata": {},
     "output_type": "display_data"
    },
    {
     "data": {
      "application/javascript": [
       "flexx.command(\"EXEC flexx.instances.Slider11._set_signal_from_py('value', '0.08', '3');\");"
      ],
      "text/plain": [
       "<IPython.core.display.Javascript object>"
      ]
     },
     "metadata": {},
     "output_type": "display_data"
    },
    {
     "data": {
      "application/javascript": [
       "flexx.command('EXEC flexx.instances.Label12._set_signal_from_py(\\'text\\', \\'\"0.08\"\\', \\'5\\');');"
      ],
      "text/plain": [
       "<IPython.core.display.Javascript object>"
      ]
     },
     "metadata": {},
     "output_type": "display_data"
    },
    {
     "data": {
      "application/javascript": [
       "flexx.command(\"EXEC flexx.instances.Slider11._set_signal_from_py('value', '0.1', '4');\");"
      ],
      "text/plain": [
       "<IPython.core.display.Javascript object>"
      ]
     },
     "metadata": {},
     "output_type": "display_data"
    },
    {
     "data": {
      "application/javascript": [
       "flexx.command('EXEC flexx.instances.Label12._set_signal_from_py(\\'text\\', \\'\"0.1\"\\', \\'6\\');');"
      ],
      "text/plain": [
       "<IPython.core.display.Javascript object>"
      ]
     },
     "metadata": {},
     "output_type": "display_data"
    },
    {
     "data": {
      "application/javascript": [
       "flexx.command(\"EXEC flexx.instances.Slider11._set_signal_from_py('value', '0.15', '5');\");"
      ],
      "text/plain": [
       "<IPython.core.display.Javascript object>"
      ]
     },
     "metadata": {},
     "output_type": "display_data"
    },
    {
     "data": {
      "application/javascript": [
       "flexx.command('EXEC flexx.instances.Label12._set_signal_from_py(\\'text\\', \\'\"0.15\"\\', \\'7\\');');"
      ],
      "text/plain": [
       "<IPython.core.display.Javascript object>"
      ]
     },
     "metadata": {},
     "output_type": "display_data"
    },
    {
     "data": {
      "application/javascript": [
       "flexx.command(\"EXEC flexx.instances.Slider11._set_signal_from_py('value', '0.2', '6');\");"
      ],
      "text/plain": [
       "<IPython.core.display.Javascript object>"
      ]
     },
     "metadata": {},
     "output_type": "display_data"
    },
    {
     "data": {
      "application/javascript": [
       "flexx.command('EXEC flexx.instances.Label12._set_signal_from_py(\\'text\\', \\'\"0.2\"\\', \\'8\\');');"
      ],
      "text/plain": [
       "<IPython.core.display.Javascript object>"
      ]
     },
     "metadata": {},
     "output_type": "display_data"
    },
    {
     "data": {
      "application/javascript": [
       "flexx.command(\"EXEC flexx.instances.Slider11._set_signal_from_py('value', '0.24', '7');\");"
      ],
      "text/plain": [
       "<IPython.core.display.Javascript object>"
      ]
     },
     "metadata": {},
     "output_type": "display_data"
    },
    {
     "data": {
      "application/javascript": [
       "flexx.command('EXEC flexx.instances.Label12._set_signal_from_py(\\'text\\', \\'\"0.24\"\\', \\'9\\');');"
      ],
      "text/plain": [
       "<IPython.core.display.Javascript object>"
      ]
     },
     "metadata": {},
     "output_type": "display_data"
    },
    {
     "data": {
      "application/javascript": [
       "flexx.command(\"EXEC flexx.instances.Slider11._set_signal_from_py('value', '0.29', '8');\");"
      ],
      "text/plain": [
       "<IPython.core.display.Javascript object>"
      ]
     },
     "metadata": {},
     "output_type": "display_data"
    },
    {
     "data": {
      "application/javascript": [
       "flexx.command('EXEC flexx.instances.Label12._set_signal_from_py(\\'text\\', \\'\"0.29\"\\', \\'10\\');');"
      ],
      "text/plain": [
       "<IPython.core.display.Javascript object>"
      ]
     },
     "metadata": {},
     "output_type": "display_data"
    },
    {
     "data": {
      "application/javascript": [
       "flexx.command(\"EXEC flexx.instances.Slider11._set_signal_from_py('value', '0.33', '9');\");"
      ],
      "text/plain": [
       "<IPython.core.display.Javascript object>"
      ]
     },
     "metadata": {},
     "output_type": "display_data"
    },
    {
     "data": {
      "application/javascript": [
       "flexx.command('EXEC flexx.instances.Label12._set_signal_from_py(\\'text\\', \\'\"0.33\"\\', \\'11\\');');"
      ],
      "text/plain": [
       "<IPython.core.display.Javascript object>"
      ]
     },
     "metadata": {},
     "output_type": "display_data"
    },
    {
     "data": {
      "application/javascript": [
       "flexx.command(\"EXEC flexx.instances.Slider11._set_signal_from_py('value', '0.38', '10');\");"
      ],
      "text/plain": [
       "<IPython.core.display.Javascript object>"
      ]
     },
     "metadata": {},
     "output_type": "display_data"
    },
    {
     "data": {
      "application/javascript": [
       "flexx.command('EXEC flexx.instances.Label12._set_signal_from_py(\\'text\\', \\'\"0.38\"\\', \\'12\\');');"
      ],
      "text/plain": [
       "<IPython.core.display.Javascript object>"
      ]
     },
     "metadata": {},
     "output_type": "display_data"
    },
    {
     "data": {
      "application/javascript": [
       "flexx.command(\"EXEC flexx.instances.Slider11._set_signal_from_py('value', '0.41', '11');\");"
      ],
      "text/plain": [
       "<IPython.core.display.Javascript object>"
      ]
     },
     "metadata": {},
     "output_type": "display_data"
    },
    {
     "data": {
      "application/javascript": [
       "flexx.command('EXEC flexx.instances.Label12._set_signal_from_py(\\'text\\', \\'\"0.41\"\\', \\'13\\');');"
      ],
      "text/plain": [
       "<IPython.core.display.Javascript object>"
      ]
     },
     "metadata": {},
     "output_type": "display_data"
    },
    {
     "data": {
      "application/javascript": [
       "flexx.command(\"EXEC flexx.instances.Slider11._set_signal_from_py('value', '0.42', '12');\");"
      ],
      "text/plain": [
       "<IPython.core.display.Javascript object>"
      ]
     },
     "metadata": {},
     "output_type": "display_data"
    },
    {
     "data": {
      "application/javascript": [
       "flexx.command('EXEC flexx.instances.Label12._set_signal_from_py(\\'text\\', \\'\"0.42\"\\', \\'14\\');');"
      ],
      "text/plain": [
       "<IPython.core.display.Javascript object>"
      ]
     },
     "metadata": {},
     "output_type": "display_data"
    },
    {
     "data": {
      "application/javascript": [
       "flexx.command(\"EXEC flexx.instances.Slider11._set_signal_from_py('value', '0.43', '13');\");"
      ],
      "text/plain": [
       "<IPython.core.display.Javascript object>"
      ]
     },
     "metadata": {},
     "output_type": "display_data"
    },
    {
     "data": {
      "application/javascript": [
       "flexx.command('EXEC flexx.instances.Label12._set_signal_from_py(\\'text\\', \\'\"0.43\"\\', \\'15\\');');"
      ],
      "text/plain": [
       "<IPython.core.display.Javascript object>"
      ]
     },
     "metadata": {},
     "output_type": "display_data"
    },
    {
     "data": {
      "application/javascript": [
       "flexx.command(\"EXEC flexx.instances.Slider11._set_signal_from_py('value', '0.46', '14');\");"
      ],
      "text/plain": [
       "<IPython.core.display.Javascript object>"
      ]
     },
     "metadata": {},
     "output_type": "display_data"
    },
    {
     "data": {
      "application/javascript": [
       "flexx.command('EXEC flexx.instances.Label12._set_signal_from_py(\\'text\\', \\'\"0.46\"\\', \\'16\\');');"
      ],
      "text/plain": [
       "<IPython.core.display.Javascript object>"
      ]
     },
     "metadata": {},
     "output_type": "display_data"
    },
    {
     "data": {
      "application/javascript": [
       "flexx.command(\"EXEC flexx.instances.Slider11._set_signal_from_py('value', '0.46', '15');\");"
      ],
      "text/plain": [
       "<IPython.core.display.Javascript object>"
      ]
     },
     "metadata": {},
     "output_type": "display_data"
    },
    {
     "data": {
      "application/javascript": [
       "flexx.command('EXEC flexx.instances.Label12._set_signal_from_py(\\'text\\', \\'\"0.46\"\\', \\'17\\');');"
      ],
      "text/plain": [
       "<IPython.core.display.Javascript object>"
      ]
     },
     "metadata": {},
     "output_type": "display_data"
    }
   ],
   "source": [
    "class MyWidget2(ui.Widget):\n",
    "    def init(self):\n",
    "        with ui.HBox():\n",
    "            self.slider = ui.Slider(flex=0)\n",
    "            self.label = ui.Label(flex=1, text='xx')\n",
    "    \n",
    "    class JS:\n",
    "        @react.connect('slider.value')\n",
    "        def show_slider_value(self, v):\n",
    "            self.label.text(str(v))\n",
    "    \n",
    "w = MyWidget2()\n",
    "w"
   ]
  }
 ],
 "metadata": {
  "kernelspec": {
   "display_name": "Python 3",
   "language": "python",
   "name": "python3"
  },
  "language_info": {
   "codemirror_mode": {
    "name": "ipython",
    "version": 3
   },
   "file_extension": ".py",
   "mimetype": "text/x-python",
   "name": "python",
   "nbconvert_exporter": "python",
   "pygments_lexer": "ipython3",
   "version": "3.4.3"
  }
 },
 "nbformat": 4,
 "nbformat_minor": 0
}
