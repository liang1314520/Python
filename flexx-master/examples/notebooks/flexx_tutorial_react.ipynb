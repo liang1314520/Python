{
 "cells": [
  {
   "cell_type": "markdown",
   "metadata": {},
   "source": [
    "# Tutorial for flexx.react - reactive programming"
   ]
  },
  {
   "cell_type": "markdown",
   "metadata": {},
   "source": [
    "Also see http://flexx.readthedocs.org/en/latest/react/"
   ]
  },
  {
   "cell_type": "markdown",
   "metadata": {},
   "source": [
    "Where classic event-driven programming is about reacting to things that happen, RP is about staying up to date with changing signals. Signals are objects that have a value which changes over time. Signals are fed with either user input or other (upstream) signal values. In that way you create a pipeline that is always kept up-to date; it defines how information flows through your application."
   ]
  },
  {
   "cell_type": "markdown",
   "metadata": {},
   "source": [
    "### Introduction"
   ]
  },
  {
   "cell_type": "code",
   "execution_count": 1,
   "metadata": {
    "collapsed": true
   },
   "outputs": [],
   "source": [
    "from flexx import react"
   ]
  },
  {
   "cell_type": "markdown",
   "metadata": {},
   "source": [
    "First, we create two input signals:"
   ]
  },
  {
   "cell_type": "code",
   "execution_count": 2,
   "metadata": {
    "collapsed": false
   },
   "outputs": [],
   "source": [
    "@react.input\n",
    "def first_name(n='John'):\n",
    "    assert isinstance(n, str)  # validation\n",
    "    return n.capitalize()  # normalization\n",
    "\n",
    "@react.input\n",
    "def last_name(n='Doe'):\n",
    "    assert isinstance(n, str)\n",
    "    return n.capitalize()"
   ]
  },
  {
   "cell_type": "markdown",
   "metadata": {},
   "source": [
    "Input signals can be called with an argument to set their value:"
   ]
  },
  {
   "cell_type": "code",
   "execution_count": 3,
   "metadata": {
    "collapsed": false
   },
   "outputs": [
    {
     "data": {
      "text/plain": [
       "'John'"
      ]
     },
     "execution_count": 3,
     "metadata": {},
     "output_type": "execute_result"
    }
   ],
   "source": [
    "first_name()  # get signal value"
   ]
  },
  {
   "cell_type": "code",
   "execution_count": 4,
   "metadata": {
    "collapsed": false
   },
   "outputs": [
    {
     "data": {
      "text/plain": [
       "'Jane'"
      ]
     },
     "execution_count": 4,
     "metadata": {},
     "output_type": "execute_result"
    }
   ],
   "source": [
    "first_name('jane')  # set signal value (for input signals)\n",
    "first_name()"
   ]
  },
  {
   "cell_type": "markdown",
   "metadata": {},
   "source": [
    "Now we create a new signal to react to changes in our input signals:"
   ]
  },
  {
   "cell_type": "code",
   "execution_count": 5,
   "metadata": {
    "collapsed": true
   },
   "outputs": [],
   "source": [
    "@react.connect('first_name', 'last_name')\n",
    "def name(first, last):\n",
    "    return '%s %s' % (first, last)"
   ]
  },
  {
   "cell_type": "markdown",
   "metadata": {},
   "source": [
    "Signals produce new values, thereby transforming or combining the upstream signals. Let's create another signal to react to the \"name\" signal:"
   ]
  },
  {
   "cell_type": "code",
   "execution_count": 6,
   "metadata": {
    "collapsed": false
   },
   "outputs": [
    {
     "name": "stdout",
     "output_type": "stream",
     "text": [
      "hello Jane Doe!\n"
     ]
    }
   ],
   "source": [
    "@react.connect('name')\n",
    "def greet(n):\n",
    "    print('hello %s!' % n)"
   ]
  },
  {
   "cell_type": "markdown",
   "metadata": {
    "collapsed": false
   },
   "source": [
    "So if we change either of the inputs ..."
   ]
  },
  {
   "cell_type": "code",
   "execution_count": 7,
   "metadata": {
    "collapsed": false
   },
   "outputs": [
    {
     "name": "stdout",
     "output_type": "stream",
     "text": [
      "hello Guido Doe!\n"
     ]
    }
   ],
   "source": [
    "first_name('Guido')"
   ]
  },
  {
   "cell_type": "code",
   "execution_count": 8,
   "metadata": {
    "collapsed": false
   },
   "outputs": [
    {
     "name": "stdout",
     "output_type": "stream",
     "text": [
      "hello Guido Van rossum!\n"
     ]
    }
   ],
   "source": [
    "last_name('van Rossum')"
   ]
  },
  {
   "cell_type": "markdown",
   "metadata": {},
   "source": [
    "### Observations:\n",
    "* The upstream signal (i.e. source) is specified *at* the callback function\n",
    "* The callback function is transformed into a signal\n",
    "* The signal produce *new* signal values, so you can create a stream/pipeline\n",
    "* Creating a pipeline provides a nice mechanism for caching values that take long to compute\n",
    "* Multiple upstream signals can be specified\n",
    "* It provides a nice integral way for user-provided data, as an alternative to properties or traits"
   ]
  },
  {
   "cell_type": "markdown",
   "metadata": {},
   "source": [
    "### The HasSignals class\n",
    "Signals can also be specified at a class:"
   ]
  },
  {
   "cell_type": "code",
   "execution_count": 9,
   "metadata": {
    "collapsed": false
   },
   "outputs": [],
   "source": [
    "class Item(react.HasSignals):\n",
    "    \n",
    "    @react.input\n",
    "    def name(n):\n",
    "        return str(n)\n",
    "\n",
    "class Collection(react.HasSignals):\n",
    "\n",
    "    @react.input\n",
    "    def items(items):\n",
    "        assert all([isinstance(i, Item) for i in items])\n",
    "        return tuple(list(items))\n",
    "    \n",
    "    @react.input\n",
    "    def ref(i):\n",
    "        assert isinstance(i, Item)\n",
    "        return i"
   ]
  },
  {
   "cell_type": "code",
   "execution_count": 10,
   "metadata": {
    "collapsed": false
   },
   "outputs": [],
   "source": [
    "itemA, itemB, itemC, itemD = Item(name='A'), Item(name='B'), Item(name='C'), Item(name='D')\n",
    "C1 = Collection(items=(itemA, itemB))\n",
    "C2 = Collection(items=(itemC, itemD))"
   ]
  },
  {
   "cell_type": "code",
   "execution_count": 11,
   "metadata": {
    "collapsed": false
   },
   "outputs": [
    {
     "data": {
      "text/plain": [
       "'B'"
      ]
     },
     "execution_count": 11,
     "metadata": {},
     "output_type": "execute_result"
    }
   ],
   "source": [
    "itemB.name()"
   ]
  },
  {
   "cell_type": "code",
   "execution_count": 12,
   "metadata": {
    "collapsed": false
   },
   "outputs": [
    {
     "data": {
      "text/plain": [
       "(<__main__.Item at 0x7f3368230470>, <__main__.Item at 0x7f33682304a8>)"
      ]
     },
     "execution_count": 12,
     "metadata": {},
     "output_type": "execute_result"
    }
   ],
   "source": [
    "C1.items()"
   ]
  },
  {
   "cell_type": "markdown",
   "metadata": {},
   "source": [
    "### Dynamism\n",
    "We subclass `Collection` and define reactions to signals of signals. Any change in a collections' `ref` or in the name of that `ref` will invoke an update of `show_ref_name`. Similary, `show_index` is updated when the list of items changes, or *any* of the names of the items:"
   ]
  },
  {
   "cell_type": "code",
   "execution_count": 13,
   "metadata": {
    "collapsed": true
   },
   "outputs": [],
   "source": [
    "class Collection2(Collection):\n",
    "    \n",
    "    @react.connect('ref.name')\n",
    "    def show_ref_name(name):\n",
    "        print('The ref is %s' % name)\n",
    "    \n",
    "    @react.connect('items.*.name')\n",
    "    def show_index(*names):\n",
    "        print('index: '+ ', '.join(names))"
   ]
  },
  {
   "cell_type": "code",
   "execution_count": 14,
   "metadata": {
    "collapsed": false
   },
   "outputs": [
    {
     "name": "stdout",
     "output_type": "stream",
     "text": [
      "index: A, B\n",
      "index: C\n"
     ]
    }
   ],
   "source": [
    "itemA, itemB, itemC, itemD = Item(name='A'), Item(name='B'), Item(name='C'), Item(name='D')\n",
    "C1 = Collection2(items=(itemA, itemB))\n",
    "C2 = Collection2(items=(itemC, ))"
   ]
  },
  {
   "cell_type": "code",
   "execution_count": 15,
   "metadata": {
    "collapsed": false
   },
   "outputs": [
    {
     "name": "stdout",
     "output_type": "stream",
     "text": [
      "The ref is A\n"
     ]
    }
   ],
   "source": [
    "C1.ref(itemA)"
   ]
  },
  {
   "cell_type": "code",
   "execution_count": 16,
   "metadata": {
    "collapsed": false
   },
   "outputs": [
    {
     "name": "stdout",
     "output_type": "stream",
     "text": [
      "The ref is D\n"
     ]
    }
   ],
   "source": [
    "C1.ref(itemD)"
   ]
  },
  {
   "cell_type": "code",
   "execution_count": 17,
   "metadata": {
    "collapsed": false
   },
   "outputs": [
    {
     "name": "stdout",
     "output_type": "stream",
     "text": [
      "The ref is D-renamed\n"
     ]
    }
   ],
   "source": [
    "itemD.name('D-renamed')"
   ]
  },
  {
   "cell_type": "code",
   "execution_count": 18,
   "metadata": {
    "collapsed": false
   },
   "outputs": [
    {
     "name": "stdout",
     "output_type": "stream",
     "text": [
      "index: C, D-renamed\n"
     ]
    }
   ],
   "source": [
    "C2.items([itemC, itemD])"
   ]
  },
  {
   "cell_type": "code",
   "execution_count": 19,
   "metadata": {
    "collapsed": false
   },
   "outputs": [
    {
     "name": "stdout",
     "output_type": "stream",
     "text": [
      "index: C-renamed, D-renamed\n"
     ]
    }
   ],
   "source": [
    "itemC.name('C-renamed')"
   ]
  },
  {
   "cell_type": "markdown",
   "metadata": {
    "collapsed": true
   },
   "source": [
    "### Lazy evaluation\n",
    "By default react uses a push approach, which is useful in GUI's. In other situation, a pull approach might be more appropriate."
   ]
  },
  {
   "cell_type": "code",
   "execution_count": 20,
   "metadata": {
    "collapsed": true
   },
   "outputs": [],
   "source": [
    "@react.input\n",
    "def foo(v):\n",
    "    return str(v)\n",
    "\n",
    "@react.lazy('foo')\n",
    "def bar(v):\n",
    "    print('update bar')\n",
    "    return v * 10  # imagine that this is an expensive operation"
   ]
  },
  {
   "cell_type": "code",
   "execution_count": 21,
   "metadata": {
    "collapsed": false
   },
   "outputs": [
    {
     "name": "stdout",
     "output_type": "stream",
     "text": [
      "update bar\n"
     ]
    },
    {
     "data": {
      "text/plain": [
       "'hihihihihihihihihihi'"
      ]
     },
     "execution_count": 21,
     "metadata": {},
     "output_type": "execute_result"
    }
   ],
   "source": [
    "foo('hello')  # Does not trigger bar\n",
    "foo('heya')\n",
    "foo('hi')\n",
    "bar()  # this is where bar gets updated"
   ]
  },
  {
   "cell_type": "code",
   "execution_count": 22,
   "metadata": {
    "collapsed": false
   },
   "outputs": [
    {
     "data": {
      "text/plain": [
       "'hihihihihihihihihihi'"
      ]
     },
     "execution_count": 22,
     "metadata": {},
     "output_type": "execute_result"
    }
   ],
   "source": [
    "bar()  # foo has not changed; cached value is returned"
   ]
  },
  {
   "cell_type": "markdown",
   "metadata": {},
   "source": [
    "### Signal history\n",
    "Signals store their current value as well as the previous value. (The timestamps are also stored, though these are not yet available via the public API.)"
   ]
  },
  {
   "cell_type": "code",
   "execution_count": 23,
   "metadata": {
    "collapsed": false
   },
   "outputs": [
    {
     "name": "stdout",
     "output_type": "stream",
     "text": [
      "diff:  0.0\n"
     ]
    }
   ],
   "source": [
    "@react.input\n",
    "def some_value(v=0):\n",
    "    return float(v)\n",
    "some_value(0)  # init\n",
    "\n",
    "@react.connect('some_value')\n",
    "def show_diff(s):\n",
    "    print('diff: ', s - some_value.last_value)  # note: we might rename this to previous_value"
   ]
  },
  {
   "cell_type": "code",
   "execution_count": 24,
   "metadata": {
    "collapsed": false
   },
   "outputs": [
    {
     "name": "stdout",
     "output_type": "stream",
     "text": [
      "diff:  10.0\n"
     ]
    }
   ],
   "source": [
    "some_value(10)"
   ]
  },
  {
   "cell_type": "code",
   "execution_count": 25,
   "metadata": {
    "collapsed": false
   },
   "outputs": [
    {
     "name": "stdout",
     "output_type": "stream",
     "text": [
      "diff:  2.0\n"
     ]
    }
   ],
   "source": [
    "some_value(12)"
   ]
  }
 ],
 "metadata": {
  "kernelspec": {
   "display_name": "Python 3",
   "language": "python",
   "name": "python3"
  },
  "language_info": {
   "codemirror_mode": {
    "name": "ipython",
    "version": 3
   },
   "file_extension": ".py",
   "mimetype": "text/x-python",
   "name": "python",
   "nbconvert_exporter": "python",
   "pygments_lexer": "ipython3",
   "version": "3.4.3"
  }
 },
 "nbformat": 4,
 "nbformat_minor": 0
}
